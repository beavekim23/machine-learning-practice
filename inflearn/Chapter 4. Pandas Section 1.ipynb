{
 "cells": [
  {
   "cell_type": "code",
   "execution_count": 1,
   "metadata": {},
   "outputs": [],
   "source": [
    "import pandas as pd\n",
    "from pandas import Series, DataFrame\n",
    "import numpy as np"
   ]
  },
  {
   "cell_type": "markdown",
   "metadata": {},
   "source": [
    "# 1. Series\n",
    "- DataFrame 중 하나의 column에 해당하는 데이터의 모음 Object  \n",
    "- Subclass of numpy, ndarray  \n",
    "- Data: any type  \n",
    "- Index labels need not be ordered  \n",
    "- Duplicates are possible but result in reduced functionality"
   ]
  },
  {
   "cell_type": "markdown",
   "metadata": {},
   "source": [
    "<img src=\"./img/pandas_series.png\" width=\"600\" style=\"float:left\">"
   ]
  },
  {
   "cell_type": "code",
   "execution_count": 2,
   "metadata": {},
   "outputs": [
    {
     "data": {
      "text/plain": [
       "0    1\n",
       "1    2\n",
       "2    3\n",
       "3    4\n",
       "4    5\n",
       "dtype: int64"
      ]
     },
     "execution_count": 2,
     "metadata": {},
     "output_type": "execute_result"
    }
   ],
   "source": [
    "list_data = [1,2,3,4,5]\n",
    "example_obj = Series(data = list_data)\n",
    "example_obj"
   ]
  },
  {
   "cell_type": "code",
   "execution_count": 3,
   "metadata": {},
   "outputs": [
    {
     "data": {
      "text/plain": [
       "a    1\n",
       "b    2\n",
       "c    3\n",
       "d    4\n",
       "e    5\n",
       "dtype: int64"
      ]
     },
     "execution_count": 3,
     "metadata": {},
     "output_type": "execute_result"
    }
   ],
   "source": [
    "list_data = [1,2,3,4,5]\n",
    "list_name = [\"a\", \"b\", \"c\", \"d\", \"e\"]\n",
    "example_obj = Series(data = list_data, index = list_name)\n",
    "example_obj"
   ]
  },
  {
   "cell_type": "code",
   "execution_count": 6,
   "metadata": {},
   "outputs": [
    {
     "data": {
      "text/plain": [
       "a    1.0\n",
       "b    2.0\n",
       "c    3.0\n",
       "d    4.0\n",
       "e    5.0\n",
       "Name: example_data, dtype: float32"
      ]
     },
     "execution_count": 6,
     "metadata": {},
     "output_type": "execute_result"
    }
   ],
   "source": [
    "dict_data = {\"a\":1, \"b\":2, \"c\":3, \"d\":4, \"e\":5}\n",
    "example_obj = Series(dict_data, dtype=np.float32, name=\"example_data\")\n",
    "example_obj"
   ]
  },
  {
   "cell_type": "code",
   "execution_count": 7,
   "metadata": {},
   "outputs": [
    {
     "data": {
      "text/plain": [
       "1.0"
      ]
     },
     "execution_count": 7,
     "metadata": {},
     "output_type": "execute_result"
    }
   ],
   "source": [
    "example_obj[\"a\"]"
   ]
  },
  {
   "cell_type": "code",
   "execution_count": 8,
   "metadata": {
    "scrolled": true
   },
   "outputs": [
    {
     "data": {
      "text/plain": [
       "a    3.2\n",
       "b    2.0\n",
       "c    3.0\n",
       "d    4.0\n",
       "e    5.0\n",
       "Name: example_data, dtype: float32"
      ]
     },
     "execution_count": 8,
     "metadata": {},
     "output_type": "execute_result"
    }
   ],
   "source": [
    "example_obj[\"a\"] = 3.2\n",
    "example_obj"
   ]
  },
  {
   "cell_type": "code",
   "execution_count": 9,
   "metadata": {},
   "outputs": [
    {
     "data": {
      "text/plain": [
       "array([3.2, 2. , 3. , 4. , 5. ], dtype=float32)"
      ]
     },
     "execution_count": 9,
     "metadata": {},
     "output_type": "execute_result"
    }
   ],
   "source": [
    "example_obj.values"
   ]
  },
  {
   "cell_type": "code",
   "execution_count": 10,
   "metadata": {},
   "outputs": [
    {
     "data": {
      "text/plain": [
       "Index(['a', 'b', 'c', 'd', 'e'], dtype='object')"
      ]
     },
     "execution_count": 10,
     "metadata": {},
     "output_type": "execute_result"
    }
   ],
   "source": [
    "example_obj.index"
   ]
  },
  {
   "cell_type": "code",
   "execution_count": 11,
   "metadata": {},
   "outputs": [
    {
     "data": {
      "text/plain": [
       "alphabet\n",
       "a    3.2\n",
       "b    2.0\n",
       "c    3.0\n",
       "d    4.0\n",
       "e    5.0\n",
       "Name: number, dtype: float32"
      ]
     },
     "execution_count": 11,
     "metadata": {},
     "output_type": "execute_result"
    }
   ],
   "source": [
    "example_obj.name = \"number\"\n",
    "example_obj.index.name = \"alphabet\"\n",
    "example_obj"
   ]
  },
  {
   "cell_type": "code",
   "execution_count": 13,
   "metadata": {},
   "outputs": [
    {
     "data": {
      "text/plain": [
       "a    1.0\n",
       "b    2.0\n",
       "c    3.0\n",
       "d    4.0\n",
       "e    5.0\n",
       "f    NaN\n",
       "g    NaN\n",
       "h    NaN\n",
       "dtype: float64"
      ]
     },
     "execution_count": 13,
     "metadata": {},
     "output_type": "execute_result"
    }
   ],
   "source": [
    "dict_data_1 = {\"a\":1, \"b\":2, \"c\":3, \"d\":4, \"e\":5}\n",
    "indexes = [\"a\", \"b\", \"c\", \"d\", \"e\", \"f\", \"g\", \"h\"]\n",
    "series_obj_1 = Series(dict_data_1, index=indexes)\n",
    "series_obj_1"
   ]
  },
  {
   "cell_type": "markdown",
   "metadata": {},
   "source": [
    "# 2. DataFrame"
   ]
  },
  {
   "cell_type": "markdown",
   "metadata": {},
   "source": [
    "- NumPy array-like  \n",
    "- Each column can have a different type  \n",
    "- Row and column index  \n",
    "- Size mutable: insert and delete columns"
   ]
  },
  {
   "cell_type": "code",
   "execution_count": 14,
   "metadata": {},
   "outputs": [
    {
     "data": {
      "text/html": [
       "<div>\n",
       "<style scoped>\n",
       "    .dataframe tbody tr th:only-of-type {\n",
       "        vertical-align: middle;\n",
       "    }\n",
       "\n",
       "    .dataframe tbody tr th {\n",
       "        vertical-align: top;\n",
       "    }\n",
       "\n",
       "    .dataframe thead th {\n",
       "        text-align: right;\n",
       "    }\n",
       "</style>\n",
       "<table border=\"1\" class=\"dataframe\">\n",
       "  <thead>\n",
       "    <tr style=\"text-align: right;\">\n",
       "      <th></th>\n",
       "      <th>first_name</th>\n",
       "      <th>last_name</th>\n",
       "      <th>age</th>\n",
       "      <th>city</th>\n",
       "    </tr>\n",
       "  </thead>\n",
       "  <tbody>\n",
       "    <tr>\n",
       "      <th>0</th>\n",
       "      <td>Jason</td>\n",
       "      <td>Miller</td>\n",
       "      <td>42</td>\n",
       "      <td>San Francisco</td>\n",
       "    </tr>\n",
       "    <tr>\n",
       "      <th>1</th>\n",
       "      <td>Molly</td>\n",
       "      <td>Jacobson</td>\n",
       "      <td>52</td>\n",
       "      <td>Baltimore</td>\n",
       "    </tr>\n",
       "    <tr>\n",
       "      <th>2</th>\n",
       "      <td>Tina</td>\n",
       "      <td>Ali</td>\n",
       "      <td>36</td>\n",
       "      <td>Miami</td>\n",
       "    </tr>\n",
       "    <tr>\n",
       "      <th>3</th>\n",
       "      <td>Jake</td>\n",
       "      <td>Milner</td>\n",
       "      <td>24</td>\n",
       "      <td>Douglas</td>\n",
       "    </tr>\n",
       "    <tr>\n",
       "      <th>4</th>\n",
       "      <td>Amy</td>\n",
       "      <td>Cooze</td>\n",
       "      <td>73</td>\n",
       "      <td>Boston</td>\n",
       "    </tr>\n",
       "  </tbody>\n",
       "</table>\n",
       "</div>"
      ],
      "text/plain": [
       "  first_name last_name  age           city\n",
       "0      Jason    Miller   42  San Francisco\n",
       "1      Molly  Jacobson   52      Baltimore\n",
       "2       Tina       Ali   36          Miami\n",
       "3       Jake    Milner   24        Douglas\n",
       "4        Amy     Cooze   73         Boston"
      ]
     },
     "execution_count": 14,
     "metadata": {},
     "output_type": "execute_result"
    }
   ],
   "source": [
    "raw_data = {'first_name': ['Jason', 'Molly', 'Tina', 'Jake', 'Amy'],\n",
    "           'last_name' : ['Miller', 'Jacobson', 'Ali', 'Milner', 'Cooze'],\n",
    "            'age' : [42, 52, 36, 24, 73],\n",
    "            'city' : ['San Francisco', 'Baltimore', 'Miami', 'Douglas', 'Boston']\n",
    "           }\n",
    "df = pd.DataFrame(raw_data, columns = ['first_name', 'last_name', 'age', 'city'])\n",
    "df"
   ]
  },
  {
   "cell_type": "code",
   "execution_count": 15,
   "metadata": {},
   "outputs": [
    {
     "data": {
      "text/html": [
       "<div>\n",
       "<style scoped>\n",
       "    .dataframe tbody tr th:only-of-type {\n",
       "        vertical-align: middle;\n",
       "    }\n",
       "\n",
       "    .dataframe tbody tr th {\n",
       "        vertical-align: top;\n",
       "    }\n",
       "\n",
       "    .dataframe thead th {\n",
       "        text-align: right;\n",
       "    }\n",
       "</style>\n",
       "<table border=\"1\" class=\"dataframe\">\n",
       "  <thead>\n",
       "    <tr style=\"text-align: right;\">\n",
       "      <th></th>\n",
       "      <th>age</th>\n",
       "      <th>city</th>\n",
       "    </tr>\n",
       "  </thead>\n",
       "  <tbody>\n",
       "    <tr>\n",
       "      <th>0</th>\n",
       "      <td>42</td>\n",
       "      <td>San Francisco</td>\n",
       "    </tr>\n",
       "    <tr>\n",
       "      <th>1</th>\n",
       "      <td>52</td>\n",
       "      <td>Baltimore</td>\n",
       "    </tr>\n",
       "    <tr>\n",
       "      <th>2</th>\n",
       "      <td>36</td>\n",
       "      <td>Miami</td>\n",
       "    </tr>\n",
       "    <tr>\n",
       "      <th>3</th>\n",
       "      <td>24</td>\n",
       "      <td>Douglas</td>\n",
       "    </tr>\n",
       "    <tr>\n",
       "      <th>4</th>\n",
       "      <td>73</td>\n",
       "      <td>Boston</td>\n",
       "    </tr>\n",
       "  </tbody>\n",
       "</table>\n",
       "</div>"
      ],
      "text/plain": [
       "   age           city\n",
       "0   42  San Francisco\n",
       "1   52      Baltimore\n",
       "2   36          Miami\n",
       "3   24        Douglas\n",
       "4   73         Boston"
      ]
     },
     "execution_count": 15,
     "metadata": {},
     "output_type": "execute_result"
    }
   ],
   "source": [
    "# column 선택\n",
    "DataFrame(raw_data, columns = ['age', 'city'])"
   ]
  },
  {
   "cell_type": "code",
   "execution_count": 16,
   "metadata": {},
   "outputs": [
    {
     "data": {
      "text/html": [
       "<div>\n",
       "<style scoped>\n",
       "    .dataframe tbody tr th:only-of-type {\n",
       "        vertical-align: middle;\n",
       "    }\n",
       "\n",
       "    .dataframe tbody tr th {\n",
       "        vertical-align: top;\n",
       "    }\n",
       "\n",
       "    .dataframe thead th {\n",
       "        text-align: right;\n",
       "    }\n",
       "</style>\n",
       "<table border=\"1\" class=\"dataframe\">\n",
       "  <thead>\n",
       "    <tr style=\"text-align: right;\">\n",
       "      <th></th>\n",
       "      <th>first_name</th>\n",
       "      <th>last_name</th>\n",
       "      <th>age</th>\n",
       "      <th>city</th>\n",
       "      <th>debt</th>\n",
       "    </tr>\n",
       "  </thead>\n",
       "  <tbody>\n",
       "    <tr>\n",
       "      <th>0</th>\n",
       "      <td>Jason</td>\n",
       "      <td>Miller</td>\n",
       "      <td>42</td>\n",
       "      <td>San Francisco</td>\n",
       "      <td>NaN</td>\n",
       "    </tr>\n",
       "    <tr>\n",
       "      <th>1</th>\n",
       "      <td>Molly</td>\n",
       "      <td>Jacobson</td>\n",
       "      <td>52</td>\n",
       "      <td>Baltimore</td>\n",
       "      <td>NaN</td>\n",
       "    </tr>\n",
       "    <tr>\n",
       "      <th>2</th>\n",
       "      <td>Tina</td>\n",
       "      <td>Ali</td>\n",
       "      <td>36</td>\n",
       "      <td>Miami</td>\n",
       "      <td>NaN</td>\n",
       "    </tr>\n",
       "    <tr>\n",
       "      <th>3</th>\n",
       "      <td>Jake</td>\n",
       "      <td>Milner</td>\n",
       "      <td>24</td>\n",
       "      <td>Douglas</td>\n",
       "      <td>NaN</td>\n",
       "    </tr>\n",
       "    <tr>\n",
       "      <th>4</th>\n",
       "      <td>Amy</td>\n",
       "      <td>Cooze</td>\n",
       "      <td>73</td>\n",
       "      <td>Boston</td>\n",
       "      <td>NaN</td>\n",
       "    </tr>\n",
       "  </tbody>\n",
       "</table>\n",
       "</div>"
      ],
      "text/plain": [
       "  first_name last_name  age           city debt\n",
       "0      Jason    Miller   42  San Francisco  NaN\n",
       "1      Molly  Jacobson   52      Baltimore  NaN\n",
       "2       Tina       Ali   36          Miami  NaN\n",
       "3       Jake    Milner   24        Douglas  NaN\n",
       "4        Amy     Cooze   73         Boston  NaN"
      ]
     },
     "execution_count": 16,
     "metadata": {},
     "output_type": "execute_result"
    }
   ],
   "source": [
    "# 새로운 column 추가\n",
    "DataFrame(raw_data, columns = ['first_name', 'last_name', 'age', 'city', 'debt'])"
   ]
  },
  {
   "cell_type": "code",
   "execution_count": 17,
   "metadata": {},
   "outputs": [
    {
     "data": {
      "text/plain": [
       "0    Jason\n",
       "1    Molly\n",
       "2     Tina\n",
       "3     Jake\n",
       "4      Amy\n",
       "Name: first_name, dtype: object"
      ]
     },
     "execution_count": 17,
     "metadata": {},
     "output_type": "execute_result"
    }
   ],
   "source": [
    "# column 선택 - series 추출 1 \n",
    "df = DataFrame(raw_data, columns = ['first_name', 'last_name', 'age', 'city', 'debt'])\n",
    "df.first_name"
   ]
  },
  {
   "cell_type": "code",
   "execution_count": 18,
   "metadata": {},
   "outputs": [
    {
     "data": {
      "text/plain": [
       "0    Jason\n",
       "1    Molly\n",
       "2     Tina\n",
       "3     Jake\n",
       "4      Amy\n",
       "Name: first_name, dtype: object"
      ]
     },
     "execution_count": 18,
     "metadata": {},
     "output_type": "execute_result"
    }
   ],
   "source": [
    "# column 선택- series 추출 2\n",
    "df['first_name']"
   ]
  },
  {
   "cell_type": "code",
   "execution_count": 19,
   "metadata": {},
   "outputs": [
    {
     "data": {
      "text/html": [
       "<div>\n",
       "<style scoped>\n",
       "    .dataframe tbody tr th:only-of-type {\n",
       "        vertical-align: middle;\n",
       "    }\n",
       "\n",
       "    .dataframe tbody tr th {\n",
       "        vertical-align: top;\n",
       "    }\n",
       "\n",
       "    .dataframe thead th {\n",
       "        text-align: right;\n",
       "    }\n",
       "</style>\n",
       "<table border=\"1\" class=\"dataframe\">\n",
       "  <thead>\n",
       "    <tr style=\"text-align: right;\">\n",
       "      <th></th>\n",
       "      <th>first_name</th>\n",
       "      <th>last_name</th>\n",
       "      <th>age</th>\n",
       "      <th>city</th>\n",
       "      <th>debt</th>\n",
       "    </tr>\n",
       "  </thead>\n",
       "  <tbody>\n",
       "    <tr>\n",
       "      <th>0</th>\n",
       "      <td>Jason</td>\n",
       "      <td>Miller</td>\n",
       "      <td>42</td>\n",
       "      <td>San Francisco</td>\n",
       "      <td>NaN</td>\n",
       "    </tr>\n",
       "    <tr>\n",
       "      <th>1</th>\n",
       "      <td>Molly</td>\n",
       "      <td>Jacobson</td>\n",
       "      <td>52</td>\n",
       "      <td>Baltimore</td>\n",
       "      <td>NaN</td>\n",
       "    </tr>\n",
       "    <tr>\n",
       "      <th>2</th>\n",
       "      <td>Tina</td>\n",
       "      <td>Ali</td>\n",
       "      <td>36</td>\n",
       "      <td>Miami</td>\n",
       "      <td>NaN</td>\n",
       "    </tr>\n",
       "    <tr>\n",
       "      <th>3</th>\n",
       "      <td>Jake</td>\n",
       "      <td>Milner</td>\n",
       "      <td>24</td>\n",
       "      <td>Douglas</td>\n",
       "      <td>NaN</td>\n",
       "    </tr>\n",
       "    <tr>\n",
       "      <th>4</th>\n",
       "      <td>Amy</td>\n",
       "      <td>Cooze</td>\n",
       "      <td>73</td>\n",
       "      <td>Boston</td>\n",
       "      <td>NaN</td>\n",
       "    </tr>\n",
       "  </tbody>\n",
       "</table>\n",
       "</div>"
      ],
      "text/plain": [
       "  first_name last_name  age           city debt\n",
       "0      Jason    Miller   42  San Francisco  NaN\n",
       "1      Molly  Jacobson   52      Baltimore  NaN\n",
       "2       Tina       Ali   36          Miami  NaN\n",
       "3       Jake    Milner   24        Douglas  NaN\n",
       "4        Amy     Cooze   73         Boston  NaN"
      ]
     },
     "execution_count": 19,
     "metadata": {},
     "output_type": "execute_result"
    }
   ],
   "source": [
    "df"
   ]
  },
  {
   "cell_type": "code",
   "execution_count": 20,
   "metadata": {},
   "outputs": [
    {
     "data": {
      "text/plain": [
       "first_name        Molly\n",
       "last_name      Jacobson\n",
       "age                  52\n",
       "city          Baltimore\n",
       "debt                NaN\n",
       "Name: 1, dtype: object"
      ]
     },
     "execution_count": 20,
     "metadata": {},
     "output_type": "execute_result"
    }
   ],
   "source": [
    "# loc : index location\n",
    "df.loc[1] # index 1에 해당하는 데이터 추출"
   ]
  },
  {
   "cell_type": "code",
   "execution_count": 21,
   "metadata": {},
   "outputs": [
    {
     "data": {
      "text/plain": [
       "1    52\n",
       "2    36\n",
       "3    24\n",
       "4    73\n",
       "Name: age, dtype: int64"
      ]
     },
     "execution_count": 21,
     "metadata": {},
     "output_type": "execute_result"
    }
   ],
   "source": [
    "# iloc : index position\n",
    "df['age'].iloc[1:]"
   ]
  },
  {
   "cell_type": "markdown",
   "metadata": {},
   "source": [
    "- loc은 index이름, iloc은 index number"
   ]
  },
  {
   "cell_type": "code",
   "execution_count": 25,
   "metadata": {},
   "outputs": [
    {
     "data": {
      "text/plain": [
       "49   NaN\n",
       "48   NaN\n",
       "47   NaN\n",
       "46   NaN\n",
       "45   NaN\n",
       "1    NaN\n",
       "2    NaN\n",
       "3    NaN\n",
       "dtype: float64"
      ]
     },
     "execution_count": 25,
     "metadata": {},
     "output_type": "execute_result"
    }
   ],
   "source": [
    "s = pd.Series(np.nan, index=[49,48,47,46,45,1,2,3,4,5])\n",
    "s.loc[:3] # index '이름'이 3인 데이터까지 추출"
   ]
  },
  {
   "cell_type": "code",
   "execution_count": 26,
   "metadata": {},
   "outputs": [
    {
     "data": {
      "text/plain": [
       "49   NaN\n",
       "48   NaN\n",
       "47   NaN\n",
       "dtype: float64"
      ]
     },
     "execution_count": 26,
     "metadata": {},
     "output_type": "execute_result"
    }
   ],
   "source": [
    "s.iloc[:3] #3번째 index까지 데이터 추출"
   ]
  },
  {
   "cell_type": "code",
   "execution_count": 27,
   "metadata": {},
   "outputs": [
    {
     "data": {
      "text/html": [
       "<div>\n",
       "<style scoped>\n",
       "    .dataframe tbody tr th:only-of-type {\n",
       "        vertical-align: middle;\n",
       "    }\n",
       "\n",
       "    .dataframe tbody tr th {\n",
       "        vertical-align: top;\n",
       "    }\n",
       "\n",
       "    .dataframe thead th {\n",
       "        text-align: right;\n",
       "    }\n",
       "</style>\n",
       "<table border=\"1\" class=\"dataframe\">\n",
       "  <thead>\n",
       "    <tr style=\"text-align: right;\">\n",
       "      <th></th>\n",
       "      <th>first_name</th>\n",
       "      <th>last_name</th>\n",
       "      <th>age</th>\n",
       "      <th>city</th>\n",
       "      <th>debt</th>\n",
       "    </tr>\n",
       "  </thead>\n",
       "  <tbody>\n",
       "    <tr>\n",
       "      <th>0</th>\n",
       "      <td>Jason</td>\n",
       "      <td>Miller</td>\n",
       "      <td>42</td>\n",
       "      <td>San Francisco</td>\n",
       "      <td>True</td>\n",
       "    </tr>\n",
       "    <tr>\n",
       "      <th>1</th>\n",
       "      <td>Molly</td>\n",
       "      <td>Jacobson</td>\n",
       "      <td>52</td>\n",
       "      <td>Baltimore</td>\n",
       "      <td>True</td>\n",
       "    </tr>\n",
       "    <tr>\n",
       "      <th>2</th>\n",
       "      <td>Tina</td>\n",
       "      <td>Ali</td>\n",
       "      <td>36</td>\n",
       "      <td>Miami</td>\n",
       "      <td>False</td>\n",
       "    </tr>\n",
       "    <tr>\n",
       "      <th>3</th>\n",
       "      <td>Jake</td>\n",
       "      <td>Milner</td>\n",
       "      <td>24</td>\n",
       "      <td>Douglas</td>\n",
       "      <td>False</td>\n",
       "    </tr>\n",
       "    <tr>\n",
       "      <th>4</th>\n",
       "      <td>Amy</td>\n",
       "      <td>Cooze</td>\n",
       "      <td>73</td>\n",
       "      <td>Boston</td>\n",
       "      <td>True</td>\n",
       "    </tr>\n",
       "  </tbody>\n",
       "</table>\n",
       "</div>"
      ],
      "text/plain": [
       "  first_name last_name  age           city   debt\n",
       "0      Jason    Miller   42  San Francisco   True\n",
       "1      Molly  Jacobson   52      Baltimore   True\n",
       "2       Tina       Ali   36          Miami  False\n",
       "3       Jake    Milner   24        Douglas  False\n",
       "4        Amy     Cooze   73         Boston   True"
      ]
     },
     "execution_count": 27,
     "metadata": {},
     "output_type": "execute_result"
    }
   ],
   "source": [
    "# column에 새로운 데이터 할당 1 \n",
    "df.debt = df.age > 40\n",
    "df"
   ]
  },
  {
   "cell_type": "code",
   "execution_count": 35,
   "metadata": {},
   "outputs": [
    {
     "data": {
      "text/html": [
       "<div>\n",
       "<style scoped>\n",
       "    .dataframe tbody tr th:only-of-type {\n",
       "        vertical-align: middle;\n",
       "    }\n",
       "\n",
       "    .dataframe tbody tr th {\n",
       "        vertical-align: top;\n",
       "    }\n",
       "\n",
       "    .dataframe thead th {\n",
       "        text-align: right;\n",
       "    }\n",
       "</style>\n",
       "<table border=\"1\" class=\"dataframe\">\n",
       "  <thead>\n",
       "    <tr style=\"text-align: right;\">\n",
       "      <th></th>\n",
       "      <th>first_name</th>\n",
       "      <th>last_name</th>\n",
       "      <th>age</th>\n",
       "      <th>city</th>\n",
       "      <th>sex</th>\n",
       "    </tr>\n",
       "  </thead>\n",
       "  <tbody>\n",
       "    <tr>\n",
       "      <th>0</th>\n",
       "      <td>Jason</td>\n",
       "      <td>Miller</td>\n",
       "      <td>42</td>\n",
       "      <td>San Francisco</td>\n",
       "      <td>M</td>\n",
       "    </tr>\n",
       "    <tr>\n",
       "      <th>1</th>\n",
       "      <td>Molly</td>\n",
       "      <td>Jacobson</td>\n",
       "      <td>52</td>\n",
       "      <td>Baltimore</td>\n",
       "      <td>F</td>\n",
       "    </tr>\n",
       "    <tr>\n",
       "      <th>2</th>\n",
       "      <td>Tina</td>\n",
       "      <td>Ali</td>\n",
       "      <td>36</td>\n",
       "      <td>Miami</td>\n",
       "      <td>F</td>\n",
       "    </tr>\n",
       "    <tr>\n",
       "      <th>3</th>\n",
       "      <td>Jake</td>\n",
       "      <td>Milner</td>\n",
       "      <td>24</td>\n",
       "      <td>Douglas</td>\n",
       "      <td>NaN</td>\n",
       "    </tr>\n",
       "    <tr>\n",
       "      <th>4</th>\n",
       "      <td>Amy</td>\n",
       "      <td>Cooze</td>\n",
       "      <td>73</td>\n",
       "      <td>Boston</td>\n",
       "      <td>NaN</td>\n",
       "    </tr>\n",
       "  </tbody>\n",
       "</table>\n",
       "</div>"
      ],
      "text/plain": [
       "  first_name last_name  age           city  sex\n",
       "0      Jason    Miller   42  San Francisco    M\n",
       "1      Molly  Jacobson   52      Baltimore    F\n",
       "2       Tina       Ali   36          Miami    F\n",
       "3       Jake    Milner   24        Douglas  NaN\n",
       "4        Amy     Cooze   73         Boston  NaN"
      ]
     },
     "execution_count": 35,
     "metadata": {},
     "output_type": "execute_result"
    }
   ],
   "source": [
    "# column에 새로운 데이터 할당 2\n",
    "values = Series(data=[\"M\", \"F\", \"F\"], index=[0,1,2])\n",
    "df[\"sex\"] = values\n",
    "df"
   ]
  },
  {
   "cell_type": "code",
   "execution_count": 28,
   "metadata": {},
   "outputs": [
    {
     "data": {
      "text/html": [
       "<div>\n",
       "<style scoped>\n",
       "    .dataframe tbody tr th:only-of-type {\n",
       "        vertical-align: middle;\n",
       "    }\n",
       "\n",
       "    .dataframe tbody tr th {\n",
       "        vertical-align: top;\n",
       "    }\n",
       "\n",
       "    .dataframe thead th {\n",
       "        text-align: right;\n",
       "    }\n",
       "</style>\n",
       "<table border=\"1\" class=\"dataframe\">\n",
       "  <thead>\n",
       "    <tr style=\"text-align: right;\">\n",
       "      <th></th>\n",
       "      <th>0</th>\n",
       "      <th>1</th>\n",
       "      <th>2</th>\n",
       "      <th>3</th>\n",
       "      <th>4</th>\n",
       "    </tr>\n",
       "  </thead>\n",
       "  <tbody>\n",
       "    <tr>\n",
       "      <th>first_name</th>\n",
       "      <td>Jason</td>\n",
       "      <td>Molly</td>\n",
       "      <td>Tina</td>\n",
       "      <td>Jake</td>\n",
       "      <td>Amy</td>\n",
       "    </tr>\n",
       "    <tr>\n",
       "      <th>last_name</th>\n",
       "      <td>Miller</td>\n",
       "      <td>Jacobson</td>\n",
       "      <td>Ali</td>\n",
       "      <td>Milner</td>\n",
       "      <td>Cooze</td>\n",
       "    </tr>\n",
       "    <tr>\n",
       "      <th>age</th>\n",
       "      <td>42</td>\n",
       "      <td>52</td>\n",
       "      <td>36</td>\n",
       "      <td>24</td>\n",
       "      <td>73</td>\n",
       "    </tr>\n",
       "    <tr>\n",
       "      <th>city</th>\n",
       "      <td>San Francisco</td>\n",
       "      <td>Baltimore</td>\n",
       "      <td>Miami</td>\n",
       "      <td>Douglas</td>\n",
       "      <td>Boston</td>\n",
       "    </tr>\n",
       "    <tr>\n",
       "      <th>debt</th>\n",
       "      <td>True</td>\n",
       "      <td>True</td>\n",
       "      <td>False</td>\n",
       "      <td>False</td>\n",
       "      <td>True</td>\n",
       "    </tr>\n",
       "  </tbody>\n",
       "</table>\n",
       "</div>"
      ],
      "text/plain": [
       "                        0          1      2        3       4\n",
       "first_name          Jason      Molly   Tina     Jake     Amy\n",
       "last_name          Miller   Jacobson    Ali   Milner   Cooze\n",
       "age                    42         52     36       24      73\n",
       "city        San Francisco  Baltimore  Miami  Douglas  Boston\n",
       "debt                 True       True  False    False    True"
      ]
     },
     "execution_count": 28,
     "metadata": {},
     "output_type": "execute_result"
    }
   ],
   "source": [
    "# transpose\n",
    "df.T"
   ]
  },
  {
   "cell_type": "code",
   "execution_count": 29,
   "metadata": {},
   "outputs": [
    {
     "data": {
      "text/plain": [
       "array([['Jason', 'Miller', 42, 'San Francisco', True],\n",
       "       ['Molly', 'Jacobson', 52, 'Baltimore', True],\n",
       "       ['Tina', 'Ali', 36, 'Miami', False],\n",
       "       ['Jake', 'Milner', 24, 'Douglas', False],\n",
       "       ['Amy', 'Cooze', 73, 'Boston', True]], dtype=object)"
      ]
     },
     "execution_count": 29,
     "metadata": {},
     "output_type": "execute_result"
    }
   ],
   "source": [
    "# 값 출력\n",
    "df.values"
   ]
  },
  {
   "cell_type": "code",
   "execution_count": 30,
   "metadata": {},
   "outputs": [
    {
     "data": {
      "text/plain": [
       "',first_name,last_name,age,city,debt\\n0,Jason,Miller,42,San Francisco,True\\n1,Molly,Jacobson,52,Baltimore,True\\n2,Tina,Ali,36,Miami,False\\n3,Jake,Milner,24,Douglas,False\\n4,Amy,Cooze,73,Boston,True\\n'"
      ]
     },
     "execution_count": 30,
     "metadata": {},
     "output_type": "execute_result"
    }
   ],
   "source": [
    "# csv 파일로\n",
    "df.to_csv()"
   ]
  },
  {
   "cell_type": "code",
   "execution_count": 32,
   "metadata": {},
   "outputs": [],
   "source": [
    "# column 삭제\n",
    "del df['debt']"
   ]
  },
  {
   "cell_type": "code",
   "execution_count": 33,
   "metadata": {},
   "outputs": [
    {
     "data": {
      "text/html": [
       "<div>\n",
       "<style scoped>\n",
       "    .dataframe tbody tr th:only-of-type {\n",
       "        vertical-align: middle;\n",
       "    }\n",
       "\n",
       "    .dataframe tbody tr th {\n",
       "        vertical-align: top;\n",
       "    }\n",
       "\n",
       "    .dataframe thead th {\n",
       "        text-align: right;\n",
       "    }\n",
       "</style>\n",
       "<table border=\"1\" class=\"dataframe\">\n",
       "  <thead>\n",
       "    <tr style=\"text-align: right;\">\n",
       "      <th></th>\n",
       "      <th>first_name</th>\n",
       "      <th>last_name</th>\n",
       "      <th>age</th>\n",
       "      <th>city</th>\n",
       "    </tr>\n",
       "  </thead>\n",
       "  <tbody>\n",
       "    <tr>\n",
       "      <th>0</th>\n",
       "      <td>Jason</td>\n",
       "      <td>Miller</td>\n",
       "      <td>42</td>\n",
       "      <td>San Francisco</td>\n",
       "    </tr>\n",
       "    <tr>\n",
       "      <th>1</th>\n",
       "      <td>Molly</td>\n",
       "      <td>Jacobson</td>\n",
       "      <td>52</td>\n",
       "      <td>Baltimore</td>\n",
       "    </tr>\n",
       "    <tr>\n",
       "      <th>2</th>\n",
       "      <td>Tina</td>\n",
       "      <td>Ali</td>\n",
       "      <td>36</td>\n",
       "      <td>Miami</td>\n",
       "    </tr>\n",
       "    <tr>\n",
       "      <th>3</th>\n",
       "      <td>Jake</td>\n",
       "      <td>Milner</td>\n",
       "      <td>24</td>\n",
       "      <td>Douglas</td>\n",
       "    </tr>\n",
       "    <tr>\n",
       "      <th>4</th>\n",
       "      <td>Amy</td>\n",
       "      <td>Cooze</td>\n",
       "      <td>73</td>\n",
       "      <td>Boston</td>\n",
       "    </tr>\n",
       "  </tbody>\n",
       "</table>\n",
       "</div>"
      ],
      "text/plain": [
       "  first_name last_name  age           city\n",
       "0      Jason    Miller   42  San Francisco\n",
       "1      Molly  Jacobson   52      Baltimore\n",
       "2       Tina       Ali   36          Miami\n",
       "3       Jake    Milner   24        Douglas\n",
       "4        Amy     Cooze   73         Boston"
      ]
     },
     "execution_count": 33,
     "metadata": {},
     "output_type": "execute_result"
    }
   ],
   "source": [
    "df"
   ]
  },
  {
   "cell_type": "code",
   "execution_count": 34,
   "metadata": {},
   "outputs": [
    {
     "data": {
      "text/html": [
       "<div>\n",
       "<style scoped>\n",
       "    .dataframe tbody tr th:only-of-type {\n",
       "        vertical-align: middle;\n",
       "    }\n",
       "\n",
       "    .dataframe tbody tr th {\n",
       "        vertical-align: top;\n",
       "    }\n",
       "\n",
       "    .dataframe thead th {\n",
       "        text-align: right;\n",
       "    }\n",
       "</style>\n",
       "<table border=\"1\" class=\"dataframe\">\n",
       "  <thead>\n",
       "    <tr style=\"text-align: right;\">\n",
       "      <th></th>\n",
       "      <th>Nevada</th>\n",
       "      <th>Ohio</th>\n",
       "    </tr>\n",
       "  </thead>\n",
       "  <tbody>\n",
       "    <tr>\n",
       "      <th>2000</th>\n",
       "      <td>NaN</td>\n",
       "      <td>1.5</td>\n",
       "    </tr>\n",
       "    <tr>\n",
       "      <th>2001</th>\n",
       "      <td>2.4</td>\n",
       "      <td>1.7</td>\n",
       "    </tr>\n",
       "    <tr>\n",
       "      <th>2002</th>\n",
       "      <td>2.9</td>\n",
       "      <td>3.6</td>\n",
       "    </tr>\n",
       "  </tbody>\n",
       "</table>\n",
       "</div>"
      ],
      "text/plain": [
       "      Nevada  Ohio\n",
       "2000     NaN   1.5\n",
       "2001     2.4   1.7\n",
       "2002     2.9   3.6"
      ]
     },
     "execution_count": 34,
     "metadata": {},
     "output_type": "execute_result"
    }
   ],
   "source": [
    "# example from python for data analysis with nested dict\n",
    "pop = {'Nevada': {2001: 2.4, 2002:2.9},\n",
    "      'Ohio' : {2000:1.5, 2001:1.7, 2002:3.6}}\n",
    "DataFrame(pop)"
   ]
  },
  {
   "cell_type": "markdown",
   "metadata": {},
   "source": [
    "# 3. Selection & Drop"
   ]
  },
  {
   "cell_type": "code",
   "execution_count": 45,
   "metadata": {},
   "outputs": [
    {
     "data": {
      "text/html": [
       "<div>\n",
       "<style scoped>\n",
       "    .dataframe tbody tr th:only-of-type {\n",
       "        vertical-align: middle;\n",
       "    }\n",
       "\n",
       "    .dataframe tbody tr th {\n",
       "        vertical-align: top;\n",
       "    }\n",
       "\n",
       "    .dataframe thead th {\n",
       "        text-align: right;\n",
       "    }\n",
       "</style>\n",
       "<table border=\"1\" class=\"dataframe\">\n",
       "  <thead>\n",
       "    <tr style=\"text-align: right;\">\n",
       "      <th></th>\n",
       "      <th>account</th>\n",
       "      <th>name</th>\n",
       "      <th>street</th>\n",
       "      <th>city</th>\n",
       "      <th>state</th>\n",
       "      <th>postal-code</th>\n",
       "      <th>Jan</th>\n",
       "      <th>Feb</th>\n",
       "      <th>Mar</th>\n",
       "    </tr>\n",
       "  </thead>\n",
       "  <tbody>\n",
       "    <tr>\n",
       "      <th>0</th>\n",
       "      <td>211829</td>\n",
       "      <td>Kerluke, Koepp and Hilpert</td>\n",
       "      <td>34456 Sean Highway</td>\n",
       "      <td>New Jaycob</td>\n",
       "      <td>Texas</td>\n",
       "      <td>28752</td>\n",
       "      <td>10000</td>\n",
       "      <td>62000</td>\n",
       "      <td>35000</td>\n",
       "    </tr>\n",
       "    <tr>\n",
       "      <th>1</th>\n",
       "      <td>320563</td>\n",
       "      <td>Walter-Trantow</td>\n",
       "      <td>1311 Alvis Tunnel</td>\n",
       "      <td>Port Khadijah</td>\n",
       "      <td>NorthCarolina</td>\n",
       "      <td>38365</td>\n",
       "      <td>95000</td>\n",
       "      <td>45000</td>\n",
       "      <td>35000</td>\n",
       "    </tr>\n",
       "    <tr>\n",
       "      <th>2</th>\n",
       "      <td>648336</td>\n",
       "      <td>Bashirian, Kunde and Price</td>\n",
       "      <td>62184 Schamberger Underpass Apt. 231</td>\n",
       "      <td>New Lilianland</td>\n",
       "      <td>Iowa</td>\n",
       "      <td>76517</td>\n",
       "      <td>91000</td>\n",
       "      <td>120000</td>\n",
       "      <td>35000</td>\n",
       "    </tr>\n",
       "    <tr>\n",
       "      <th>3</th>\n",
       "      <td>109996</td>\n",
       "      <td>D'Amore, Gleichner and Bode</td>\n",
       "      <td>155 Fadel Crescent Apt. 144</td>\n",
       "      <td>Hyattburgh</td>\n",
       "      <td>Maine</td>\n",
       "      <td>46021</td>\n",
       "      <td>45000</td>\n",
       "      <td>120000</td>\n",
       "      <td>10000</td>\n",
       "    </tr>\n",
       "    <tr>\n",
       "      <th>4</th>\n",
       "      <td>121213</td>\n",
       "      <td>Bauch-Goldner</td>\n",
       "      <td>7274 Marissa Common</td>\n",
       "      <td>Shanahanchester</td>\n",
       "      <td>California</td>\n",
       "      <td>49681</td>\n",
       "      <td>162000</td>\n",
       "      <td>120000</td>\n",
       "      <td>35000</td>\n",
       "    </tr>\n",
       "  </tbody>\n",
       "</table>\n",
       "</div>"
      ],
      "text/plain": [
       "   account                         name                                street  \\\n",
       "0   211829   Kerluke, Koepp and Hilpert                    34456 Sean Highway   \n",
       "1   320563               Walter-Trantow                     1311 Alvis Tunnel   \n",
       "2   648336   Bashirian, Kunde and Price  62184 Schamberger Underpass Apt. 231   \n",
       "3   109996  D'Amore, Gleichner and Bode           155 Fadel Crescent Apt. 144   \n",
       "4   121213                Bauch-Goldner                   7274 Marissa Common   \n",
       "\n",
       "              city          state  postal-code     Jan     Feb    Mar  \n",
       "0       New Jaycob          Texas        28752   10000   62000  35000  \n",
       "1    Port Khadijah  NorthCarolina        38365   95000   45000  35000  \n",
       "2   New Lilianland           Iowa        76517   91000  120000  35000  \n",
       "3       Hyattburgh          Maine        46021   45000  120000  10000  \n",
       "4  Shanahanchester     California        49681  162000  120000  35000  "
      ]
     },
     "execution_count": 45,
     "metadata": {},
     "output_type": "execute_result"
    }
   ],
   "source": [
    "data = \"./resource/excel-comp-data.xlsx\"\n",
    "df = pd.read_excel(data)\n",
    "df.head()"
   ]
  },
  {
   "cell_type": "markdown",
   "metadata": {},
   "source": [
    "# 3-1) Selection"
   ]
  },
  {
   "cell_type": "code",
   "execution_count": 42,
   "metadata": {},
   "outputs": [
    {
     "data": {
      "text/plain": [
       "0    211829\n",
       "1    320563\n",
       "2    648336\n",
       "Name: account, dtype: int64"
      ]
     },
     "execution_count": 42,
     "metadata": {},
     "output_type": "execute_result"
    }
   ],
   "source": [
    "# select \"account\" column \n",
    "df['account'].head(3)"
   ]
  },
  {
   "cell_type": "code",
   "execution_count": 44,
   "metadata": {},
   "outputs": [
    {
     "data": {
      "text/html": [
       "<div>\n",
       "<style scoped>\n",
       "    .dataframe tbody tr th:only-of-type {\n",
       "        vertical-align: middle;\n",
       "    }\n",
       "\n",
       "    .dataframe tbody tr th {\n",
       "        vertical-align: top;\n",
       "    }\n",
       "\n",
       "    .dataframe thead th {\n",
       "        text-align: right;\n",
       "    }\n",
       "</style>\n",
       "<table border=\"1\" class=\"dataframe\">\n",
       "  <thead>\n",
       "    <tr style=\"text-align: right;\">\n",
       "      <th></th>\n",
       "      <th>account</th>\n",
       "      <th>street</th>\n",
       "      <th>state</th>\n",
       "    </tr>\n",
       "  </thead>\n",
       "  <tbody>\n",
       "    <tr>\n",
       "      <th>0</th>\n",
       "      <td>211829</td>\n",
       "      <td>34456 Sean Highway</td>\n",
       "      <td>Texas</td>\n",
       "    </tr>\n",
       "    <tr>\n",
       "      <th>1</th>\n",
       "      <td>320563</td>\n",
       "      <td>1311 Alvis Tunnel</td>\n",
       "      <td>NorthCarolina</td>\n",
       "    </tr>\n",
       "    <tr>\n",
       "      <th>2</th>\n",
       "      <td>648336</td>\n",
       "      <td>62184 Schamberger Underpass Apt. 231</td>\n",
       "      <td>Iowa</td>\n",
       "    </tr>\n",
       "  </tbody>\n",
       "</table>\n",
       "</div>"
      ],
      "text/plain": [
       "   account                                street          state\n",
       "0   211829                    34456 Sean Highway          Texas\n",
       "1   320563                     1311 Alvis Tunnel  NorthCarolina\n",
       "2   648336  62184 Schamberger Underpass Apt. 231           Iowa"
      ]
     },
     "execution_count": 44,
     "metadata": {},
     "output_type": "execute_result"
    }
   ],
   "source": [
    "# select multiple columns\n",
    "df[['account', 'street', 'state']].head(3)"
   ]
  },
  {
   "cell_type": "code",
   "execution_count": 46,
   "metadata": {},
   "outputs": [
    {
     "data": {
      "text/html": [
       "<div>\n",
       "<style scoped>\n",
       "    .dataframe tbody tr th:only-of-type {\n",
       "        vertical-align: middle;\n",
       "    }\n",
       "\n",
       "    .dataframe tbody tr th {\n",
       "        vertical-align: top;\n",
       "    }\n",
       "\n",
       "    .dataframe thead th {\n",
       "        text-align: right;\n",
       "    }\n",
       "</style>\n",
       "<table border=\"1\" class=\"dataframe\">\n",
       "  <thead>\n",
       "    <tr style=\"text-align: right;\">\n",
       "      <th></th>\n",
       "      <th>account</th>\n",
       "      <th>name</th>\n",
       "      <th>street</th>\n",
       "      <th>city</th>\n",
       "      <th>state</th>\n",
       "      <th>postal-code</th>\n",
       "      <th>Jan</th>\n",
       "      <th>Feb</th>\n",
       "      <th>Mar</th>\n",
       "    </tr>\n",
       "  </thead>\n",
       "  <tbody>\n",
       "    <tr>\n",
       "      <th>0</th>\n",
       "      <td>211829</td>\n",
       "      <td>Kerluke, Koepp and Hilpert</td>\n",
       "      <td>34456 Sean Highway</td>\n",
       "      <td>New Jaycob</td>\n",
       "      <td>Texas</td>\n",
       "      <td>28752</td>\n",
       "      <td>10000</td>\n",
       "      <td>62000</td>\n",
       "      <td>35000</td>\n",
       "    </tr>\n",
       "    <tr>\n",
       "      <th>1</th>\n",
       "      <td>320563</td>\n",
       "      <td>Walter-Trantow</td>\n",
       "      <td>1311 Alvis Tunnel</td>\n",
       "      <td>Port Khadijah</td>\n",
       "      <td>NorthCarolina</td>\n",
       "      <td>38365</td>\n",
       "      <td>95000</td>\n",
       "      <td>45000</td>\n",
       "      <td>35000</td>\n",
       "    </tr>\n",
       "    <tr>\n",
       "      <th>2</th>\n",
       "      <td>648336</td>\n",
       "      <td>Bashirian, Kunde and Price</td>\n",
       "      <td>62184 Schamberger Underpass Apt. 231</td>\n",
       "      <td>New Lilianland</td>\n",
       "      <td>Iowa</td>\n",
       "      <td>76517</td>\n",
       "      <td>91000</td>\n",
       "      <td>120000</td>\n",
       "      <td>35000</td>\n",
       "    </tr>\n",
       "  </tbody>\n",
       "</table>\n",
       "</div>"
      ],
      "text/plain": [
       "   account                        name                                street  \\\n",
       "0   211829  Kerluke, Koepp and Hilpert                    34456 Sean Highway   \n",
       "1   320563              Walter-Trantow                     1311 Alvis Tunnel   \n",
       "2   648336  Bashirian, Kunde and Price  62184 Schamberger Underpass Apt. 231   \n",
       "\n",
       "             city          state  postal-code    Jan     Feb    Mar  \n",
       "0      New Jaycob          Texas        28752  10000   62000  35000  \n",
       "1   Port Khadijah  NorthCarolina        38365  95000   45000  35000  \n",
       "2  New Lilianland           Iowa        76517  91000  120000  35000  "
      ]
     },
     "execution_count": 46,
     "metadata": {},
     "output_type": "execute_result"
    }
   ],
   "source": [
    "# column 이름없이 사용하는 index number는 row 기준 표시\n",
    "df[:3]"
   ]
  },
  {
   "cell_type": "code",
   "execution_count": 47,
   "metadata": {},
   "outputs": [
    {
     "data": {
      "text/plain": [
       "0    211829\n",
       "1    320563\n",
       "2    648336\n",
       "Name: account, dtype: int64"
      ]
     },
     "execution_count": 47,
     "metadata": {},
     "output_type": "execute_result"
    }
   ],
   "source": [
    "# column이름과 함께 row index 사용시 해당 column만\n",
    "df['account'][:3]"
   ]
  },
  {
   "cell_type": "markdown",
   "metadata": {},
   "source": [
    "### Series Selection"
   ]
  },
  {
   "cell_type": "code",
   "execution_count": 48,
   "metadata": {},
   "outputs": [
    {
     "data": {
      "text/plain": [
       "0    211829\n",
       "1    320563\n",
       "2    648336\n",
       "Name: account, dtype: int64"
      ]
     },
     "execution_count": 48,
     "metadata": {},
     "output_type": "execute_result"
    }
   ],
   "source": [
    "account_series = df['account']\n",
    "account_series[:3]"
   ]
  },
  {
   "cell_type": "code",
   "execution_count": 51,
   "metadata": {},
   "outputs": [
    {
     "data": {
      "text/plain": [
       "1    320563\n",
       "5    132971\n",
       "2    648336\n",
       "Name: account, dtype: int64"
      ]
     },
     "execution_count": 51,
     "metadata": {},
     "output_type": "execute_result"
    }
   ],
   "source": [
    "account_series[[1, 5, 2]]"
   ]
  },
  {
   "cell_type": "code",
   "execution_count": 52,
   "metadata": {},
   "outputs": [
    {
     "data": {
      "text/plain": [
       "0     211829\n",
       "3     109996\n",
       "4     121213\n",
       "5     132971\n",
       "6     145068\n",
       "7     205217\n",
       "8     209744\n",
       "9     212303\n",
       "10    214098\n",
       "11    231907\n",
       "12    242368\n",
       "Name: account, dtype: int64"
      ]
     },
     "execution_count": 52,
     "metadata": {},
     "output_type": "execute_result"
    }
   ],
   "source": [
    "account_series[account_series < 250000]"
   ]
  },
  {
   "cell_type": "markdown",
   "metadata": {},
   "source": [
    "### Index 변경"
   ]
  },
  {
   "cell_type": "code",
   "execution_count": 53,
   "metadata": {},
   "outputs": [
    {
     "data": {
      "text/html": [
       "<div>\n",
       "<style scoped>\n",
       "    .dataframe tbody tr th:only-of-type {\n",
       "        vertical-align: middle;\n",
       "    }\n",
       "\n",
       "    .dataframe tbody tr th {\n",
       "        vertical-align: top;\n",
       "    }\n",
       "\n",
       "    .dataframe thead th {\n",
       "        text-align: right;\n",
       "    }\n",
       "</style>\n",
       "<table border=\"1\" class=\"dataframe\">\n",
       "  <thead>\n",
       "    <tr style=\"text-align: right;\">\n",
       "      <th></th>\n",
       "      <th>name</th>\n",
       "      <th>street</th>\n",
       "      <th>city</th>\n",
       "      <th>state</th>\n",
       "      <th>postal-code</th>\n",
       "      <th>Jan</th>\n",
       "      <th>Feb</th>\n",
       "      <th>Mar</th>\n",
       "    </tr>\n",
       "    <tr>\n",
       "      <th>account</th>\n",
       "      <th></th>\n",
       "      <th></th>\n",
       "      <th></th>\n",
       "      <th></th>\n",
       "      <th></th>\n",
       "      <th></th>\n",
       "      <th></th>\n",
       "      <th></th>\n",
       "    </tr>\n",
       "  </thead>\n",
       "  <tbody>\n",
       "    <tr>\n",
       "      <th>211829</th>\n",
       "      <td>Kerluke, Koepp and Hilpert</td>\n",
       "      <td>34456 Sean Highway</td>\n",
       "      <td>New Jaycob</td>\n",
       "      <td>Texas</td>\n",
       "      <td>28752</td>\n",
       "      <td>10000</td>\n",
       "      <td>62000</td>\n",
       "      <td>35000</td>\n",
       "    </tr>\n",
       "    <tr>\n",
       "      <th>320563</th>\n",
       "      <td>Walter-Trantow</td>\n",
       "      <td>1311 Alvis Tunnel</td>\n",
       "      <td>Port Khadijah</td>\n",
       "      <td>NorthCarolina</td>\n",
       "      <td>38365</td>\n",
       "      <td>95000</td>\n",
       "      <td>45000</td>\n",
       "      <td>35000</td>\n",
       "    </tr>\n",
       "    <tr>\n",
       "      <th>648336</th>\n",
       "      <td>Bashirian, Kunde and Price</td>\n",
       "      <td>62184 Schamberger Underpass Apt. 231</td>\n",
       "      <td>New Lilianland</td>\n",
       "      <td>Iowa</td>\n",
       "      <td>76517</td>\n",
       "      <td>91000</td>\n",
       "      <td>120000</td>\n",
       "      <td>35000</td>\n",
       "    </tr>\n",
       "    <tr>\n",
       "      <th>109996</th>\n",
       "      <td>D'Amore, Gleichner and Bode</td>\n",
       "      <td>155 Fadel Crescent Apt. 144</td>\n",
       "      <td>Hyattburgh</td>\n",
       "      <td>Maine</td>\n",
       "      <td>46021</td>\n",
       "      <td>45000</td>\n",
       "      <td>120000</td>\n",
       "      <td>10000</td>\n",
       "    </tr>\n",
       "    <tr>\n",
       "      <th>121213</th>\n",
       "      <td>Bauch-Goldner</td>\n",
       "      <td>7274 Marissa Common</td>\n",
       "      <td>Shanahanchester</td>\n",
       "      <td>California</td>\n",
       "      <td>49681</td>\n",
       "      <td>162000</td>\n",
       "      <td>120000</td>\n",
       "      <td>35000</td>\n",
       "    </tr>\n",
       "  </tbody>\n",
       "</table>\n",
       "</div>"
      ],
      "text/plain": [
       "                                name                                street  \\\n",
       "account                                                                      \n",
       "211829    Kerluke, Koepp and Hilpert                    34456 Sean Highway   \n",
       "320563                Walter-Trantow                     1311 Alvis Tunnel   \n",
       "648336    Bashirian, Kunde and Price  62184 Schamberger Underpass Apt. 231   \n",
       "109996   D'Amore, Gleichner and Bode           155 Fadel Crescent Apt. 144   \n",
       "121213                 Bauch-Goldner                   7274 Marissa Common   \n",
       "\n",
       "                    city          state  postal-code     Jan     Feb    Mar  \n",
       "account                                                                      \n",
       "211829        New Jaycob          Texas        28752   10000   62000  35000  \n",
       "320563     Port Khadijah  NorthCarolina        38365   95000   45000  35000  \n",
       "648336    New Lilianland           Iowa        76517   91000  120000  35000  \n",
       "109996        Hyattburgh          Maine        46021   45000  120000  10000  \n",
       "121213   Shanahanchester     California        49681  162000  120000  35000  "
      ]
     },
     "execution_count": 53,
     "metadata": {},
     "output_type": "execute_result"
    }
   ],
   "source": [
    "df.index = df['account']\n",
    "del df['account']\n",
    "df.head()"
   ]
  },
  {
   "cell_type": "markdown",
   "metadata": {},
   "source": [
    "### Basic, loc, iloc Selection"
   ]
  },
  {
   "cell_type": "code",
   "execution_count": 55,
   "metadata": {},
   "outputs": [
    {
     "data": {
      "text/html": [
       "<div>\n",
       "<style scoped>\n",
       "    .dataframe tbody tr th:only-of-type {\n",
       "        vertical-align: middle;\n",
       "    }\n",
       "\n",
       "    .dataframe tbody tr th {\n",
       "        vertical-align: top;\n",
       "    }\n",
       "\n",
       "    .dataframe thead th {\n",
       "        text-align: right;\n",
       "    }\n",
       "</style>\n",
       "<table border=\"1\" class=\"dataframe\">\n",
       "  <thead>\n",
       "    <tr style=\"text-align: right;\">\n",
       "      <th></th>\n",
       "      <th>name</th>\n",
       "      <th>street</th>\n",
       "    </tr>\n",
       "    <tr>\n",
       "      <th>account</th>\n",
       "      <th></th>\n",
       "      <th></th>\n",
       "    </tr>\n",
       "  </thead>\n",
       "  <tbody>\n",
       "    <tr>\n",
       "      <th>211829</th>\n",
       "      <td>Kerluke, Koepp and Hilpert</td>\n",
       "      <td>34456 Sean Highway</td>\n",
       "    </tr>\n",
       "    <tr>\n",
       "      <th>320563</th>\n",
       "      <td>Walter-Trantow</td>\n",
       "      <td>1311 Alvis Tunnel</td>\n",
       "    </tr>\n",
       "  </tbody>\n",
       "</table>\n",
       "</div>"
      ],
      "text/plain": [
       "                               name              street\n",
       "account                                                \n",
       "211829   Kerluke, Koepp and Hilpert  34456 Sean Highway\n",
       "320563               Walter-Trantow   1311 Alvis Tunnel"
      ]
     },
     "execution_count": 55,
     "metadata": {},
     "output_type": "execute_result"
    }
   ],
   "source": [
    "# column과 index number\n",
    "df[['name', 'street']][:2]"
   ]
  },
  {
   "cell_type": "code",
   "execution_count": 56,
   "metadata": {},
   "outputs": [
    {
     "data": {
      "text/html": [
       "<div>\n",
       "<style scoped>\n",
       "    .dataframe tbody tr th:only-of-type {\n",
       "        vertical-align: middle;\n",
       "    }\n",
       "\n",
       "    .dataframe tbody tr th {\n",
       "        vertical-align: top;\n",
       "    }\n",
       "\n",
       "    .dataframe thead th {\n",
       "        text-align: right;\n",
       "    }\n",
       "</style>\n",
       "<table border=\"1\" class=\"dataframe\">\n",
       "  <thead>\n",
       "    <tr style=\"text-align: right;\">\n",
       "      <th></th>\n",
       "      <th>name</th>\n",
       "      <th>street</th>\n",
       "    </tr>\n",
       "    <tr>\n",
       "      <th>account</th>\n",
       "      <th></th>\n",
       "      <th></th>\n",
       "    </tr>\n",
       "  </thead>\n",
       "  <tbody>\n",
       "    <tr>\n",
       "      <th>211829</th>\n",
       "      <td>Kerluke, Koepp and Hilpert</td>\n",
       "      <td>34456 Sean Highway</td>\n",
       "    </tr>\n",
       "    <tr>\n",
       "      <th>320563</th>\n",
       "      <td>Walter-Trantow</td>\n",
       "      <td>1311 Alvis Tunnel</td>\n",
       "    </tr>\n",
       "  </tbody>\n",
       "</table>\n",
       "</div>"
      ],
      "text/plain": [
       "                               name              street\n",
       "account                                                \n",
       "211829   Kerluke, Koepp and Hilpert  34456 Sean Highway\n",
       "320563               Walter-Trantow   1311 Alvis Tunnel"
      ]
     },
     "execution_count": 56,
     "metadata": {},
     "output_type": "execute_result"
    }
   ],
   "source": [
    "# index name과 column\n",
    "df.loc[[211829,320563], ['name', 'street']]"
   ]
  },
  {
   "cell_type": "code",
   "execution_count": 58,
   "metadata": {},
   "outputs": [
    {
     "data": {
      "text/html": [
       "<div>\n",
       "<style scoped>\n",
       "    .dataframe tbody tr th:only-of-type {\n",
       "        vertical-align: middle;\n",
       "    }\n",
       "\n",
       "    .dataframe tbody tr th {\n",
       "        vertical-align: top;\n",
       "    }\n",
       "\n",
       "    .dataframe thead th {\n",
       "        text-align: right;\n",
       "    }\n",
       "</style>\n",
       "<table border=\"1\" class=\"dataframe\">\n",
       "  <thead>\n",
       "    <tr style=\"text-align: right;\">\n",
       "      <th></th>\n",
       "      <th>name</th>\n",
       "      <th>street</th>\n",
       "    </tr>\n",
       "    <tr>\n",
       "      <th>account</th>\n",
       "      <th></th>\n",
       "      <th></th>\n",
       "    </tr>\n",
       "  </thead>\n",
       "  <tbody>\n",
       "    <tr>\n",
       "      <th>211829</th>\n",
       "      <td>Kerluke, Koepp and Hilpert</td>\n",
       "      <td>34456 Sean Highway</td>\n",
       "    </tr>\n",
       "    <tr>\n",
       "      <th>320563</th>\n",
       "      <td>Walter-Trantow</td>\n",
       "      <td>1311 Alvis Tunnel</td>\n",
       "    </tr>\n",
       "    <tr>\n",
       "      <th>648336</th>\n",
       "      <td>Bashirian, Kunde and Price</td>\n",
       "      <td>62184 Schamberger Underpass Apt. 231</td>\n",
       "    </tr>\n",
       "  </tbody>\n",
       "</table>\n",
       "</div>"
      ],
      "text/plain": [
       "                               name                                street\n",
       "account                                                                  \n",
       "211829   Kerluke, Koepp and Hilpert                    34456 Sean Highway\n",
       "320563               Walter-Trantow                     1311 Alvis Tunnel\n",
       "648336   Bashirian, Kunde and Price  62184 Schamberger Underpass Apt. 231"
      ]
     },
     "execution_count": 58,
     "metadata": {},
     "output_type": "execute_result"
    }
   ],
   "source": [
    "# index number와 column number\n",
    "df.iloc[:3, :2]"
   ]
  },
  {
   "cell_type": "code",
   "execution_count": 59,
   "metadata": {},
   "outputs": [
    {
     "data": {
      "text/html": [
       "<div>\n",
       "<style scoped>\n",
       "    .dataframe tbody tr th:only-of-type {\n",
       "        vertical-align: middle;\n",
       "    }\n",
       "\n",
       "    .dataframe tbody tr th {\n",
       "        vertical-align: top;\n",
       "    }\n",
       "\n",
       "    .dataframe thead th {\n",
       "        text-align: right;\n",
       "    }\n",
       "</style>\n",
       "<table border=\"1\" class=\"dataframe\">\n",
       "  <thead>\n",
       "    <tr style=\"text-align: right;\">\n",
       "      <th></th>\n",
       "      <th>name</th>\n",
       "      <th>street</th>\n",
       "    </tr>\n",
       "    <tr>\n",
       "      <th>account</th>\n",
       "      <th></th>\n",
       "      <th></th>\n",
       "    </tr>\n",
       "  </thead>\n",
       "  <tbody>\n",
       "    <tr>\n",
       "      <th>211829</th>\n",
       "      <td>Kerluke, Koepp and Hilpert</td>\n",
       "      <td>34456 Sean Highway</td>\n",
       "    </tr>\n",
       "    <tr>\n",
       "      <th>320563</th>\n",
       "      <td>Walter-Trantow</td>\n",
       "      <td>1311 Alvis Tunnel</td>\n",
       "    </tr>\n",
       "    <tr>\n",
       "      <th>648336</th>\n",
       "      <td>Bashirian, Kunde and Price</td>\n",
       "      <td>62184 Schamberger Underpass Apt. 231</td>\n",
       "    </tr>\n",
       "  </tbody>\n",
       "</table>\n",
       "</div>"
      ],
      "text/plain": [
       "                               name                                street\n",
       "account                                                                  \n",
       "211829   Kerluke, Koepp and Hilpert                    34456 Sean Highway\n",
       "320563               Walter-Trantow                     1311 Alvis Tunnel\n",
       "648336   Bashirian, Kunde and Price  62184 Schamberger Underpass Apt. 231"
      ]
     },
     "execution_count": 59,
     "metadata": {},
     "output_type": "execute_result"
    }
   ],
   "source": [
    "# 가장 많이 쓰는 방법\n",
    "df[['name', 'street']].iloc[:3]"
   ]
  },
  {
   "cell_type": "markdown",
   "metadata": {},
   "source": [
    "### index 재설정"
   ]
  },
  {
   "cell_type": "code",
   "execution_count": 60,
   "metadata": {},
   "outputs": [
    {
     "data": {
      "text/html": [
       "<div>\n",
       "<style scoped>\n",
       "    .dataframe tbody tr th:only-of-type {\n",
       "        vertical-align: middle;\n",
       "    }\n",
       "\n",
       "    .dataframe tbody tr th {\n",
       "        vertical-align: top;\n",
       "    }\n",
       "\n",
       "    .dataframe thead th {\n",
       "        text-align: right;\n",
       "    }\n",
       "</style>\n",
       "<table border=\"1\" class=\"dataframe\">\n",
       "  <thead>\n",
       "    <tr style=\"text-align: right;\">\n",
       "      <th></th>\n",
       "      <th>name</th>\n",
       "      <th>street</th>\n",
       "      <th>city</th>\n",
       "      <th>state</th>\n",
       "      <th>postal-code</th>\n",
       "      <th>Jan</th>\n",
       "      <th>Feb</th>\n",
       "      <th>Mar</th>\n",
       "    </tr>\n",
       "  </thead>\n",
       "  <tbody>\n",
       "    <tr>\n",
       "      <th>0</th>\n",
       "      <td>Kerluke, Koepp and Hilpert</td>\n",
       "      <td>34456 Sean Highway</td>\n",
       "      <td>New Jaycob</td>\n",
       "      <td>Texas</td>\n",
       "      <td>28752</td>\n",
       "      <td>10000</td>\n",
       "      <td>62000</td>\n",
       "      <td>35000</td>\n",
       "    </tr>\n",
       "    <tr>\n",
       "      <th>1</th>\n",
       "      <td>Walter-Trantow</td>\n",
       "      <td>1311 Alvis Tunnel</td>\n",
       "      <td>Port Khadijah</td>\n",
       "      <td>NorthCarolina</td>\n",
       "      <td>38365</td>\n",
       "      <td>95000</td>\n",
       "      <td>45000</td>\n",
       "      <td>35000</td>\n",
       "    </tr>\n",
       "    <tr>\n",
       "      <th>2</th>\n",
       "      <td>Bashirian, Kunde and Price</td>\n",
       "      <td>62184 Schamberger Underpass Apt. 231</td>\n",
       "      <td>New Lilianland</td>\n",
       "      <td>Iowa</td>\n",
       "      <td>76517</td>\n",
       "      <td>91000</td>\n",
       "      <td>120000</td>\n",
       "      <td>35000</td>\n",
       "    </tr>\n",
       "    <tr>\n",
       "      <th>3</th>\n",
       "      <td>D'Amore, Gleichner and Bode</td>\n",
       "      <td>155 Fadel Crescent Apt. 144</td>\n",
       "      <td>Hyattburgh</td>\n",
       "      <td>Maine</td>\n",
       "      <td>46021</td>\n",
       "      <td>45000</td>\n",
       "      <td>120000</td>\n",
       "      <td>10000</td>\n",
       "    </tr>\n",
       "    <tr>\n",
       "      <th>4</th>\n",
       "      <td>Bauch-Goldner</td>\n",
       "      <td>7274 Marissa Common</td>\n",
       "      <td>Shanahanchester</td>\n",
       "      <td>California</td>\n",
       "      <td>49681</td>\n",
       "      <td>162000</td>\n",
       "      <td>120000</td>\n",
       "      <td>35000</td>\n",
       "    </tr>\n",
       "  </tbody>\n",
       "</table>\n",
       "</div>"
      ],
      "text/plain": [
       "                          name                                street  \\\n",
       "0   Kerluke, Koepp and Hilpert                    34456 Sean Highway   \n",
       "1               Walter-Trantow                     1311 Alvis Tunnel   \n",
       "2   Bashirian, Kunde and Price  62184 Schamberger Underpass Apt. 231   \n",
       "3  D'Amore, Gleichner and Bode           155 Fadel Crescent Apt. 144   \n",
       "4                Bauch-Goldner                   7274 Marissa Common   \n",
       "\n",
       "              city          state  postal-code     Jan     Feb    Mar  \n",
       "0       New Jaycob          Texas        28752   10000   62000  35000  \n",
       "1    Port Khadijah  NorthCarolina        38365   95000   45000  35000  \n",
       "2   New Lilianland           Iowa        76517   91000  120000  35000  \n",
       "3       Hyattburgh          Maine        46021   45000  120000  10000  \n",
       "4  Shanahanchester     California        49681  162000  120000  35000  "
      ]
     },
     "execution_count": 60,
     "metadata": {},
     "output_type": "execute_result"
    }
   ],
   "source": [
    "df.index = list(range(0,15))\n",
    "df.head()"
   ]
  },
  {
   "cell_type": "markdown",
   "metadata": {},
   "source": [
    "## 3-2) Drop"
   ]
  },
  {
   "cell_type": "code",
   "execution_count": 63,
   "metadata": {},
   "outputs": [
    {
     "data": {
      "text/html": [
       "<div>\n",
       "<style scoped>\n",
       "    .dataframe tbody tr th:only-of-type {\n",
       "        vertical-align: middle;\n",
       "    }\n",
       "\n",
       "    .dataframe tbody tr th {\n",
       "        vertical-align: top;\n",
       "    }\n",
       "\n",
       "    .dataframe thead th {\n",
       "        text-align: right;\n",
       "    }\n",
       "</style>\n",
       "<table border=\"1\" class=\"dataframe\">\n",
       "  <thead>\n",
       "    <tr style=\"text-align: right;\">\n",
       "      <th></th>\n",
       "      <th>name</th>\n",
       "      <th>street</th>\n",
       "      <th>city</th>\n",
       "      <th>state</th>\n",
       "      <th>postal-code</th>\n",
       "      <th>Jan</th>\n",
       "      <th>Feb</th>\n",
       "      <th>Mar</th>\n",
       "    </tr>\n",
       "  </thead>\n",
       "  <tbody>\n",
       "    <tr>\n",
       "      <th>0</th>\n",
       "      <td>Kerluke, Koepp and Hilpert</td>\n",
       "      <td>34456 Sean Highway</td>\n",
       "      <td>New Jaycob</td>\n",
       "      <td>Texas</td>\n",
       "      <td>28752</td>\n",
       "      <td>10000</td>\n",
       "      <td>62000</td>\n",
       "      <td>35000</td>\n",
       "    </tr>\n",
       "    <tr>\n",
       "      <th>2</th>\n",
       "      <td>Bashirian, Kunde and Price</td>\n",
       "      <td>62184 Schamberger Underpass Apt. 231</td>\n",
       "      <td>New Lilianland</td>\n",
       "      <td>Iowa</td>\n",
       "      <td>76517</td>\n",
       "      <td>91000</td>\n",
       "      <td>120000</td>\n",
       "      <td>35000</td>\n",
       "    </tr>\n",
       "    <tr>\n",
       "      <th>3</th>\n",
       "      <td>D'Amore, Gleichner and Bode</td>\n",
       "      <td>155 Fadel Crescent Apt. 144</td>\n",
       "      <td>Hyattburgh</td>\n",
       "      <td>Maine</td>\n",
       "      <td>46021</td>\n",
       "      <td>45000</td>\n",
       "      <td>120000</td>\n",
       "      <td>10000</td>\n",
       "    </tr>\n",
       "    <tr>\n",
       "      <th>4</th>\n",
       "      <td>Bauch-Goldner</td>\n",
       "      <td>7274 Marissa Common</td>\n",
       "      <td>Shanahanchester</td>\n",
       "      <td>California</td>\n",
       "      <td>49681</td>\n",
       "      <td>162000</td>\n",
       "      <td>120000</td>\n",
       "      <td>35000</td>\n",
       "    </tr>\n",
       "    <tr>\n",
       "      <th>5</th>\n",
       "      <td>Williamson, Schumm and Hettinger</td>\n",
       "      <td>89403 Casimer Spring</td>\n",
       "      <td>Jeremieburgh</td>\n",
       "      <td>Arkansas</td>\n",
       "      <td>62785</td>\n",
       "      <td>150000</td>\n",
       "      <td>120000</td>\n",
       "      <td>35000</td>\n",
       "    </tr>\n",
       "    <tr>\n",
       "      <th>6</th>\n",
       "      <td>Casper LLC</td>\n",
       "      <td>340 Consuela Bridge Apt. 400</td>\n",
       "      <td>Lake Gabriellaton</td>\n",
       "      <td>Mississipi</td>\n",
       "      <td>18008</td>\n",
       "      <td>62000</td>\n",
       "      <td>120000</td>\n",
       "      <td>70000</td>\n",
       "    </tr>\n",
       "    <tr>\n",
       "      <th>7</th>\n",
       "      <td>Kovacek-Johnston</td>\n",
       "      <td>91971 Cronin Vista Suite 601</td>\n",
       "      <td>Deronville</td>\n",
       "      <td>RhodeIsland</td>\n",
       "      <td>53461</td>\n",
       "      <td>145000</td>\n",
       "      <td>95000</td>\n",
       "      <td>35000</td>\n",
       "    </tr>\n",
       "    <tr>\n",
       "      <th>8</th>\n",
       "      <td>Champlin-Morar</td>\n",
       "      <td>26739 Grant Lock</td>\n",
       "      <td>Lake Juliannton</td>\n",
       "      <td>Pennsylvania</td>\n",
       "      <td>64415</td>\n",
       "      <td>70000</td>\n",
       "      <td>95000</td>\n",
       "      <td>35000</td>\n",
       "    </tr>\n",
       "    <tr>\n",
       "      <th>9</th>\n",
       "      <td>Gerhold-Maggio</td>\n",
       "      <td>366 Maggio Grove Apt. 998</td>\n",
       "      <td>North Ras</td>\n",
       "      <td>Idaho</td>\n",
       "      <td>46308</td>\n",
       "      <td>70000</td>\n",
       "      <td>120000</td>\n",
       "      <td>35000</td>\n",
       "    </tr>\n",
       "    <tr>\n",
       "      <th>10</th>\n",
       "      <td>Goodwin, Homenick and Jerde</td>\n",
       "      <td>649 Cierra Forks Apt. 078</td>\n",
       "      <td>Rosaberg</td>\n",
       "      <td>Tenessee</td>\n",
       "      <td>47743</td>\n",
       "      <td>45000</td>\n",
       "      <td>120000</td>\n",
       "      <td>55000</td>\n",
       "    </tr>\n",
       "    <tr>\n",
       "      <th>11</th>\n",
       "      <td>Hahn-Moore</td>\n",
       "      <td>18115 Olivine Throughway</td>\n",
       "      <td>Norbertomouth</td>\n",
       "      <td>NorthDakota</td>\n",
       "      <td>31415</td>\n",
       "      <td>150000</td>\n",
       "      <td>10000</td>\n",
       "      <td>162000</td>\n",
       "    </tr>\n",
       "    <tr>\n",
       "      <th>12</th>\n",
       "      <td>Frami, Anderson and Donnelly</td>\n",
       "      <td>182 Bertie Road</td>\n",
       "      <td>East Davian</td>\n",
       "      <td>Iowa</td>\n",
       "      <td>72686</td>\n",
       "      <td>162000</td>\n",
       "      <td>120000</td>\n",
       "      <td>35000</td>\n",
       "    </tr>\n",
       "    <tr>\n",
       "      <th>13</th>\n",
       "      <td>Walsh-Haley</td>\n",
       "      <td>2624 Beatty Parkways</td>\n",
       "      <td>Goodwinmouth</td>\n",
       "      <td>RhodeIsland</td>\n",
       "      <td>31919</td>\n",
       "      <td>55000</td>\n",
       "      <td>120000</td>\n",
       "      <td>35000</td>\n",
       "    </tr>\n",
       "    <tr>\n",
       "      <th>14</th>\n",
       "      <td>McDermott PLC</td>\n",
       "      <td>8917 Bergstrom Meadow</td>\n",
       "      <td>Kathryneborough</td>\n",
       "      <td>Delaware</td>\n",
       "      <td>27933</td>\n",
       "      <td>150000</td>\n",
       "      <td>120000</td>\n",
       "      <td>70000</td>\n",
       "    </tr>\n",
       "  </tbody>\n",
       "</table>\n",
       "</div>"
      ],
      "text/plain": [
       "                                name                                street  \\\n",
       "0         Kerluke, Koepp and Hilpert                    34456 Sean Highway   \n",
       "2         Bashirian, Kunde and Price  62184 Schamberger Underpass Apt. 231   \n",
       "3        D'Amore, Gleichner and Bode           155 Fadel Crescent Apt. 144   \n",
       "4                      Bauch-Goldner                   7274 Marissa Common   \n",
       "5   Williamson, Schumm and Hettinger                  89403 Casimer Spring   \n",
       "6                         Casper LLC          340 Consuela Bridge Apt. 400   \n",
       "7                   Kovacek-Johnston          91971 Cronin Vista Suite 601   \n",
       "8                     Champlin-Morar                      26739 Grant Lock   \n",
       "9                     Gerhold-Maggio             366 Maggio Grove Apt. 998   \n",
       "10       Goodwin, Homenick and Jerde             649 Cierra Forks Apt. 078   \n",
       "11                        Hahn-Moore              18115 Olivine Throughway   \n",
       "12      Frami, Anderson and Donnelly                       182 Bertie Road   \n",
       "13                       Walsh-Haley                  2624 Beatty Parkways   \n",
       "14                     McDermott PLC                 8917 Bergstrom Meadow   \n",
       "\n",
       "                 city         state  postal-code     Jan     Feb     Mar  \n",
       "0          New Jaycob         Texas        28752   10000   62000   35000  \n",
       "2      New Lilianland          Iowa        76517   91000  120000   35000  \n",
       "3          Hyattburgh         Maine        46021   45000  120000   10000  \n",
       "4     Shanahanchester    California        49681  162000  120000   35000  \n",
       "5        Jeremieburgh      Arkansas        62785  150000  120000   35000  \n",
       "6   Lake Gabriellaton    Mississipi        18008   62000  120000   70000  \n",
       "7          Deronville   RhodeIsland        53461  145000   95000   35000  \n",
       "8     Lake Juliannton  Pennsylvania        64415   70000   95000   35000  \n",
       "9           North Ras         Idaho        46308   70000  120000   35000  \n",
       "10           Rosaberg      Tenessee        47743   45000  120000   55000  \n",
       "11      Norbertomouth   NorthDakota        31415  150000   10000  162000  \n",
       "12        East Davian          Iowa        72686  162000  120000   35000  \n",
       "13       Goodwinmouth   RhodeIsland        31919   55000  120000   35000  \n",
       "14    Kathryneborough      Delaware        27933  150000  120000   70000  "
      ]
     },
     "execution_count": 63,
     "metadata": {},
     "output_type": "execute_result"
    }
   ],
   "source": [
    "# index number로 drop\n",
    "df.drop(1) # index 1에 있는 데이터 drop"
   ]
  },
  {
   "cell_type": "code",
   "execution_count": 64,
   "metadata": {},
   "outputs": [
    {
     "data": {
      "text/html": [
       "<div>\n",
       "<style scoped>\n",
       "    .dataframe tbody tr th:only-of-type {\n",
       "        vertical-align: middle;\n",
       "    }\n",
       "\n",
       "    .dataframe tbody tr th {\n",
       "        vertical-align: top;\n",
       "    }\n",
       "\n",
       "    .dataframe thead th {\n",
       "        text-align: right;\n",
       "    }\n",
       "</style>\n",
       "<table border=\"1\" class=\"dataframe\">\n",
       "  <thead>\n",
       "    <tr style=\"text-align: right;\">\n",
       "      <th></th>\n",
       "      <th>name</th>\n",
       "      <th>street</th>\n",
       "      <th>city</th>\n",
       "      <th>state</th>\n",
       "      <th>postal-code</th>\n",
       "      <th>Jan</th>\n",
       "      <th>Feb</th>\n",
       "      <th>Mar</th>\n",
       "    </tr>\n",
       "  </thead>\n",
       "  <tbody>\n",
       "    <tr>\n",
       "      <th>4</th>\n",
       "      <td>Bauch-Goldner</td>\n",
       "      <td>7274 Marissa Common</td>\n",
       "      <td>Shanahanchester</td>\n",
       "      <td>California</td>\n",
       "      <td>49681</td>\n",
       "      <td>162000</td>\n",
       "      <td>120000</td>\n",
       "      <td>35000</td>\n",
       "    </tr>\n",
       "    <tr>\n",
       "      <th>5</th>\n",
       "      <td>Williamson, Schumm and Hettinger</td>\n",
       "      <td>89403 Casimer Spring</td>\n",
       "      <td>Jeremieburgh</td>\n",
       "      <td>Arkansas</td>\n",
       "      <td>62785</td>\n",
       "      <td>150000</td>\n",
       "      <td>120000</td>\n",
       "      <td>35000</td>\n",
       "    </tr>\n",
       "    <tr>\n",
       "      <th>6</th>\n",
       "      <td>Casper LLC</td>\n",
       "      <td>340 Consuela Bridge Apt. 400</td>\n",
       "      <td>Lake Gabriellaton</td>\n",
       "      <td>Mississipi</td>\n",
       "      <td>18008</td>\n",
       "      <td>62000</td>\n",
       "      <td>120000</td>\n",
       "      <td>70000</td>\n",
       "    </tr>\n",
       "    <tr>\n",
       "      <th>7</th>\n",
       "      <td>Kovacek-Johnston</td>\n",
       "      <td>91971 Cronin Vista Suite 601</td>\n",
       "      <td>Deronville</td>\n",
       "      <td>RhodeIsland</td>\n",
       "      <td>53461</td>\n",
       "      <td>145000</td>\n",
       "      <td>95000</td>\n",
       "      <td>35000</td>\n",
       "    </tr>\n",
       "    <tr>\n",
       "      <th>8</th>\n",
       "      <td>Champlin-Morar</td>\n",
       "      <td>26739 Grant Lock</td>\n",
       "      <td>Lake Juliannton</td>\n",
       "      <td>Pennsylvania</td>\n",
       "      <td>64415</td>\n",
       "      <td>70000</td>\n",
       "      <td>95000</td>\n",
       "      <td>35000</td>\n",
       "    </tr>\n",
       "    <tr>\n",
       "      <th>9</th>\n",
       "      <td>Gerhold-Maggio</td>\n",
       "      <td>366 Maggio Grove Apt. 998</td>\n",
       "      <td>North Ras</td>\n",
       "      <td>Idaho</td>\n",
       "      <td>46308</td>\n",
       "      <td>70000</td>\n",
       "      <td>120000</td>\n",
       "      <td>35000</td>\n",
       "    </tr>\n",
       "    <tr>\n",
       "      <th>10</th>\n",
       "      <td>Goodwin, Homenick and Jerde</td>\n",
       "      <td>649 Cierra Forks Apt. 078</td>\n",
       "      <td>Rosaberg</td>\n",
       "      <td>Tenessee</td>\n",
       "      <td>47743</td>\n",
       "      <td>45000</td>\n",
       "      <td>120000</td>\n",
       "      <td>55000</td>\n",
       "    </tr>\n",
       "    <tr>\n",
       "      <th>11</th>\n",
       "      <td>Hahn-Moore</td>\n",
       "      <td>18115 Olivine Throughway</td>\n",
       "      <td>Norbertomouth</td>\n",
       "      <td>NorthDakota</td>\n",
       "      <td>31415</td>\n",
       "      <td>150000</td>\n",
       "      <td>10000</td>\n",
       "      <td>162000</td>\n",
       "    </tr>\n",
       "    <tr>\n",
       "      <th>12</th>\n",
       "      <td>Frami, Anderson and Donnelly</td>\n",
       "      <td>182 Bertie Road</td>\n",
       "      <td>East Davian</td>\n",
       "      <td>Iowa</td>\n",
       "      <td>72686</td>\n",
       "      <td>162000</td>\n",
       "      <td>120000</td>\n",
       "      <td>35000</td>\n",
       "    </tr>\n",
       "    <tr>\n",
       "      <th>13</th>\n",
       "      <td>Walsh-Haley</td>\n",
       "      <td>2624 Beatty Parkways</td>\n",
       "      <td>Goodwinmouth</td>\n",
       "      <td>RhodeIsland</td>\n",
       "      <td>31919</td>\n",
       "      <td>55000</td>\n",
       "      <td>120000</td>\n",
       "      <td>35000</td>\n",
       "    </tr>\n",
       "    <tr>\n",
       "      <th>14</th>\n",
       "      <td>McDermott PLC</td>\n",
       "      <td>8917 Bergstrom Meadow</td>\n",
       "      <td>Kathryneborough</td>\n",
       "      <td>Delaware</td>\n",
       "      <td>27933</td>\n",
       "      <td>150000</td>\n",
       "      <td>120000</td>\n",
       "      <td>70000</td>\n",
       "    </tr>\n",
       "  </tbody>\n",
       "</table>\n",
       "</div>"
      ],
      "text/plain": [
       "                                name                        street  \\\n",
       "4                      Bauch-Goldner           7274 Marissa Common   \n",
       "5   Williamson, Schumm and Hettinger          89403 Casimer Spring   \n",
       "6                         Casper LLC  340 Consuela Bridge Apt. 400   \n",
       "7                   Kovacek-Johnston  91971 Cronin Vista Suite 601   \n",
       "8                     Champlin-Morar              26739 Grant Lock   \n",
       "9                     Gerhold-Maggio     366 Maggio Grove Apt. 998   \n",
       "10       Goodwin, Homenick and Jerde     649 Cierra Forks Apt. 078   \n",
       "11                        Hahn-Moore      18115 Olivine Throughway   \n",
       "12      Frami, Anderson and Donnelly               182 Bertie Road   \n",
       "13                       Walsh-Haley          2624 Beatty Parkways   \n",
       "14                     McDermott PLC         8917 Bergstrom Meadow   \n",
       "\n",
       "                 city         state  postal-code     Jan     Feb     Mar  \n",
       "4     Shanahanchester    California        49681  162000  120000   35000  \n",
       "5        Jeremieburgh      Arkansas        62785  150000  120000   35000  \n",
       "6   Lake Gabriellaton    Mississipi        18008   62000  120000   70000  \n",
       "7          Deronville   RhodeIsland        53461  145000   95000   35000  \n",
       "8     Lake Juliannton  Pennsylvania        64415   70000   95000   35000  \n",
       "9           North Ras         Idaho        46308   70000  120000   35000  \n",
       "10           Rosaberg      Tenessee        47743   45000  120000   55000  \n",
       "11      Norbertomouth   NorthDakota        31415  150000   10000  162000  \n",
       "12        East Davian          Iowa        72686  162000  120000   35000  \n",
       "13       Goodwinmouth   RhodeIsland        31919   55000  120000   35000  \n",
       "14    Kathryneborough      Delaware        27933  150000  120000   70000  "
      ]
     },
     "execution_count": 64,
     "metadata": {},
     "output_type": "execute_result"
    }
   ],
   "source": [
    "# 한 개 이상의 index number로 drop\n",
    "df.drop([0,1,2,3]) # df.drop([0,1,2,3,], inplace=True) 로 하면 df가 바뀜"
   ]
  },
  {
   "cell_type": "code",
   "execution_count": 65,
   "metadata": {},
   "outputs": [
    {
     "data": {
      "text/html": [
       "<div>\n",
       "<style scoped>\n",
       "    .dataframe tbody tr th:only-of-type {\n",
       "        vertical-align: middle;\n",
       "    }\n",
       "\n",
       "    .dataframe tbody tr th {\n",
       "        vertical-align: top;\n",
       "    }\n",
       "\n",
       "    .dataframe thead th {\n",
       "        text-align: right;\n",
       "    }\n",
       "</style>\n",
       "<table border=\"1\" class=\"dataframe\">\n",
       "  <thead>\n",
       "    <tr style=\"text-align: right;\">\n",
       "      <th></th>\n",
       "      <th>name</th>\n",
       "      <th>street</th>\n",
       "      <th>state</th>\n",
       "      <th>postal-code</th>\n",
       "      <th>Jan</th>\n",
       "      <th>Feb</th>\n",
       "      <th>Mar</th>\n",
       "    </tr>\n",
       "  </thead>\n",
       "  <tbody>\n",
       "    <tr>\n",
       "      <th>0</th>\n",
       "      <td>Kerluke, Koepp and Hilpert</td>\n",
       "      <td>34456 Sean Highway</td>\n",
       "      <td>Texas</td>\n",
       "      <td>28752</td>\n",
       "      <td>10000</td>\n",
       "      <td>62000</td>\n",
       "      <td>35000</td>\n",
       "    </tr>\n",
       "    <tr>\n",
       "      <th>1</th>\n",
       "      <td>Walter-Trantow</td>\n",
       "      <td>1311 Alvis Tunnel</td>\n",
       "      <td>NorthCarolina</td>\n",
       "      <td>38365</td>\n",
       "      <td>95000</td>\n",
       "      <td>45000</td>\n",
       "      <td>35000</td>\n",
       "    </tr>\n",
       "    <tr>\n",
       "      <th>2</th>\n",
       "      <td>Bashirian, Kunde and Price</td>\n",
       "      <td>62184 Schamberger Underpass Apt. 231</td>\n",
       "      <td>Iowa</td>\n",
       "      <td>76517</td>\n",
       "      <td>91000</td>\n",
       "      <td>120000</td>\n",
       "      <td>35000</td>\n",
       "    </tr>\n",
       "    <tr>\n",
       "      <th>3</th>\n",
       "      <td>D'Amore, Gleichner and Bode</td>\n",
       "      <td>155 Fadel Crescent Apt. 144</td>\n",
       "      <td>Maine</td>\n",
       "      <td>46021</td>\n",
       "      <td>45000</td>\n",
       "      <td>120000</td>\n",
       "      <td>10000</td>\n",
       "    </tr>\n",
       "    <tr>\n",
       "      <th>4</th>\n",
       "      <td>Bauch-Goldner</td>\n",
       "      <td>7274 Marissa Common</td>\n",
       "      <td>California</td>\n",
       "      <td>49681</td>\n",
       "      <td>162000</td>\n",
       "      <td>120000</td>\n",
       "      <td>35000</td>\n",
       "    </tr>\n",
       "    <tr>\n",
       "      <th>5</th>\n",
       "      <td>Williamson, Schumm and Hettinger</td>\n",
       "      <td>89403 Casimer Spring</td>\n",
       "      <td>Arkansas</td>\n",
       "      <td>62785</td>\n",
       "      <td>150000</td>\n",
       "      <td>120000</td>\n",
       "      <td>35000</td>\n",
       "    </tr>\n",
       "    <tr>\n",
       "      <th>6</th>\n",
       "      <td>Casper LLC</td>\n",
       "      <td>340 Consuela Bridge Apt. 400</td>\n",
       "      <td>Mississipi</td>\n",
       "      <td>18008</td>\n",
       "      <td>62000</td>\n",
       "      <td>120000</td>\n",
       "      <td>70000</td>\n",
       "    </tr>\n",
       "    <tr>\n",
       "      <th>7</th>\n",
       "      <td>Kovacek-Johnston</td>\n",
       "      <td>91971 Cronin Vista Suite 601</td>\n",
       "      <td>RhodeIsland</td>\n",
       "      <td>53461</td>\n",
       "      <td>145000</td>\n",
       "      <td>95000</td>\n",
       "      <td>35000</td>\n",
       "    </tr>\n",
       "    <tr>\n",
       "      <th>8</th>\n",
       "      <td>Champlin-Morar</td>\n",
       "      <td>26739 Grant Lock</td>\n",
       "      <td>Pennsylvania</td>\n",
       "      <td>64415</td>\n",
       "      <td>70000</td>\n",
       "      <td>95000</td>\n",
       "      <td>35000</td>\n",
       "    </tr>\n",
       "    <tr>\n",
       "      <th>9</th>\n",
       "      <td>Gerhold-Maggio</td>\n",
       "      <td>366 Maggio Grove Apt. 998</td>\n",
       "      <td>Idaho</td>\n",
       "      <td>46308</td>\n",
       "      <td>70000</td>\n",
       "      <td>120000</td>\n",
       "      <td>35000</td>\n",
       "    </tr>\n",
       "    <tr>\n",
       "      <th>10</th>\n",
       "      <td>Goodwin, Homenick and Jerde</td>\n",
       "      <td>649 Cierra Forks Apt. 078</td>\n",
       "      <td>Tenessee</td>\n",
       "      <td>47743</td>\n",
       "      <td>45000</td>\n",
       "      <td>120000</td>\n",
       "      <td>55000</td>\n",
       "    </tr>\n",
       "    <tr>\n",
       "      <th>11</th>\n",
       "      <td>Hahn-Moore</td>\n",
       "      <td>18115 Olivine Throughway</td>\n",
       "      <td>NorthDakota</td>\n",
       "      <td>31415</td>\n",
       "      <td>150000</td>\n",
       "      <td>10000</td>\n",
       "      <td>162000</td>\n",
       "    </tr>\n",
       "    <tr>\n",
       "      <th>12</th>\n",
       "      <td>Frami, Anderson and Donnelly</td>\n",
       "      <td>182 Bertie Road</td>\n",
       "      <td>Iowa</td>\n",
       "      <td>72686</td>\n",
       "      <td>162000</td>\n",
       "      <td>120000</td>\n",
       "      <td>35000</td>\n",
       "    </tr>\n",
       "    <tr>\n",
       "      <th>13</th>\n",
       "      <td>Walsh-Haley</td>\n",
       "      <td>2624 Beatty Parkways</td>\n",
       "      <td>RhodeIsland</td>\n",
       "      <td>31919</td>\n",
       "      <td>55000</td>\n",
       "      <td>120000</td>\n",
       "      <td>35000</td>\n",
       "    </tr>\n",
       "    <tr>\n",
       "      <th>14</th>\n",
       "      <td>McDermott PLC</td>\n",
       "      <td>8917 Bergstrom Meadow</td>\n",
       "      <td>Delaware</td>\n",
       "      <td>27933</td>\n",
       "      <td>150000</td>\n",
       "      <td>120000</td>\n",
       "      <td>70000</td>\n",
       "    </tr>\n",
       "  </tbody>\n",
       "</table>\n",
       "</div>"
      ],
      "text/plain": [
       "                                name                                street  \\\n",
       "0         Kerluke, Koepp and Hilpert                    34456 Sean Highway   \n",
       "1                     Walter-Trantow                     1311 Alvis Tunnel   \n",
       "2         Bashirian, Kunde and Price  62184 Schamberger Underpass Apt. 231   \n",
       "3        D'Amore, Gleichner and Bode           155 Fadel Crescent Apt. 144   \n",
       "4                      Bauch-Goldner                   7274 Marissa Common   \n",
       "5   Williamson, Schumm and Hettinger                  89403 Casimer Spring   \n",
       "6                         Casper LLC          340 Consuela Bridge Apt. 400   \n",
       "7                   Kovacek-Johnston          91971 Cronin Vista Suite 601   \n",
       "8                     Champlin-Morar                      26739 Grant Lock   \n",
       "9                     Gerhold-Maggio             366 Maggio Grove Apt. 998   \n",
       "10       Goodwin, Homenick and Jerde             649 Cierra Forks Apt. 078   \n",
       "11                        Hahn-Moore              18115 Olivine Throughway   \n",
       "12      Frami, Anderson and Donnelly                       182 Bertie Road   \n",
       "13                       Walsh-Haley                  2624 Beatty Parkways   \n",
       "14                     McDermott PLC                 8917 Bergstrom Meadow   \n",
       "\n",
       "            state  postal-code     Jan     Feb     Mar  \n",
       "0           Texas        28752   10000   62000   35000  \n",
       "1   NorthCarolina        38365   95000   45000   35000  \n",
       "2            Iowa        76517   91000  120000   35000  \n",
       "3           Maine        46021   45000  120000   10000  \n",
       "4      California        49681  162000  120000   35000  \n",
       "5        Arkansas        62785  150000  120000   35000  \n",
       "6      Mississipi        18008   62000  120000   70000  \n",
       "7     RhodeIsland        53461  145000   95000   35000  \n",
       "8    Pennsylvania        64415   70000   95000   35000  \n",
       "9           Idaho        46308   70000  120000   35000  \n",
       "10       Tenessee        47743   45000  120000   55000  \n",
       "11    NorthDakota        31415  150000   10000  162000  \n",
       "12           Iowa        72686  162000  120000   35000  \n",
       "13    RhodeIsland        31919   55000  120000   35000  \n",
       "14       Delaware        27933  150000  120000   70000  "
      ]
     },
     "execution_count": 65,
     "metadata": {},
     "output_type": "execute_result"
    }
   ],
   "source": [
    "# axis 기준으로 drop\n",
    "df.drop('city', axis=1) "
   ]
  },
  {
   "cell_type": "code",
   "execution_count": 66,
   "metadata": {},
   "outputs": [
    {
     "name": "stderr",
     "output_type": "stream",
     "text": [
      "c:\\python37\\lib\\site-packages\\ipykernel_launcher.py:1: FutureWarning: Method .as_matrix will be removed in a future version. Use .values instead.\n",
      "  \"\"\"Entry point for launching an IPython kernel.\n"
     ]
    },
    {
     "data": {
      "text/plain": [
       "array([['Kerluke, Koepp and Hilpert', '34456 Sean Highway', 'New Jaycob',\n",
       "        'Texas', 28752, 10000, 62000, 35000],\n",
       "       ['Walter-Trantow', '1311 Alvis Tunnel', 'Port Khadijah',\n",
       "        'NorthCarolina', 38365, 95000, 45000, 35000],\n",
       "       ['Bashirian, Kunde and Price',\n",
       "        '62184 Schamberger Underpass Apt. 231', 'New Lilianland', 'Iowa',\n",
       "        76517, 91000, 120000, 35000]], dtype=object)"
      ]
     },
     "execution_count": 66,
     "metadata": {},
     "output_type": "execute_result"
    }
   ],
   "source": [
    "matrix = df.as_matrix()\n",
    "matrix[:3]"
   ]
  },
  {
   "cell_type": "code",
   "execution_count": 67,
   "metadata": {},
   "outputs": [
    {
     "data": {
      "text/plain": [
       "array([[10000, 62000, 35000],\n",
       "       [95000, 45000, 35000],\n",
       "       [91000, 120000, 35000],\n",
       "       [45000, 120000, 10000],\n",
       "       [162000, 120000, 35000],\n",
       "       [150000, 120000, 35000],\n",
       "       [62000, 120000, 70000],\n",
       "       [145000, 95000, 35000],\n",
       "       [70000, 95000, 35000],\n",
       "       [70000, 120000, 35000],\n",
       "       [45000, 120000, 55000],\n",
       "       [150000, 10000, 162000],\n",
       "       [162000, 120000, 35000],\n",
       "       [55000, 120000, 35000],\n",
       "       [150000, 120000, 70000]], dtype=object)"
      ]
     },
     "execution_count": 67,
     "metadata": {},
     "output_type": "execute_result"
    }
   ],
   "source": [
    "matrix[:, -3:]"
   ]
  },
  {
   "cell_type": "code",
   "execution_count": 68,
   "metadata": {},
   "outputs": [
    {
     "data": {
      "text/plain": [
       "array([107000, 175000, 246000, 175000, 317000, 305000, 252000, 275000,\n",
       "       200000, 225000, 220000, 322000, 317000, 210000, 340000],\n",
       "      dtype=object)"
      ]
     },
     "execution_count": 68,
     "metadata": {},
     "output_type": "execute_result"
    }
   ],
   "source": [
    "matrix[:, -3:].sum(axis=1)"
   ]
  },
  {
   "cell_type": "code",
   "execution_count": 69,
   "metadata": {},
   "outputs": [
    {
     "data": {
      "text/html": [
       "<div>\n",
       "<style scoped>\n",
       "    .dataframe tbody tr th:only-of-type {\n",
       "        vertical-align: middle;\n",
       "    }\n",
       "\n",
       "    .dataframe tbody tr th {\n",
       "        vertical-align: top;\n",
       "    }\n",
       "\n",
       "    .dataframe thead th {\n",
       "        text-align: right;\n",
       "    }\n",
       "</style>\n",
       "<table border=\"1\" class=\"dataframe\">\n",
       "  <thead>\n",
       "    <tr style=\"text-align: right;\">\n",
       "      <th></th>\n",
       "      <th>name</th>\n",
       "      <th>street</th>\n",
       "      <th>state</th>\n",
       "      <th>postal-code</th>\n",
       "      <th>Jan</th>\n",
       "      <th>Feb</th>\n",
       "      <th>Mar</th>\n",
       "    </tr>\n",
       "  </thead>\n",
       "  <tbody>\n",
       "    <tr>\n",
       "      <th>0</th>\n",
       "      <td>Kerluke, Koepp and Hilpert</td>\n",
       "      <td>34456 Sean Highway</td>\n",
       "      <td>Texas</td>\n",
       "      <td>28752</td>\n",
       "      <td>10000</td>\n",
       "      <td>62000</td>\n",
       "      <td>35000</td>\n",
       "    </tr>\n",
       "    <tr>\n",
       "      <th>1</th>\n",
       "      <td>Walter-Trantow</td>\n",
       "      <td>1311 Alvis Tunnel</td>\n",
       "      <td>NorthCarolina</td>\n",
       "      <td>38365</td>\n",
       "      <td>95000</td>\n",
       "      <td>45000</td>\n",
       "      <td>35000</td>\n",
       "    </tr>\n",
       "    <tr>\n",
       "      <th>2</th>\n",
       "      <td>Bashirian, Kunde and Price</td>\n",
       "      <td>62184 Schamberger Underpass Apt. 231</td>\n",
       "      <td>Iowa</td>\n",
       "      <td>76517</td>\n",
       "      <td>91000</td>\n",
       "      <td>120000</td>\n",
       "      <td>35000</td>\n",
       "    </tr>\n",
       "    <tr>\n",
       "      <th>3</th>\n",
       "      <td>D'Amore, Gleichner and Bode</td>\n",
       "      <td>155 Fadel Crescent Apt. 144</td>\n",
       "      <td>Maine</td>\n",
       "      <td>46021</td>\n",
       "      <td>45000</td>\n",
       "      <td>120000</td>\n",
       "      <td>10000</td>\n",
       "    </tr>\n",
       "    <tr>\n",
       "      <th>4</th>\n",
       "      <td>Bauch-Goldner</td>\n",
       "      <td>7274 Marissa Common</td>\n",
       "      <td>California</td>\n",
       "      <td>49681</td>\n",
       "      <td>162000</td>\n",
       "      <td>120000</td>\n",
       "      <td>35000</td>\n",
       "    </tr>\n",
       "    <tr>\n",
       "      <th>5</th>\n",
       "      <td>Williamson, Schumm and Hettinger</td>\n",
       "      <td>89403 Casimer Spring</td>\n",
       "      <td>Arkansas</td>\n",
       "      <td>62785</td>\n",
       "      <td>150000</td>\n",
       "      <td>120000</td>\n",
       "      <td>35000</td>\n",
       "    </tr>\n",
       "    <tr>\n",
       "      <th>6</th>\n",
       "      <td>Casper LLC</td>\n",
       "      <td>340 Consuela Bridge Apt. 400</td>\n",
       "      <td>Mississipi</td>\n",
       "      <td>18008</td>\n",
       "      <td>62000</td>\n",
       "      <td>120000</td>\n",
       "      <td>70000</td>\n",
       "    </tr>\n",
       "    <tr>\n",
       "      <th>7</th>\n",
       "      <td>Kovacek-Johnston</td>\n",
       "      <td>91971 Cronin Vista Suite 601</td>\n",
       "      <td>RhodeIsland</td>\n",
       "      <td>53461</td>\n",
       "      <td>145000</td>\n",
       "      <td>95000</td>\n",
       "      <td>35000</td>\n",
       "    </tr>\n",
       "    <tr>\n",
       "      <th>8</th>\n",
       "      <td>Champlin-Morar</td>\n",
       "      <td>26739 Grant Lock</td>\n",
       "      <td>Pennsylvania</td>\n",
       "      <td>64415</td>\n",
       "      <td>70000</td>\n",
       "      <td>95000</td>\n",
       "      <td>35000</td>\n",
       "    </tr>\n",
       "    <tr>\n",
       "      <th>9</th>\n",
       "      <td>Gerhold-Maggio</td>\n",
       "      <td>366 Maggio Grove Apt. 998</td>\n",
       "      <td>Idaho</td>\n",
       "      <td>46308</td>\n",
       "      <td>70000</td>\n",
       "      <td>120000</td>\n",
       "      <td>35000</td>\n",
       "    </tr>\n",
       "    <tr>\n",
       "      <th>10</th>\n",
       "      <td>Goodwin, Homenick and Jerde</td>\n",
       "      <td>649 Cierra Forks Apt. 078</td>\n",
       "      <td>Tenessee</td>\n",
       "      <td>47743</td>\n",
       "      <td>45000</td>\n",
       "      <td>120000</td>\n",
       "      <td>55000</td>\n",
       "    </tr>\n",
       "    <tr>\n",
       "      <th>11</th>\n",
       "      <td>Hahn-Moore</td>\n",
       "      <td>18115 Olivine Throughway</td>\n",
       "      <td>NorthDakota</td>\n",
       "      <td>31415</td>\n",
       "      <td>150000</td>\n",
       "      <td>10000</td>\n",
       "      <td>162000</td>\n",
       "    </tr>\n",
       "    <tr>\n",
       "      <th>12</th>\n",
       "      <td>Frami, Anderson and Donnelly</td>\n",
       "      <td>182 Bertie Road</td>\n",
       "      <td>Iowa</td>\n",
       "      <td>72686</td>\n",
       "      <td>162000</td>\n",
       "      <td>120000</td>\n",
       "      <td>35000</td>\n",
       "    </tr>\n",
       "    <tr>\n",
       "      <th>13</th>\n",
       "      <td>Walsh-Haley</td>\n",
       "      <td>2624 Beatty Parkways</td>\n",
       "      <td>RhodeIsland</td>\n",
       "      <td>31919</td>\n",
       "      <td>55000</td>\n",
       "      <td>120000</td>\n",
       "      <td>35000</td>\n",
       "    </tr>\n",
       "    <tr>\n",
       "      <th>14</th>\n",
       "      <td>McDermott PLC</td>\n",
       "      <td>8917 Bergstrom Meadow</td>\n",
       "      <td>Delaware</td>\n",
       "      <td>27933</td>\n",
       "      <td>150000</td>\n",
       "      <td>120000</td>\n",
       "      <td>70000</td>\n",
       "    </tr>\n",
       "  </tbody>\n",
       "</table>\n",
       "</div>"
      ],
      "text/plain": [
       "                                name                                street  \\\n",
       "0         Kerluke, Koepp and Hilpert                    34456 Sean Highway   \n",
       "1                     Walter-Trantow                     1311 Alvis Tunnel   \n",
       "2         Bashirian, Kunde and Price  62184 Schamberger Underpass Apt. 231   \n",
       "3        D'Amore, Gleichner and Bode           155 Fadel Crescent Apt. 144   \n",
       "4                      Bauch-Goldner                   7274 Marissa Common   \n",
       "5   Williamson, Schumm and Hettinger                  89403 Casimer Spring   \n",
       "6                         Casper LLC          340 Consuela Bridge Apt. 400   \n",
       "7                   Kovacek-Johnston          91971 Cronin Vista Suite 601   \n",
       "8                     Champlin-Morar                      26739 Grant Lock   \n",
       "9                     Gerhold-Maggio             366 Maggio Grove Apt. 998   \n",
       "10       Goodwin, Homenick and Jerde             649 Cierra Forks Apt. 078   \n",
       "11                        Hahn-Moore              18115 Olivine Throughway   \n",
       "12      Frami, Anderson and Donnelly                       182 Bertie Road   \n",
       "13                       Walsh-Haley                  2624 Beatty Parkways   \n",
       "14                     McDermott PLC                 8917 Bergstrom Meadow   \n",
       "\n",
       "            state  postal-code     Jan     Feb     Mar  \n",
       "0           Texas        28752   10000   62000   35000  \n",
       "1   NorthCarolina        38365   95000   45000   35000  \n",
       "2            Iowa        76517   91000  120000   35000  \n",
       "3           Maine        46021   45000  120000   10000  \n",
       "4      California        49681  162000  120000   35000  \n",
       "5        Arkansas        62785  150000  120000   35000  \n",
       "6      Mississipi        18008   62000  120000   70000  \n",
       "7     RhodeIsland        53461  145000   95000   35000  \n",
       "8    Pennsylvania        64415   70000   95000   35000  \n",
       "9           Idaho        46308   70000  120000   35000  \n",
       "10       Tenessee        47743   45000  120000   55000  \n",
       "11    NorthDakota        31415  150000   10000  162000  \n",
       "12           Iowa        72686  162000  120000   35000  \n",
       "13    RhodeIsland        31919   55000  120000   35000  \n",
       "14       Delaware        27933  150000  120000   70000  "
      ]
     },
     "execution_count": 69,
     "metadata": {},
     "output_type": "execute_result"
    }
   ],
   "source": [
    "df.drop('city', axis=1)"
   ]
  },
  {
   "cell_type": "code",
   "execution_count": 70,
   "metadata": {},
   "outputs": [
    {
     "data": {
      "text/html": [
       "<div>\n",
       "<style scoped>\n",
       "    .dataframe tbody tr th:only-of-type {\n",
       "        vertical-align: middle;\n",
       "    }\n",
       "\n",
       "    .dataframe tbody tr th {\n",
       "        vertical-align: top;\n",
       "    }\n",
       "\n",
       "    .dataframe thead th {\n",
       "        text-align: right;\n",
       "    }\n",
       "</style>\n",
       "<table border=\"1\" class=\"dataframe\">\n",
       "  <thead>\n",
       "    <tr style=\"text-align: right;\">\n",
       "      <th></th>\n",
       "      <th>name</th>\n",
       "      <th>street</th>\n",
       "      <th>postal-code</th>\n",
       "      <th>Jan</th>\n",
       "      <th>Feb</th>\n",
       "      <th>Mar</th>\n",
       "    </tr>\n",
       "  </thead>\n",
       "  <tbody>\n",
       "    <tr>\n",
       "      <th>0</th>\n",
       "      <td>Kerluke, Koepp and Hilpert</td>\n",
       "      <td>34456 Sean Highway</td>\n",
       "      <td>28752</td>\n",
       "      <td>10000</td>\n",
       "      <td>62000</td>\n",
       "      <td>35000</td>\n",
       "    </tr>\n",
       "    <tr>\n",
       "      <th>1</th>\n",
       "      <td>Walter-Trantow</td>\n",
       "      <td>1311 Alvis Tunnel</td>\n",
       "      <td>38365</td>\n",
       "      <td>95000</td>\n",
       "      <td>45000</td>\n",
       "      <td>35000</td>\n",
       "    </tr>\n",
       "    <tr>\n",
       "      <th>2</th>\n",
       "      <td>Bashirian, Kunde and Price</td>\n",
       "      <td>62184 Schamberger Underpass Apt. 231</td>\n",
       "      <td>76517</td>\n",
       "      <td>91000</td>\n",
       "      <td>120000</td>\n",
       "      <td>35000</td>\n",
       "    </tr>\n",
       "    <tr>\n",
       "      <th>3</th>\n",
       "      <td>D'Amore, Gleichner and Bode</td>\n",
       "      <td>155 Fadel Crescent Apt. 144</td>\n",
       "      <td>46021</td>\n",
       "      <td>45000</td>\n",
       "      <td>120000</td>\n",
       "      <td>10000</td>\n",
       "    </tr>\n",
       "    <tr>\n",
       "      <th>4</th>\n",
       "      <td>Bauch-Goldner</td>\n",
       "      <td>7274 Marissa Common</td>\n",
       "      <td>49681</td>\n",
       "      <td>162000</td>\n",
       "      <td>120000</td>\n",
       "      <td>35000</td>\n",
       "    </tr>\n",
       "    <tr>\n",
       "      <th>5</th>\n",
       "      <td>Williamson, Schumm and Hettinger</td>\n",
       "      <td>89403 Casimer Spring</td>\n",
       "      <td>62785</td>\n",
       "      <td>150000</td>\n",
       "      <td>120000</td>\n",
       "      <td>35000</td>\n",
       "    </tr>\n",
       "    <tr>\n",
       "      <th>6</th>\n",
       "      <td>Casper LLC</td>\n",
       "      <td>340 Consuela Bridge Apt. 400</td>\n",
       "      <td>18008</td>\n",
       "      <td>62000</td>\n",
       "      <td>120000</td>\n",
       "      <td>70000</td>\n",
       "    </tr>\n",
       "    <tr>\n",
       "      <th>7</th>\n",
       "      <td>Kovacek-Johnston</td>\n",
       "      <td>91971 Cronin Vista Suite 601</td>\n",
       "      <td>53461</td>\n",
       "      <td>145000</td>\n",
       "      <td>95000</td>\n",
       "      <td>35000</td>\n",
       "    </tr>\n",
       "    <tr>\n",
       "      <th>8</th>\n",
       "      <td>Champlin-Morar</td>\n",
       "      <td>26739 Grant Lock</td>\n",
       "      <td>64415</td>\n",
       "      <td>70000</td>\n",
       "      <td>95000</td>\n",
       "      <td>35000</td>\n",
       "    </tr>\n",
       "    <tr>\n",
       "      <th>9</th>\n",
       "      <td>Gerhold-Maggio</td>\n",
       "      <td>366 Maggio Grove Apt. 998</td>\n",
       "      <td>46308</td>\n",
       "      <td>70000</td>\n",
       "      <td>120000</td>\n",
       "      <td>35000</td>\n",
       "    </tr>\n",
       "    <tr>\n",
       "      <th>10</th>\n",
       "      <td>Goodwin, Homenick and Jerde</td>\n",
       "      <td>649 Cierra Forks Apt. 078</td>\n",
       "      <td>47743</td>\n",
       "      <td>45000</td>\n",
       "      <td>120000</td>\n",
       "      <td>55000</td>\n",
       "    </tr>\n",
       "    <tr>\n",
       "      <th>11</th>\n",
       "      <td>Hahn-Moore</td>\n",
       "      <td>18115 Olivine Throughway</td>\n",
       "      <td>31415</td>\n",
       "      <td>150000</td>\n",
       "      <td>10000</td>\n",
       "      <td>162000</td>\n",
       "    </tr>\n",
       "    <tr>\n",
       "      <th>12</th>\n",
       "      <td>Frami, Anderson and Donnelly</td>\n",
       "      <td>182 Bertie Road</td>\n",
       "      <td>72686</td>\n",
       "      <td>162000</td>\n",
       "      <td>120000</td>\n",
       "      <td>35000</td>\n",
       "    </tr>\n",
       "    <tr>\n",
       "      <th>13</th>\n",
       "      <td>Walsh-Haley</td>\n",
       "      <td>2624 Beatty Parkways</td>\n",
       "      <td>31919</td>\n",
       "      <td>55000</td>\n",
       "      <td>120000</td>\n",
       "      <td>35000</td>\n",
       "    </tr>\n",
       "    <tr>\n",
       "      <th>14</th>\n",
       "      <td>McDermott PLC</td>\n",
       "      <td>8917 Bergstrom Meadow</td>\n",
       "      <td>27933</td>\n",
       "      <td>150000</td>\n",
       "      <td>120000</td>\n",
       "      <td>70000</td>\n",
       "    </tr>\n",
       "  </tbody>\n",
       "</table>\n",
       "</div>"
      ],
      "text/plain": [
       "                                name                                street  \\\n",
       "0         Kerluke, Koepp and Hilpert                    34456 Sean Highway   \n",
       "1                     Walter-Trantow                     1311 Alvis Tunnel   \n",
       "2         Bashirian, Kunde and Price  62184 Schamberger Underpass Apt. 231   \n",
       "3        D'Amore, Gleichner and Bode           155 Fadel Crescent Apt. 144   \n",
       "4                      Bauch-Goldner                   7274 Marissa Common   \n",
       "5   Williamson, Schumm and Hettinger                  89403 Casimer Spring   \n",
       "6                         Casper LLC          340 Consuela Bridge Apt. 400   \n",
       "7                   Kovacek-Johnston          91971 Cronin Vista Suite 601   \n",
       "8                     Champlin-Morar                      26739 Grant Lock   \n",
       "9                     Gerhold-Maggio             366 Maggio Grove Apt. 998   \n",
       "10       Goodwin, Homenick and Jerde             649 Cierra Forks Apt. 078   \n",
       "11                        Hahn-Moore              18115 Olivine Throughway   \n",
       "12      Frami, Anderson and Donnelly                       182 Bertie Road   \n",
       "13                       Walsh-Haley                  2624 Beatty Parkways   \n",
       "14                     McDermott PLC                 8917 Bergstrom Meadow   \n",
       "\n",
       "    postal-code     Jan     Feb     Mar  \n",
       "0         28752   10000   62000   35000  \n",
       "1         38365   95000   45000   35000  \n",
       "2         76517   91000  120000   35000  \n",
       "3         46021   45000  120000   10000  \n",
       "4         49681  162000  120000   35000  \n",
       "5         62785  150000  120000   35000  \n",
       "6         18008   62000  120000   70000  \n",
       "7         53461  145000   95000   35000  \n",
       "8         64415   70000   95000   35000  \n",
       "9         46308   70000  120000   35000  \n",
       "10        47743   45000  120000   55000  \n",
       "11        31415  150000   10000  162000  \n",
       "12        72686  162000  120000   35000  \n",
       "13        31919   55000  120000   35000  \n",
       "14        27933  150000  120000   70000  "
      ]
     },
     "execution_count": 70,
     "metadata": {},
     "output_type": "execute_result"
    }
   ],
   "source": [
    "df.drop(['city', 'state'], axis=1)"
   ]
  },
  {
   "cell_type": "markdown",
   "metadata": {},
   "source": [
    "# 4. DataFrame Operations"
   ]
  },
  {
   "cell_type": "markdown",
   "metadata": {},
   "source": [
    "## 4-1) Series Operation\n",
    "- Operation types: add, sub, div, mul"
   ]
  },
  {
   "cell_type": "code",
   "execution_count": 3,
   "metadata": {},
   "outputs": [
    {
     "data": {
      "text/plain": [
       "a    1\n",
       "b    2\n",
       "c    3\n",
       "d    4\n",
       "e    5\n",
       "dtype: int64"
      ]
     },
     "execution_count": 3,
     "metadata": {},
     "output_type": "execute_result"
    }
   ],
   "source": [
    "s1 = Series(range(1,6), index=list(\"abcde\"))\n",
    "s1"
   ]
  },
  {
   "cell_type": "code",
   "execution_count": 4,
   "metadata": {},
   "outputs": [
    {
     "data": {
      "text/plain": [
       "b     5\n",
       "c     6\n",
       "d     7\n",
       "e     8\n",
       "f     9\n",
       "g    10\n",
       "dtype: int64"
      ]
     },
     "execution_count": 4,
     "metadata": {},
     "output_type": "execute_result"
    }
   ],
   "source": [
    "s2 = Series(range(5,11), index=list(\"bcdefg\"))\n",
    "s2"
   ]
  },
  {
   "cell_type": "markdown",
   "metadata": {},
   "source": [
    "- add : index를 기준으로 연산수행, 겹치는 index가 없을 경우 NaN값으로 반환"
   ]
  },
  {
   "cell_type": "code",
   "execution_count": 5,
   "metadata": {},
   "outputs": [
    {
     "data": {
      "text/plain": [
       "a     NaN\n",
       "b     7.0\n",
       "c     9.0\n",
       "d    11.0\n",
       "e    13.0\n",
       "f     NaN\n",
       "g     NaN\n",
       "dtype: float64"
      ]
     },
     "execution_count": 5,
     "metadata": {},
     "output_type": "execute_result"
    }
   ],
   "source": [
    "s1.add(s2)"
   ]
  },
  {
   "cell_type": "code",
   "execution_count": 6,
   "metadata": {},
   "outputs": [
    {
     "data": {
      "text/plain": [
       "a     NaN\n",
       "b     7.0\n",
       "c     9.0\n",
       "d    11.0\n",
       "e    13.0\n",
       "f     NaN\n",
       "g     NaN\n",
       "dtype: float64"
      ]
     },
     "execution_count": 6,
     "metadata": {},
     "output_type": "execute_result"
    }
   ],
   "source": [
    "s1 + s2"
   ]
  },
  {
   "cell_type": "code",
   "execution_count": 7,
   "metadata": {},
   "outputs": [
    {
     "data": {
      "text/plain": [
       "a     1.0\n",
       "b     7.0\n",
       "c     9.0\n",
       "d    11.0\n",
       "e    13.0\n",
       "f     9.0\n",
       "g    10.0\n",
       "dtype: float64"
      ]
     },
     "execution_count": 7,
     "metadata": {},
     "output_type": "execute_result"
    }
   ],
   "source": [
    "# fill value\n",
    "s1.add(s2, fill_value=0)"
   ]
  },
  {
   "cell_type": "markdown",
   "metadata": {},
   "source": [
    "## 4-2) DataFrame Operation\n",
    "- Operation types: add, sub, div, mul"
   ]
  },
  {
   "cell_type": "code",
   "execution_count": 8,
   "metadata": {},
   "outputs": [
    {
     "data": {
      "text/html": [
       "<div>\n",
       "<style scoped>\n",
       "    .dataframe tbody tr th:only-of-type {\n",
       "        vertical-align: middle;\n",
       "    }\n",
       "\n",
       "    .dataframe tbody tr th {\n",
       "        vertical-align: top;\n",
       "    }\n",
       "\n",
       "    .dataframe thead th {\n",
       "        text-align: right;\n",
       "    }\n",
       "</style>\n",
       "<table border=\"1\" class=\"dataframe\">\n",
       "  <thead>\n",
       "    <tr style=\"text-align: right;\">\n",
       "      <th></th>\n",
       "      <th>a</th>\n",
       "      <th>b</th>\n",
       "      <th>c</th>\n",
       "    </tr>\n",
       "  </thead>\n",
       "  <tbody>\n",
       "    <tr>\n",
       "      <th>0</th>\n",
       "      <td>0</td>\n",
       "      <td>1</td>\n",
       "      <td>2</td>\n",
       "    </tr>\n",
       "    <tr>\n",
       "      <th>1</th>\n",
       "      <td>3</td>\n",
       "      <td>4</td>\n",
       "      <td>5</td>\n",
       "    </tr>\n",
       "    <tr>\n",
       "      <th>2</th>\n",
       "      <td>6</td>\n",
       "      <td>7</td>\n",
       "      <td>8</td>\n",
       "    </tr>\n",
       "  </tbody>\n",
       "</table>\n",
       "</div>"
      ],
      "text/plain": [
       "   a  b  c\n",
       "0  0  1  2\n",
       "1  3  4  5\n",
       "2  6  7  8"
      ]
     },
     "execution_count": 8,
     "metadata": {},
     "output_type": "execute_result"
    }
   ],
   "source": [
    "df1 = DataFrame(np.arange(9).reshape(3,3), columns=list('abc'))\n",
    "df1"
   ]
  },
  {
   "cell_type": "code",
   "execution_count": 10,
   "metadata": {},
   "outputs": [
    {
     "data": {
      "text/html": [
       "<div>\n",
       "<style scoped>\n",
       "    .dataframe tbody tr th:only-of-type {\n",
       "        vertical-align: middle;\n",
       "    }\n",
       "\n",
       "    .dataframe tbody tr th {\n",
       "        vertical-align: top;\n",
       "    }\n",
       "\n",
       "    .dataframe thead th {\n",
       "        text-align: right;\n",
       "    }\n",
       "</style>\n",
       "<table border=\"1\" class=\"dataframe\">\n",
       "  <thead>\n",
       "    <tr style=\"text-align: right;\">\n",
       "      <th></th>\n",
       "      <th>a</th>\n",
       "      <th>b</th>\n",
       "      <th>c</th>\n",
       "      <th>d</th>\n",
       "    </tr>\n",
       "  </thead>\n",
       "  <tbody>\n",
       "    <tr>\n",
       "      <th>0</th>\n",
       "      <td>0</td>\n",
       "      <td>1</td>\n",
       "      <td>2</td>\n",
       "      <td>3</td>\n",
       "    </tr>\n",
       "    <tr>\n",
       "      <th>1</th>\n",
       "      <td>4</td>\n",
       "      <td>5</td>\n",
       "      <td>6</td>\n",
       "      <td>7</td>\n",
       "    </tr>\n",
       "    <tr>\n",
       "      <th>2</th>\n",
       "      <td>8</td>\n",
       "      <td>9</td>\n",
       "      <td>10</td>\n",
       "      <td>11</td>\n",
       "    </tr>\n",
       "    <tr>\n",
       "      <th>3</th>\n",
       "      <td>12</td>\n",
       "      <td>13</td>\n",
       "      <td>14</td>\n",
       "      <td>15</td>\n",
       "    </tr>\n",
       "  </tbody>\n",
       "</table>\n",
       "</div>"
      ],
      "text/plain": [
       "    a   b   c   d\n",
       "0   0   1   2   3\n",
       "1   4   5   6   7\n",
       "2   8   9  10  11\n",
       "3  12  13  14  15"
      ]
     },
     "execution_count": 10,
     "metadata": {},
     "output_type": "execute_result"
    }
   ],
   "source": [
    "df2 = DataFrame(np.arange(16).reshape(4,4), columns=list(\"abcd\"))\n",
    "df2"
   ]
  },
  {
   "cell_type": "code",
   "execution_count": 11,
   "metadata": {},
   "outputs": [
    {
     "data": {
      "text/html": [
       "<div>\n",
       "<style scoped>\n",
       "    .dataframe tbody tr th:only-of-type {\n",
       "        vertical-align: middle;\n",
       "    }\n",
       "\n",
       "    .dataframe tbody tr th {\n",
       "        vertical-align: top;\n",
       "    }\n",
       "\n",
       "    .dataframe thead th {\n",
       "        text-align: right;\n",
       "    }\n",
       "</style>\n",
       "<table border=\"1\" class=\"dataframe\">\n",
       "  <thead>\n",
       "    <tr style=\"text-align: right;\">\n",
       "      <th></th>\n",
       "      <th>a</th>\n",
       "      <th>b</th>\n",
       "      <th>c</th>\n",
       "      <th>d</th>\n",
       "    </tr>\n",
       "  </thead>\n",
       "  <tbody>\n",
       "    <tr>\n",
       "      <th>0</th>\n",
       "      <td>0.0</td>\n",
       "      <td>2.0</td>\n",
       "      <td>4.0</td>\n",
       "      <td>NaN</td>\n",
       "    </tr>\n",
       "    <tr>\n",
       "      <th>1</th>\n",
       "      <td>7.0</td>\n",
       "      <td>9.0</td>\n",
       "      <td>11.0</td>\n",
       "      <td>NaN</td>\n",
       "    </tr>\n",
       "    <tr>\n",
       "      <th>2</th>\n",
       "      <td>14.0</td>\n",
       "      <td>16.0</td>\n",
       "      <td>18.0</td>\n",
       "      <td>NaN</td>\n",
       "    </tr>\n",
       "    <tr>\n",
       "      <th>3</th>\n",
       "      <td>NaN</td>\n",
       "      <td>NaN</td>\n",
       "      <td>NaN</td>\n",
       "      <td>NaN</td>\n",
       "    </tr>\n",
       "  </tbody>\n",
       "</table>\n",
       "</div>"
      ],
      "text/plain": [
       "      a     b     c   d\n",
       "0   0.0   2.0   4.0 NaN\n",
       "1   7.0   9.0  11.0 NaN\n",
       "2  14.0  16.0  18.0 NaN\n",
       "3   NaN   NaN   NaN NaN"
      ]
     },
     "execution_count": 11,
     "metadata": {},
     "output_type": "execute_result"
    }
   ],
   "source": [
    "df1 + df2"
   ]
  },
  {
   "cell_type": "code",
   "execution_count": 12,
   "metadata": {},
   "outputs": [
    {
     "data": {
      "text/html": [
       "<div>\n",
       "<style scoped>\n",
       "    .dataframe tbody tr th:only-of-type {\n",
       "        vertical-align: middle;\n",
       "    }\n",
       "\n",
       "    .dataframe tbody tr th {\n",
       "        vertical-align: top;\n",
       "    }\n",
       "\n",
       "    .dataframe thead th {\n",
       "        text-align: right;\n",
       "    }\n",
       "</style>\n",
       "<table border=\"1\" class=\"dataframe\">\n",
       "  <thead>\n",
       "    <tr style=\"text-align: right;\">\n",
       "      <th></th>\n",
       "      <th>a</th>\n",
       "      <th>b</th>\n",
       "      <th>c</th>\n",
       "      <th>d</th>\n",
       "    </tr>\n",
       "  </thead>\n",
       "  <tbody>\n",
       "    <tr>\n",
       "      <th>0</th>\n",
       "      <td>0.0</td>\n",
       "      <td>2.0</td>\n",
       "      <td>4.0</td>\n",
       "      <td>3.0</td>\n",
       "    </tr>\n",
       "    <tr>\n",
       "      <th>1</th>\n",
       "      <td>7.0</td>\n",
       "      <td>9.0</td>\n",
       "      <td>11.0</td>\n",
       "      <td>7.0</td>\n",
       "    </tr>\n",
       "    <tr>\n",
       "      <th>2</th>\n",
       "      <td>14.0</td>\n",
       "      <td>16.0</td>\n",
       "      <td>18.0</td>\n",
       "      <td>11.0</td>\n",
       "    </tr>\n",
       "    <tr>\n",
       "      <th>3</th>\n",
       "      <td>12.0</td>\n",
       "      <td>13.0</td>\n",
       "      <td>14.0</td>\n",
       "      <td>15.0</td>\n",
       "    </tr>\n",
       "  </tbody>\n",
       "</table>\n",
       "</div>"
      ],
      "text/plain": [
       "      a     b     c     d\n",
       "0   0.0   2.0   4.0   3.0\n",
       "1   7.0   9.0  11.0   7.0\n",
       "2  14.0  16.0  18.0  11.0\n",
       "3  12.0  13.0  14.0  15.0"
      ]
     },
     "execution_count": 12,
     "metadata": {},
     "output_type": "execute_result"
    }
   ],
   "source": [
    "df1.add(df2, fill_value=0)"
   ]
  },
  {
   "cell_type": "markdown",
   "metadata": {},
   "source": [
    "- df는 column과 index를 모두 고려  \n",
    "- add operation을 쓰면 NaN값 0으로 변환  "
   ]
  },
  {
   "cell_type": "markdown",
   "metadata": {},
   "source": [
    "## 4-3) Series + DataFrame"
   ]
  },
  {
   "cell_type": "code",
   "execution_count": 13,
   "metadata": {},
   "outputs": [
    {
     "data": {
      "text/html": [
       "<div>\n",
       "<style scoped>\n",
       "    .dataframe tbody tr th:only-of-type {\n",
       "        vertical-align: middle;\n",
       "    }\n",
       "\n",
       "    .dataframe tbody tr th {\n",
       "        vertical-align: top;\n",
       "    }\n",
       "\n",
       "    .dataframe thead th {\n",
       "        text-align: right;\n",
       "    }\n",
       "</style>\n",
       "<table border=\"1\" class=\"dataframe\">\n",
       "  <thead>\n",
       "    <tr style=\"text-align: right;\">\n",
       "      <th></th>\n",
       "      <th>a</th>\n",
       "      <th>b</th>\n",
       "      <th>c</th>\n",
       "      <th>d</th>\n",
       "    </tr>\n",
       "  </thead>\n",
       "  <tbody>\n",
       "    <tr>\n",
       "      <th>0</th>\n",
       "      <td>0</td>\n",
       "      <td>1</td>\n",
       "      <td>2</td>\n",
       "      <td>3</td>\n",
       "    </tr>\n",
       "    <tr>\n",
       "      <th>1</th>\n",
       "      <td>4</td>\n",
       "      <td>5</td>\n",
       "      <td>6</td>\n",
       "      <td>7</td>\n",
       "    </tr>\n",
       "    <tr>\n",
       "      <th>2</th>\n",
       "      <td>8</td>\n",
       "      <td>9</td>\n",
       "      <td>10</td>\n",
       "      <td>11</td>\n",
       "    </tr>\n",
       "    <tr>\n",
       "      <th>3</th>\n",
       "      <td>12</td>\n",
       "      <td>13</td>\n",
       "      <td>14</td>\n",
       "      <td>15</td>\n",
       "    </tr>\n",
       "  </tbody>\n",
       "</table>\n",
       "</div>"
      ],
      "text/plain": [
       "    a   b   c   d\n",
       "0   0   1   2   3\n",
       "1   4   5   6   7\n",
       "2   8   9  10  11\n",
       "3  12  13  14  15"
      ]
     },
     "execution_count": 13,
     "metadata": {},
     "output_type": "execute_result"
    }
   ],
   "source": [
    "df = DataFrame(np.arange(16).reshape(4,4), columns = list('abcd'))\n",
    "df"
   ]
  },
  {
   "cell_type": "code",
   "execution_count": 14,
   "metadata": {},
   "outputs": [
    {
     "data": {
      "text/plain": [
       "a    10\n",
       "b    11\n",
       "c    12\n",
       "d    13\n",
       "dtype: int32"
      ]
     },
     "execution_count": 14,
     "metadata": {},
     "output_type": "execute_result"
    }
   ],
   "source": [
    "s = Series(np.arange(10,14), index=list('abcd'))\n",
    "s"
   ]
  },
  {
   "cell_type": "code",
   "execution_count": 15,
   "metadata": {},
   "outputs": [
    {
     "data": {
      "text/html": [
       "<div>\n",
       "<style scoped>\n",
       "    .dataframe tbody tr th:only-of-type {\n",
       "        vertical-align: middle;\n",
       "    }\n",
       "\n",
       "    .dataframe tbody tr th {\n",
       "        vertical-align: top;\n",
       "    }\n",
       "\n",
       "    .dataframe thead th {\n",
       "        text-align: right;\n",
       "    }\n",
       "</style>\n",
       "<table border=\"1\" class=\"dataframe\">\n",
       "  <thead>\n",
       "    <tr style=\"text-align: right;\">\n",
       "      <th></th>\n",
       "      <th>a</th>\n",
       "      <th>b</th>\n",
       "      <th>c</th>\n",
       "      <th>d</th>\n",
       "    </tr>\n",
       "  </thead>\n",
       "  <tbody>\n",
       "    <tr>\n",
       "      <th>0</th>\n",
       "      <td>10</td>\n",
       "      <td>12</td>\n",
       "      <td>14</td>\n",
       "      <td>16</td>\n",
       "    </tr>\n",
       "    <tr>\n",
       "      <th>1</th>\n",
       "      <td>14</td>\n",
       "      <td>16</td>\n",
       "      <td>18</td>\n",
       "      <td>20</td>\n",
       "    </tr>\n",
       "    <tr>\n",
       "      <th>2</th>\n",
       "      <td>18</td>\n",
       "      <td>20</td>\n",
       "      <td>22</td>\n",
       "      <td>24</td>\n",
       "    </tr>\n",
       "    <tr>\n",
       "      <th>3</th>\n",
       "      <td>22</td>\n",
       "      <td>24</td>\n",
       "      <td>26</td>\n",
       "      <td>28</td>\n",
       "    </tr>\n",
       "  </tbody>\n",
       "</table>\n",
       "</div>"
      ],
      "text/plain": [
       "    a   b   c   d\n",
       "0  10  12  14  16\n",
       "1  14  16  18  20\n",
       "2  18  20  22  24\n",
       "3  22  24  26  28"
      ]
     },
     "execution_count": 15,
     "metadata": {},
     "output_type": "execute_result"
    }
   ],
   "source": [
    "df + s"
   ]
  },
  {
   "cell_type": "markdown",
   "metadata": {},
   "source": [
    "- column을 기준으로 broadcasting 발생"
   ]
  },
  {
   "cell_type": "code",
   "execution_count": 16,
   "metadata": {},
   "outputs": [
    {
     "data": {
      "text/html": [
       "<div>\n",
       "<style scoped>\n",
       "    .dataframe tbody tr th:only-of-type {\n",
       "        vertical-align: middle;\n",
       "    }\n",
       "\n",
       "    .dataframe tbody tr th {\n",
       "        vertical-align: top;\n",
       "    }\n",
       "\n",
       "    .dataframe thead th {\n",
       "        text-align: right;\n",
       "    }\n",
       "</style>\n",
       "<table border=\"1\" class=\"dataframe\">\n",
       "  <thead>\n",
       "    <tr style=\"text-align: right;\">\n",
       "      <th></th>\n",
       "      <th>a</th>\n",
       "      <th>b</th>\n",
       "      <th>c</th>\n",
       "      <th>d</th>\n",
       "    </tr>\n",
       "  </thead>\n",
       "  <tbody>\n",
       "    <tr>\n",
       "      <th>0</th>\n",
       "      <td>0</td>\n",
       "      <td>1</td>\n",
       "      <td>2</td>\n",
       "      <td>3</td>\n",
       "    </tr>\n",
       "    <tr>\n",
       "      <th>1</th>\n",
       "      <td>4</td>\n",
       "      <td>5</td>\n",
       "      <td>6</td>\n",
       "      <td>7</td>\n",
       "    </tr>\n",
       "    <tr>\n",
       "      <th>2</th>\n",
       "      <td>8</td>\n",
       "      <td>9</td>\n",
       "      <td>10</td>\n",
       "      <td>11</td>\n",
       "    </tr>\n",
       "    <tr>\n",
       "      <th>3</th>\n",
       "      <td>12</td>\n",
       "      <td>13</td>\n",
       "      <td>14</td>\n",
       "      <td>15</td>\n",
       "    </tr>\n",
       "  </tbody>\n",
       "</table>\n",
       "</div>"
      ],
      "text/plain": [
       "    a   b   c   d\n",
       "0   0   1   2   3\n",
       "1   4   5   6   7\n",
       "2   8   9  10  11\n",
       "3  12  13  14  15"
      ]
     },
     "execution_count": 16,
     "metadata": {},
     "output_type": "execute_result"
    }
   ],
   "source": [
    "df = DataFrame(np.arange(16).reshape(4,4), columns = list('abcd'))\n",
    "df"
   ]
  },
  {
   "cell_type": "code",
   "execution_count": 17,
   "metadata": {},
   "outputs": [
    {
     "data": {
      "text/plain": [
       "0    10\n",
       "1    11\n",
       "2    12\n",
       "3    13\n",
       "dtype: int32"
      ]
     },
     "execution_count": 17,
     "metadata": {},
     "output_type": "execute_result"
    }
   ],
   "source": [
    "s2 = Series(np.arange(10,14))\n",
    "s2"
   ]
  },
  {
   "cell_type": "code",
   "execution_count": 19,
   "metadata": {},
   "outputs": [
    {
     "data": {
      "text/html": [
       "<div>\n",
       "<style scoped>\n",
       "    .dataframe tbody tr th:only-of-type {\n",
       "        vertical-align: middle;\n",
       "    }\n",
       "\n",
       "    .dataframe tbody tr th {\n",
       "        vertical-align: top;\n",
       "    }\n",
       "\n",
       "    .dataframe thead th {\n",
       "        text-align: right;\n",
       "    }\n",
       "</style>\n",
       "<table border=\"1\" class=\"dataframe\">\n",
       "  <thead>\n",
       "    <tr style=\"text-align: right;\">\n",
       "      <th></th>\n",
       "      <th>a</th>\n",
       "      <th>b</th>\n",
       "      <th>c</th>\n",
       "      <th>d</th>\n",
       "      <th>0</th>\n",
       "      <th>1</th>\n",
       "      <th>2</th>\n",
       "      <th>3</th>\n",
       "    </tr>\n",
       "  </thead>\n",
       "  <tbody>\n",
       "    <tr>\n",
       "      <th>0</th>\n",
       "      <td>NaN</td>\n",
       "      <td>NaN</td>\n",
       "      <td>NaN</td>\n",
       "      <td>NaN</td>\n",
       "      <td>NaN</td>\n",
       "      <td>NaN</td>\n",
       "      <td>NaN</td>\n",
       "      <td>NaN</td>\n",
       "    </tr>\n",
       "    <tr>\n",
       "      <th>1</th>\n",
       "      <td>NaN</td>\n",
       "      <td>NaN</td>\n",
       "      <td>NaN</td>\n",
       "      <td>NaN</td>\n",
       "      <td>NaN</td>\n",
       "      <td>NaN</td>\n",
       "      <td>NaN</td>\n",
       "      <td>NaN</td>\n",
       "    </tr>\n",
       "    <tr>\n",
       "      <th>2</th>\n",
       "      <td>NaN</td>\n",
       "      <td>NaN</td>\n",
       "      <td>NaN</td>\n",
       "      <td>NaN</td>\n",
       "      <td>NaN</td>\n",
       "      <td>NaN</td>\n",
       "      <td>NaN</td>\n",
       "      <td>NaN</td>\n",
       "    </tr>\n",
       "    <tr>\n",
       "      <th>3</th>\n",
       "      <td>NaN</td>\n",
       "      <td>NaN</td>\n",
       "      <td>NaN</td>\n",
       "      <td>NaN</td>\n",
       "      <td>NaN</td>\n",
       "      <td>NaN</td>\n",
       "      <td>NaN</td>\n",
       "      <td>NaN</td>\n",
       "    </tr>\n",
       "  </tbody>\n",
       "</table>\n",
       "</div>"
      ],
      "text/plain": [
       "    a   b   c   d   0   1   2   3\n",
       "0 NaN NaN NaN NaN NaN NaN NaN NaN\n",
       "1 NaN NaN NaN NaN NaN NaN NaN NaN\n",
       "2 NaN NaN NaN NaN NaN NaN NaN NaN\n",
       "3 NaN NaN NaN NaN NaN NaN NaN NaN"
      ]
     },
     "execution_count": 19,
     "metadata": {},
     "output_type": "execute_result"
    }
   ],
   "source": [
    "df + s2"
   ]
  },
  {
   "cell_type": "code",
   "execution_count": 18,
   "metadata": {},
   "outputs": [
    {
     "data": {
      "text/html": [
       "<div>\n",
       "<style scoped>\n",
       "    .dataframe tbody tr th:only-of-type {\n",
       "        vertical-align: middle;\n",
       "    }\n",
       "\n",
       "    .dataframe tbody tr th {\n",
       "        vertical-align: top;\n",
       "    }\n",
       "\n",
       "    .dataframe thead th {\n",
       "        text-align: right;\n",
       "    }\n",
       "</style>\n",
       "<table border=\"1\" class=\"dataframe\">\n",
       "  <thead>\n",
       "    <tr style=\"text-align: right;\">\n",
       "      <th></th>\n",
       "      <th>a</th>\n",
       "      <th>b</th>\n",
       "      <th>c</th>\n",
       "      <th>d</th>\n",
       "    </tr>\n",
       "  </thead>\n",
       "  <tbody>\n",
       "    <tr>\n",
       "      <th>0</th>\n",
       "      <td>10</td>\n",
       "      <td>11</td>\n",
       "      <td>12</td>\n",
       "      <td>13</td>\n",
       "    </tr>\n",
       "    <tr>\n",
       "      <th>1</th>\n",
       "      <td>15</td>\n",
       "      <td>16</td>\n",
       "      <td>17</td>\n",
       "      <td>18</td>\n",
       "    </tr>\n",
       "    <tr>\n",
       "      <th>2</th>\n",
       "      <td>20</td>\n",
       "      <td>21</td>\n",
       "      <td>22</td>\n",
       "      <td>23</td>\n",
       "    </tr>\n",
       "    <tr>\n",
       "      <th>3</th>\n",
       "      <td>25</td>\n",
       "      <td>26</td>\n",
       "      <td>27</td>\n",
       "      <td>28</td>\n",
       "    </tr>\n",
       "  </tbody>\n",
       "</table>\n",
       "</div>"
      ],
      "text/plain": [
       "    a   b   c   d\n",
       "0  10  11  12  13\n",
       "1  15  16  17  18\n",
       "2  20  21  22  23\n",
       "3  25  26  27  28"
      ]
     },
     "execution_count": 18,
     "metadata": {},
     "output_type": "execute_result"
    }
   ],
   "source": [
    "df.add(s2, axis=0)"
   ]
  },
  {
   "cell_type": "markdown",
   "metadata": {},
   "source": [
    "- axis 기준으로 row broadcasting 실행"
   ]
  },
  {
   "cell_type": "markdown",
   "metadata": {},
   "source": [
    "# 5. Lambda, map, apply"
   ]
  },
  {
   "cell_type": "markdown",
   "metadata": {},
   "source": [
    "## lambda\n",
    "- 한 줄로 함수를 표현하는 익명 함수 기법  \n",
    "- **lambda** argument : expression  \n",
    "- `lambda x,y : x + y`"
   ]
  },
  {
   "cell_type": "markdown",
   "metadata": {},
   "source": [
    "## map \n",
    "- 함수와 sequence형 데이터를 인자로 받아 각 element마다 입력받은 함수를 적용하여 list로 반환  \n",
    "- 일반적으로 함수를 lambda형태로 표현함  \n",
    "- **list**(**map**(function, sequence))  \n",
    "`ex = [1,2,3,4,5]\n",
    "f = lambda x: x ** 2\n",
    "list(map(f, ex))\n",
    "#[1,4,9,16,25]`"
   ]
  },
  {
   "cell_type": "markdown",
   "metadata": {},
   "source": [
    "## 5-1) map for Series\n",
    "- Pandas의 series type의 데이터에도 map함수 사용가능  \n",
    "- function대신 dict, sequence형 자료등으로 대체가능"
   ]
  },
  {
   "cell_type": "code",
   "execution_count": null,
   "metadata": {},
   "outputs": [],
   "source": [
    "# example 1"
   ]
  },
  {
   "cell_type": "code",
   "execution_count": 20,
   "metadata": {},
   "outputs": [
    {
     "data": {
      "text/plain": [
       "0    0\n",
       "1    1\n",
       "2    2\n",
       "3    3\n",
       "4    4\n",
       "dtype: int32"
      ]
     },
     "execution_count": 20,
     "metadata": {},
     "output_type": "execute_result"
    }
   ],
   "source": [
    "s1 = Series(np.arange(10))\n",
    "s1.head(5)"
   ]
  },
  {
   "cell_type": "code",
   "execution_count": 21,
   "metadata": {},
   "outputs": [
    {
     "data": {
      "text/plain": [
       "0     0\n",
       "1     1\n",
       "2     4\n",
       "3     9\n",
       "4    16\n",
       "dtype: int64"
      ]
     },
     "execution_count": 21,
     "metadata": {},
     "output_type": "execute_result"
    }
   ],
   "source": [
    "s1.map(lambda x: x ** 2).head(5)"
   ]
  },
  {
   "cell_type": "code",
   "execution_count": 22,
   "metadata": {},
   "outputs": [],
   "source": [
    "# example 2 : dict type으로 데이터 교체, 없는 값은 NaN"
   ]
  },
  {
   "cell_type": "code",
   "execution_count": 23,
   "metadata": {},
   "outputs": [
    {
     "data": {
      "text/plain": [
       "0    NaN\n",
       "1      A\n",
       "2      B\n",
       "3      C\n",
       "4    NaN\n",
       "dtype: object"
      ]
     },
     "execution_count": 23,
     "metadata": {},
     "output_type": "execute_result"
    }
   ],
   "source": [
    "z = {1: 'A', 2: 'B', 3: 'C'}\n",
    "s1.map(z).head(5)"
   ]
  },
  {
   "cell_type": "code",
   "execution_count": 24,
   "metadata": {},
   "outputs": [],
   "source": [
    "# example 3 : 같은 위치의 데이터를 s2로 전환"
   ]
  },
  {
   "cell_type": "code",
   "execution_count": 26,
   "metadata": {},
   "outputs": [
    {
     "data": {
      "text/plain": [
       "0    10\n",
       "1    11\n",
       "2    12\n",
       "3    13\n",
       "4    14\n",
       "dtype: int32"
      ]
     },
     "execution_count": 26,
     "metadata": {},
     "output_type": "execute_result"
    }
   ],
   "source": [
    "s2 = Series(np.arange(10,20))\n",
    "s1.map(s2).head(5)"
   ]
  },
  {
   "cell_type": "markdown",
   "metadata": {},
   "source": [
    "### 5-1-1) Simple Examle"
   ]
  },
  {
   "cell_type": "code",
   "execution_count": 40,
   "metadata": {},
   "outputs": [
    {
     "data": {
      "text/html": [
       "<div>\n",
       "<style scoped>\n",
       "    .dataframe tbody tr th:only-of-type {\n",
       "        vertical-align: middle;\n",
       "    }\n",
       "\n",
       "    .dataframe tbody tr th {\n",
       "        vertical-align: top;\n",
       "    }\n",
       "\n",
       "    .dataframe thead th {\n",
       "        text-align: right;\n",
       "    }\n",
       "</style>\n",
       "<table border=\"1\" class=\"dataframe\">\n",
       "  <thead>\n",
       "    <tr style=\"text-align: right;\">\n",
       "      <th></th>\n",
       "      <th>earn</th>\n",
       "      <th>height</th>\n",
       "      <th>sex</th>\n",
       "      <th>race</th>\n",
       "      <th>ed</th>\n",
       "      <th>age</th>\n",
       "    </tr>\n",
       "  </thead>\n",
       "  <tbody>\n",
       "    <tr>\n",
       "      <th>0</th>\n",
       "      <td>79571.299011</td>\n",
       "      <td>73.89</td>\n",
       "      <td>male</td>\n",
       "      <td>white</td>\n",
       "      <td>16</td>\n",
       "      <td>49</td>\n",
       "    </tr>\n",
       "    <tr>\n",
       "      <th>1</th>\n",
       "      <td>96396.988643</td>\n",
       "      <td>66.23</td>\n",
       "      <td>female</td>\n",
       "      <td>white</td>\n",
       "      <td>16</td>\n",
       "      <td>62</td>\n",
       "    </tr>\n",
       "    <tr>\n",
       "      <th>2</th>\n",
       "      <td>48710.666947</td>\n",
       "      <td>63.77</td>\n",
       "      <td>female</td>\n",
       "      <td>white</td>\n",
       "      <td>16</td>\n",
       "      <td>33</td>\n",
       "    </tr>\n",
       "    <tr>\n",
       "      <th>3</th>\n",
       "      <td>80478.096153</td>\n",
       "      <td>63.22</td>\n",
       "      <td>female</td>\n",
       "      <td>other</td>\n",
       "      <td>16</td>\n",
       "      <td>95</td>\n",
       "    </tr>\n",
       "    <tr>\n",
       "      <th>4</th>\n",
       "      <td>82089.345498</td>\n",
       "      <td>63.08</td>\n",
       "      <td>female</td>\n",
       "      <td>white</td>\n",
       "      <td>17</td>\n",
       "      <td>43</td>\n",
       "    </tr>\n",
       "  </tbody>\n",
       "</table>\n",
       "</div>"
      ],
      "text/plain": [
       "           earn  height     sex   race  ed  age\n",
       "0  79571.299011   73.89    male  white  16   49\n",
       "1  96396.988643   66.23  female  white  16   62\n",
       "2  48710.666947   63.77  female  white  16   33\n",
       "3  80478.096153   63.22  female  other  16   95\n",
       "4  82089.345498   63.08  female  white  17   43"
      ]
     },
     "execution_count": 40,
     "metadata": {},
     "output_type": "execute_result"
    }
   ],
   "source": [
    "df = pd.read_csv(\"./resource/wages.csv\")\n",
    "df.head()"
   ]
  },
  {
   "cell_type": "code",
   "execution_count": 28,
   "metadata": {},
   "outputs": [
    {
     "data": {
      "text/plain": [
       "array(['male', 'female'], dtype=object)"
      ]
     },
     "execution_count": 28,
     "metadata": {},
     "output_type": "execute_result"
    }
   ],
   "source": [
    "# unique값만 표시\n",
    "df.sex.unique()"
   ]
  },
  {
   "cell_type": "code",
   "execution_count": 41,
   "metadata": {},
   "outputs": [
    {
     "data": {
      "text/html": [
       "<div>\n",
       "<style scoped>\n",
       "    .dataframe tbody tr th:only-of-type {\n",
       "        vertical-align: middle;\n",
       "    }\n",
       "\n",
       "    .dataframe tbody tr th {\n",
       "        vertical-align: top;\n",
       "    }\n",
       "\n",
       "    .dataframe thead th {\n",
       "        text-align: right;\n",
       "    }\n",
       "</style>\n",
       "<table border=\"1\" class=\"dataframe\">\n",
       "  <thead>\n",
       "    <tr style=\"text-align: right;\">\n",
       "      <th></th>\n",
       "      <th>earn</th>\n",
       "      <th>height</th>\n",
       "      <th>sex</th>\n",
       "      <th>race</th>\n",
       "      <th>ed</th>\n",
       "      <th>age</th>\n",
       "      <th>sex_code</th>\n",
       "    </tr>\n",
       "  </thead>\n",
       "  <tbody>\n",
       "    <tr>\n",
       "      <th>0</th>\n",
       "      <td>79571.299011</td>\n",
       "      <td>73.89</td>\n",
       "      <td>male</td>\n",
       "      <td>white</td>\n",
       "      <td>16</td>\n",
       "      <td>49</td>\n",
       "      <td>0</td>\n",
       "    </tr>\n",
       "    <tr>\n",
       "      <th>1</th>\n",
       "      <td>96396.988643</td>\n",
       "      <td>66.23</td>\n",
       "      <td>female</td>\n",
       "      <td>white</td>\n",
       "      <td>16</td>\n",
       "      <td>62</td>\n",
       "      <td>1</td>\n",
       "    </tr>\n",
       "    <tr>\n",
       "      <th>2</th>\n",
       "      <td>48710.666947</td>\n",
       "      <td>63.77</td>\n",
       "      <td>female</td>\n",
       "      <td>white</td>\n",
       "      <td>16</td>\n",
       "      <td>33</td>\n",
       "      <td>1</td>\n",
       "    </tr>\n",
       "    <tr>\n",
       "      <th>3</th>\n",
       "      <td>80478.096153</td>\n",
       "      <td>63.22</td>\n",
       "      <td>female</td>\n",
       "      <td>other</td>\n",
       "      <td>16</td>\n",
       "      <td>95</td>\n",
       "      <td>1</td>\n",
       "    </tr>\n",
       "    <tr>\n",
       "      <th>4</th>\n",
       "      <td>82089.345498</td>\n",
       "      <td>63.08</td>\n",
       "      <td>female</td>\n",
       "      <td>white</td>\n",
       "      <td>17</td>\n",
       "      <td>43</td>\n",
       "      <td>1</td>\n",
       "    </tr>\n",
       "  </tbody>\n",
       "</table>\n",
       "</div>"
      ],
      "text/plain": [
       "           earn  height     sex   race  ed  age  sex_code\n",
       "0  79571.299011   73.89    male  white  16   49         0\n",
       "1  96396.988643   66.23  female  white  16   62         1\n",
       "2  48710.666947   63.77  female  white  16   33         1\n",
       "3  80478.096153   63.22  female  other  16   95         1\n",
       "4  82089.345498   63.08  female  white  17   43         1"
      ]
     },
     "execution_count": 41,
     "metadata": {},
     "output_type": "execute_result"
    }
   ],
   "source": [
    "# map을 이용해서 sex_code column 추가\n",
    "df['sex_code'] = df.sex.map({'male' : 0, 'female': 1})\n",
    "df.head()"
   ]
  },
  {
   "cell_type": "markdown",
   "metadata": {},
   "source": [
    "## 5-2) Replace Function\n",
    "- map함수의 기능중 데이터 변환 기능만 담당  \n",
    "- 데이터 변환시 많이 사용하는 함수"
   ]
  },
  {
   "cell_type": "code",
   "execution_count": 30,
   "metadata": {},
   "outputs": [
    {
     "data": {
      "text/plain": [
       "0    0\n",
       "1    1\n",
       "2    1\n",
       "3    1\n",
       "4    1\n",
       "Name: sex, dtype: int64"
      ]
     },
     "execution_count": 30,
     "metadata": {},
     "output_type": "execute_result"
    }
   ],
   "source": [
    "# dict type 적용\n",
    "df.sex.replace({'male':0, 'female':1}).head()"
   ]
  },
  {
   "cell_type": "code",
   "execution_count": 42,
   "metadata": {},
   "outputs": [
    {
     "data": {
      "text/html": [
       "<div>\n",
       "<style scoped>\n",
       "    .dataframe tbody tr th:only-of-type {\n",
       "        vertical-align: middle;\n",
       "    }\n",
       "\n",
       "    .dataframe tbody tr th {\n",
       "        vertical-align: top;\n",
       "    }\n",
       "\n",
       "    .dataframe thead th {\n",
       "        text-align: right;\n",
       "    }\n",
       "</style>\n",
       "<table border=\"1\" class=\"dataframe\">\n",
       "  <thead>\n",
       "    <tr style=\"text-align: right;\">\n",
       "      <th></th>\n",
       "      <th>earn</th>\n",
       "      <th>height</th>\n",
       "      <th>sex</th>\n",
       "      <th>race</th>\n",
       "      <th>ed</th>\n",
       "      <th>age</th>\n",
       "      <th>sex_code</th>\n",
       "    </tr>\n",
       "  </thead>\n",
       "  <tbody>\n",
       "    <tr>\n",
       "      <th>0</th>\n",
       "      <td>79571.299011</td>\n",
       "      <td>73.89</td>\n",
       "      <td>0</td>\n",
       "      <td>white</td>\n",
       "      <td>16</td>\n",
       "      <td>49</td>\n",
       "      <td>0</td>\n",
       "    </tr>\n",
       "    <tr>\n",
       "      <th>1</th>\n",
       "      <td>96396.988643</td>\n",
       "      <td>66.23</td>\n",
       "      <td>1</td>\n",
       "      <td>white</td>\n",
       "      <td>16</td>\n",
       "      <td>62</td>\n",
       "      <td>1</td>\n",
       "    </tr>\n",
       "    <tr>\n",
       "      <th>2</th>\n",
       "      <td>48710.666947</td>\n",
       "      <td>63.77</td>\n",
       "      <td>1</td>\n",
       "      <td>white</td>\n",
       "      <td>16</td>\n",
       "      <td>33</td>\n",
       "      <td>1</td>\n",
       "    </tr>\n",
       "    <tr>\n",
       "      <th>3</th>\n",
       "      <td>80478.096153</td>\n",
       "      <td>63.22</td>\n",
       "      <td>1</td>\n",
       "      <td>other</td>\n",
       "      <td>16</td>\n",
       "      <td>95</td>\n",
       "      <td>1</td>\n",
       "    </tr>\n",
       "    <tr>\n",
       "      <th>4</th>\n",
       "      <td>82089.345498</td>\n",
       "      <td>63.08</td>\n",
       "      <td>1</td>\n",
       "      <td>white</td>\n",
       "      <td>17</td>\n",
       "      <td>43</td>\n",
       "      <td>1</td>\n",
       "    </tr>\n",
       "  </tbody>\n",
       "</table>\n",
       "</div>"
      ],
      "text/plain": [
       "           earn  height  sex   race  ed  age  sex_code\n",
       "0  79571.299011   73.89    0  white  16   49         0\n",
       "1  96396.988643   66.23    1  white  16   62         1\n",
       "2  48710.666947   63.77    1  white  16   33         1\n",
       "3  80478.096153   63.22    1  other  16   95         1\n",
       "4  82089.345498   63.08    1  white  17   43         1"
      ]
     },
     "execution_count": 42,
     "metadata": {},
     "output_type": "execute_result"
    }
   ],
   "source": [
    "# replace(target_list, conversion_list, inplace)\n",
    "df.sex.replace(['male', 'female'], [0,1], inplace=True)\n",
    "df.head(5)"
   ]
  },
  {
   "cell_type": "code",
   "execution_count": 43,
   "metadata": {},
   "outputs": [
    {
     "data": {
      "text/html": [
       "<div>\n",
       "<style scoped>\n",
       "    .dataframe tbody tr th:only-of-type {\n",
       "        vertical-align: middle;\n",
       "    }\n",
       "\n",
       "    .dataframe tbody tr th {\n",
       "        vertical-align: top;\n",
       "    }\n",
       "\n",
       "    .dataframe thead th {\n",
       "        text-align: right;\n",
       "    }\n",
       "</style>\n",
       "<table border=\"1\" class=\"dataframe\">\n",
       "  <thead>\n",
       "    <tr style=\"text-align: right;\">\n",
       "      <th></th>\n",
       "      <th>earn</th>\n",
       "      <th>height</th>\n",
       "      <th>sex</th>\n",
       "      <th>race</th>\n",
       "      <th>ed</th>\n",
       "      <th>age</th>\n",
       "    </tr>\n",
       "  </thead>\n",
       "  <tbody>\n",
       "    <tr>\n",
       "      <th>0</th>\n",
       "      <td>79571.299011</td>\n",
       "      <td>73.89</td>\n",
       "      <td>0</td>\n",
       "      <td>white</td>\n",
       "      <td>16</td>\n",
       "      <td>49</td>\n",
       "    </tr>\n",
       "    <tr>\n",
       "      <th>1</th>\n",
       "      <td>96396.988643</td>\n",
       "      <td>66.23</td>\n",
       "      <td>1</td>\n",
       "      <td>white</td>\n",
       "      <td>16</td>\n",
       "      <td>62</td>\n",
       "    </tr>\n",
       "    <tr>\n",
       "      <th>2</th>\n",
       "      <td>48710.666947</td>\n",
       "      <td>63.77</td>\n",
       "      <td>1</td>\n",
       "      <td>white</td>\n",
       "      <td>16</td>\n",
       "      <td>33</td>\n",
       "    </tr>\n",
       "    <tr>\n",
       "      <th>3</th>\n",
       "      <td>80478.096153</td>\n",
       "      <td>63.22</td>\n",
       "      <td>1</td>\n",
       "      <td>other</td>\n",
       "      <td>16</td>\n",
       "      <td>95</td>\n",
       "    </tr>\n",
       "    <tr>\n",
       "      <th>4</th>\n",
       "      <td>82089.345498</td>\n",
       "      <td>63.08</td>\n",
       "      <td>1</td>\n",
       "      <td>white</td>\n",
       "      <td>17</td>\n",
       "      <td>43</td>\n",
       "    </tr>\n",
       "  </tbody>\n",
       "</table>\n",
       "</div>"
      ],
      "text/plain": [
       "           earn  height  sex   race  ed  age\n",
       "0  79571.299011   73.89    0  white  16   49\n",
       "1  96396.988643   66.23    1  white  16   62\n",
       "2  48710.666947   63.77    1  white  16   33\n",
       "3  80478.096153   63.22    1  other  16   95\n",
       "4  82089.345498   63.08    1  white  17   43"
      ]
     },
     "execution_count": 43,
     "metadata": {},
     "output_type": "execute_result"
    }
   ],
   "source": [
    "del df['sex_code']\n",
    "df.head(5)"
   ]
  },
  {
   "cell_type": "markdown",
   "metadata": {},
   "source": [
    "## 5-2) apply for DataFrame\n",
    "- map과 달리, series 전체(column)에 해당 함수를 적용  \n",
    "- 입력값이 series 데이터로 입력받아 handling 가능"
   ]
  },
  {
   "cell_type": "code",
   "execution_count": 44,
   "metadata": {},
   "outputs": [
    {
     "data": {
      "text/html": [
       "<div>\n",
       "<style scoped>\n",
       "    .dataframe tbody tr th:only-of-type {\n",
       "        vertical-align: middle;\n",
       "    }\n",
       "\n",
       "    .dataframe tbody tr th {\n",
       "        vertical-align: top;\n",
       "    }\n",
       "\n",
       "    .dataframe thead th {\n",
       "        text-align: right;\n",
       "    }\n",
       "</style>\n",
       "<table border=\"1\" class=\"dataframe\">\n",
       "  <thead>\n",
       "    <tr style=\"text-align: right;\">\n",
       "      <th></th>\n",
       "      <th>earn</th>\n",
       "      <th>height</th>\n",
       "      <th>age</th>\n",
       "    </tr>\n",
       "  </thead>\n",
       "  <tbody>\n",
       "    <tr>\n",
       "      <th>0</th>\n",
       "      <td>79571.299011</td>\n",
       "      <td>73.89</td>\n",
       "      <td>49</td>\n",
       "    </tr>\n",
       "    <tr>\n",
       "      <th>1</th>\n",
       "      <td>96396.988643</td>\n",
       "      <td>66.23</td>\n",
       "      <td>62</td>\n",
       "    </tr>\n",
       "    <tr>\n",
       "      <th>2</th>\n",
       "      <td>48710.666947</td>\n",
       "      <td>63.77</td>\n",
       "      <td>33</td>\n",
       "    </tr>\n",
       "    <tr>\n",
       "      <th>3</th>\n",
       "      <td>80478.096153</td>\n",
       "      <td>63.22</td>\n",
       "      <td>95</td>\n",
       "    </tr>\n",
       "    <tr>\n",
       "      <th>4</th>\n",
       "      <td>82089.345498</td>\n",
       "      <td>63.08</td>\n",
       "      <td>43</td>\n",
       "    </tr>\n",
       "  </tbody>\n",
       "</table>\n",
       "</div>"
      ],
      "text/plain": [
       "           earn  height  age\n",
       "0  79571.299011   73.89   49\n",
       "1  96396.988643   66.23   62\n",
       "2  48710.666947   63.77   33\n",
       "3  80478.096153   63.22   95\n",
       "4  82089.345498   63.08   43"
      ]
     },
     "execution_count": 44,
     "metadata": {},
     "output_type": "execute_result"
    }
   ],
   "source": [
    "df_info = df[['earn', 'height', 'age']]\n",
    "df_info.head()"
   ]
  },
  {
   "cell_type": "code",
   "execution_count": 45,
   "metadata": {},
   "outputs": [
    {
     "data": {
      "text/plain": [
       "earn      318047.708444\n",
       "height        19.870000\n",
       "age           73.000000\n",
       "dtype: float64"
      ]
     },
     "execution_count": 45,
     "metadata": {},
     "output_type": "execute_result"
    }
   ],
   "source": [
    "f = lambda x : x.max() - x.min()\n",
    "df_info.apply(f)"
   ]
  },
  {
   "cell_type": "markdown",
   "metadata": {},
   "source": [
    "- 내장 연산 함수를 사용할 때도 똑같은 효과를 거둘 수 있음  \n",
    "- mean, std 등"
   ]
  },
  {
   "cell_type": "code",
   "execution_count": 47,
   "metadata": {},
   "outputs": [
    {
     "data": {
      "text/plain": [
       "earn      4.474344e+07\n",
       "height    9.183125e+04\n",
       "age       6.250800e+04\n",
       "dtype: float64"
      ]
     },
     "execution_count": 47,
     "metadata": {},
     "output_type": "execute_result"
    }
   ],
   "source": [
    "df_info.sum()"
   ]
  },
  {
   "cell_type": "code",
   "execution_count": 48,
   "metadata": {},
   "outputs": [
    {
     "data": {
      "text/plain": [
       "earn      4.474344e+07\n",
       "height    9.183125e+04\n",
       "age       6.250800e+04\n",
       "dtype: float64"
      ]
     },
     "execution_count": 48,
     "metadata": {},
     "output_type": "execute_result"
    }
   ],
   "source": [
    "df_info.apply(sum) #결과는 위와 같음"
   ]
  },
  {
   "cell_type": "markdown",
   "metadata": {},
   "source": [
    "- scalar 값 이외에 serires값의 반환도 가능함"
   ]
  },
  {
   "cell_type": "code",
   "execution_count": 49,
   "metadata": {},
   "outputs": [
    {
     "data": {
      "text/html": [
       "<div>\n",
       "<style scoped>\n",
       "    .dataframe tbody tr th:only-of-type {\n",
       "        vertical-align: middle;\n",
       "    }\n",
       "\n",
       "    .dataframe tbody tr th {\n",
       "        vertical-align: top;\n",
       "    }\n",
       "\n",
       "    .dataframe thead th {\n",
       "        text-align: right;\n",
       "    }\n",
       "</style>\n",
       "<table border=\"1\" class=\"dataframe\">\n",
       "  <thead>\n",
       "    <tr style=\"text-align: right;\">\n",
       "      <th></th>\n",
       "      <th>earn</th>\n",
       "      <th>height</th>\n",
       "      <th>age</th>\n",
       "    </tr>\n",
       "  </thead>\n",
       "  <tbody>\n",
       "    <tr>\n",
       "      <th>min</th>\n",
       "      <td>-98.580489</td>\n",
       "      <td>57.34</td>\n",
       "      <td>22</td>\n",
       "    </tr>\n",
       "    <tr>\n",
       "      <th>max</th>\n",
       "      <td>317949.127955</td>\n",
       "      <td>77.21</td>\n",
       "      <td>95</td>\n",
       "    </tr>\n",
       "  </tbody>\n",
       "</table>\n",
       "</div>"
      ],
      "text/plain": [
       "              earn  height  age\n",
       "min     -98.580489   57.34   22\n",
       "max  317949.127955   77.21   95"
      ]
     },
     "execution_count": 49,
     "metadata": {},
     "output_type": "execute_result"
    }
   ],
   "source": [
    "def f(x):\n",
    "    return Series([x.min(), x.max()], index=['min', 'max'])\n",
    "df_info.apply(f)"
   ]
  },
  {
   "cell_type": "markdown",
   "metadata": {},
   "source": [
    "## 5-3) applymap for DataFrame\n",
    "- series 단위가 아닌 element 단위로 함수를 적용함  \n",
    "- series 단위에 apply를 적용시킬 때와 같은 효과"
   ]
  },
  {
   "cell_type": "code",
   "execution_count": 50,
   "metadata": {},
   "outputs": [
    {
     "data": {
      "text/html": [
       "<div>\n",
       "<style scoped>\n",
       "    .dataframe tbody tr th:only-of-type {\n",
       "        vertical-align: middle;\n",
       "    }\n",
       "\n",
       "    .dataframe tbody tr th {\n",
       "        vertical-align: top;\n",
       "    }\n",
       "\n",
       "    .dataframe thead th {\n",
       "        text-align: right;\n",
       "    }\n",
       "</style>\n",
       "<table border=\"1\" class=\"dataframe\">\n",
       "  <thead>\n",
       "    <tr style=\"text-align: right;\">\n",
       "      <th></th>\n",
       "      <th>earn</th>\n",
       "      <th>height</th>\n",
       "      <th>age</th>\n",
       "    </tr>\n",
       "  </thead>\n",
       "  <tbody>\n",
       "    <tr>\n",
       "      <th>0</th>\n",
       "      <td>-79571.299011</td>\n",
       "      <td>-73.89</td>\n",
       "      <td>-49</td>\n",
       "    </tr>\n",
       "    <tr>\n",
       "      <th>1</th>\n",
       "      <td>-96396.988643</td>\n",
       "      <td>-66.23</td>\n",
       "      <td>-62</td>\n",
       "    </tr>\n",
       "    <tr>\n",
       "      <th>2</th>\n",
       "      <td>-48710.666947</td>\n",
       "      <td>-63.77</td>\n",
       "      <td>-33</td>\n",
       "    </tr>\n",
       "    <tr>\n",
       "      <th>3</th>\n",
       "      <td>-80478.096153</td>\n",
       "      <td>-63.22</td>\n",
       "      <td>-95</td>\n",
       "    </tr>\n",
       "    <tr>\n",
       "      <th>4</th>\n",
       "      <td>-82089.345498</td>\n",
       "      <td>-63.08</td>\n",
       "      <td>-43</td>\n",
       "    </tr>\n",
       "  </tbody>\n",
       "</table>\n",
       "</div>"
      ],
      "text/plain": [
       "           earn  height  age\n",
       "0 -79571.299011  -73.89  -49\n",
       "1 -96396.988643  -66.23  -62\n",
       "2 -48710.666947  -63.77  -33\n",
       "3 -80478.096153  -63.22  -95\n",
       "4 -82089.345498  -63.08  -43"
      ]
     },
     "execution_count": 50,
     "metadata": {},
     "output_type": "execute_result"
    }
   ],
   "source": [
    "f = lambda x: -x\n",
    "df_info.applymap(f).head(5)"
   ]
  },
  {
   "cell_type": "code",
   "execution_count": 51,
   "metadata": {},
   "outputs": [
    {
     "data": {
      "text/plain": [
       "0   -79571.299011\n",
       "1   -96396.988643\n",
       "2   -48710.666947\n",
       "3   -80478.096153\n",
       "4   -82089.345498\n",
       "Name: earn, dtype: float64"
      ]
     },
     "execution_count": 51,
     "metadata": {},
     "output_type": "execute_result"
    }
   ],
   "source": [
    "f = lambda x : -x\n",
    "df_info['earn'].apply(f).head(5)"
   ]
  },
  {
   "cell_type": "markdown",
   "metadata": {},
   "source": [
    "# 6. Pandas Built-in Functions"
   ]
  },
  {
   "cell_type": "markdown",
   "metadata": {},
   "source": [
    "## 6-1) describe\n",
    "- Numeric type 데이터의 요약 정보를 보여줌"
   ]
  },
  {
   "cell_type": "code",
   "execution_count": 70,
   "metadata": {},
   "outputs": [
    {
     "data": {
      "text/html": [
       "<div>\n",
       "<style scoped>\n",
       "    .dataframe tbody tr th:only-of-type {\n",
       "        vertical-align: middle;\n",
       "    }\n",
       "\n",
       "    .dataframe tbody tr th {\n",
       "        vertical-align: top;\n",
       "    }\n",
       "\n",
       "    .dataframe thead th {\n",
       "        text-align: right;\n",
       "    }\n",
       "</style>\n",
       "<table border=\"1\" class=\"dataframe\">\n",
       "  <thead>\n",
       "    <tr style=\"text-align: right;\">\n",
       "      <th></th>\n",
       "      <th>earn</th>\n",
       "      <th>height</th>\n",
       "      <th>sex</th>\n",
       "      <th>race</th>\n",
       "      <th>ed</th>\n",
       "      <th>age</th>\n",
       "    </tr>\n",
       "  </thead>\n",
       "  <tbody>\n",
       "    <tr>\n",
       "      <th>0</th>\n",
       "      <td>79571.299011</td>\n",
       "      <td>73.89</td>\n",
       "      <td>male</td>\n",
       "      <td>white</td>\n",
       "      <td>16</td>\n",
       "      <td>49</td>\n",
       "    </tr>\n",
       "    <tr>\n",
       "      <th>1</th>\n",
       "      <td>96396.988643</td>\n",
       "      <td>66.23</td>\n",
       "      <td>female</td>\n",
       "      <td>white</td>\n",
       "      <td>16</td>\n",
       "      <td>62</td>\n",
       "    </tr>\n",
       "    <tr>\n",
       "      <th>2</th>\n",
       "      <td>48710.666947</td>\n",
       "      <td>63.77</td>\n",
       "      <td>female</td>\n",
       "      <td>white</td>\n",
       "      <td>16</td>\n",
       "      <td>33</td>\n",
       "    </tr>\n",
       "    <tr>\n",
       "      <th>3</th>\n",
       "      <td>80478.096153</td>\n",
       "      <td>63.22</td>\n",
       "      <td>female</td>\n",
       "      <td>other</td>\n",
       "      <td>16</td>\n",
       "      <td>95</td>\n",
       "    </tr>\n",
       "    <tr>\n",
       "      <th>4</th>\n",
       "      <td>82089.345498</td>\n",
       "      <td>63.08</td>\n",
       "      <td>female</td>\n",
       "      <td>white</td>\n",
       "      <td>17</td>\n",
       "      <td>43</td>\n",
       "    </tr>\n",
       "  </tbody>\n",
       "</table>\n",
       "</div>"
      ],
      "text/plain": [
       "           earn  height     sex   race  ed  age\n",
       "0  79571.299011   73.89    male  white  16   49\n",
       "1  96396.988643   66.23  female  white  16   62\n",
       "2  48710.666947   63.77  female  white  16   33\n",
       "3  80478.096153   63.22  female  other  16   95\n",
       "4  82089.345498   63.08  female  white  17   43"
      ]
     },
     "execution_count": 70,
     "metadata": {},
     "output_type": "execute_result"
    }
   ],
   "source": [
    "df = pd.read_csv('./resource/wages.csv')\n",
    "df.head()"
   ]
  },
  {
   "cell_type": "code",
   "execution_count": 54,
   "metadata": {},
   "outputs": [
    {
     "data": {
      "text/html": [
       "<div>\n",
       "<style scoped>\n",
       "    .dataframe tbody tr th:only-of-type {\n",
       "        vertical-align: middle;\n",
       "    }\n",
       "\n",
       "    .dataframe tbody tr th {\n",
       "        vertical-align: top;\n",
       "    }\n",
       "\n",
       "    .dataframe thead th {\n",
       "        text-align: right;\n",
       "    }\n",
       "</style>\n",
       "<table border=\"1\" class=\"dataframe\">\n",
       "  <thead>\n",
       "    <tr style=\"text-align: right;\">\n",
       "      <th></th>\n",
       "      <th>earn</th>\n",
       "      <th>height</th>\n",
       "      <th>ed</th>\n",
       "      <th>age</th>\n",
       "    </tr>\n",
       "  </thead>\n",
       "  <tbody>\n",
       "    <tr>\n",
       "      <th>count</th>\n",
       "      <td>1379.000000</td>\n",
       "      <td>1379.000000</td>\n",
       "      <td>1379.000000</td>\n",
       "      <td>1379.000000</td>\n",
       "    </tr>\n",
       "    <tr>\n",
       "      <th>mean</th>\n",
       "      <td>32446.292622</td>\n",
       "      <td>66.592640</td>\n",
       "      <td>13.354605</td>\n",
       "      <td>45.328499</td>\n",
       "    </tr>\n",
       "    <tr>\n",
       "      <th>std</th>\n",
       "      <td>31257.070006</td>\n",
       "      <td>3.818108</td>\n",
       "      <td>2.438741</td>\n",
       "      <td>15.789715</td>\n",
       "    </tr>\n",
       "    <tr>\n",
       "      <th>min</th>\n",
       "      <td>-98.580489</td>\n",
       "      <td>57.340000</td>\n",
       "      <td>3.000000</td>\n",
       "      <td>22.000000</td>\n",
       "    </tr>\n",
       "    <tr>\n",
       "      <th>25%</th>\n",
       "      <td>10538.790721</td>\n",
       "      <td>63.720000</td>\n",
       "      <td>12.000000</td>\n",
       "      <td>33.000000</td>\n",
       "    </tr>\n",
       "    <tr>\n",
       "      <th>50%</th>\n",
       "      <td>26877.870178</td>\n",
       "      <td>66.050000</td>\n",
       "      <td>13.000000</td>\n",
       "      <td>42.000000</td>\n",
       "    </tr>\n",
       "    <tr>\n",
       "      <th>75%</th>\n",
       "      <td>44506.215336</td>\n",
       "      <td>69.315000</td>\n",
       "      <td>15.000000</td>\n",
       "      <td>55.000000</td>\n",
       "    </tr>\n",
       "    <tr>\n",
       "      <th>max</th>\n",
       "      <td>317949.127955</td>\n",
       "      <td>77.210000</td>\n",
       "      <td>18.000000</td>\n",
       "      <td>95.000000</td>\n",
       "    </tr>\n",
       "  </tbody>\n",
       "</table>\n",
       "</div>"
      ],
      "text/plain": [
       "                earn       height           ed          age\n",
       "count    1379.000000  1379.000000  1379.000000  1379.000000\n",
       "mean    32446.292622    66.592640    13.354605    45.328499\n",
       "std     31257.070006     3.818108     2.438741    15.789715\n",
       "min       -98.580489    57.340000     3.000000    22.000000\n",
       "25%     10538.790721    63.720000    12.000000    33.000000\n",
       "50%     26877.870178    66.050000    13.000000    42.000000\n",
       "75%     44506.215336    69.315000    15.000000    55.000000\n",
       "max    317949.127955    77.210000    18.000000    95.000000"
      ]
     },
     "execution_count": 54,
     "metadata": {},
     "output_type": "execute_result"
    }
   ],
   "source": [
    "df.describe()"
   ]
  },
  {
   "cell_type": "markdown",
   "metadata": {},
   "source": [
    "## 6-2) unique\n",
    "- series data의 unique한 값을 list로 반환함"
   ]
  },
  {
   "cell_type": "code",
   "execution_count": 55,
   "metadata": {},
   "outputs": [
    {
     "data": {
      "text/html": [
       "<div>\n",
       "<style scoped>\n",
       "    .dataframe tbody tr th:only-of-type {\n",
       "        vertical-align: middle;\n",
       "    }\n",
       "\n",
       "    .dataframe tbody tr th {\n",
       "        vertical-align: top;\n",
       "    }\n",
       "\n",
       "    .dataframe thead th {\n",
       "        text-align: right;\n",
       "    }\n",
       "</style>\n",
       "<table border=\"1\" class=\"dataframe\">\n",
       "  <thead>\n",
       "    <tr style=\"text-align: right;\">\n",
       "      <th></th>\n",
       "      <th>earn</th>\n",
       "      <th>height</th>\n",
       "      <th>sex</th>\n",
       "      <th>race</th>\n",
       "      <th>ed</th>\n",
       "      <th>age</th>\n",
       "    </tr>\n",
       "  </thead>\n",
       "  <tbody>\n",
       "    <tr>\n",
       "      <th>0</th>\n",
       "      <td>79571.299011</td>\n",
       "      <td>73.89</td>\n",
       "      <td>male</td>\n",
       "      <td>white</td>\n",
       "      <td>16</td>\n",
       "      <td>49</td>\n",
       "    </tr>\n",
       "    <tr>\n",
       "      <th>1</th>\n",
       "      <td>96396.988643</td>\n",
       "      <td>66.23</td>\n",
       "      <td>female</td>\n",
       "      <td>white</td>\n",
       "      <td>16</td>\n",
       "      <td>62</td>\n",
       "    </tr>\n",
       "    <tr>\n",
       "      <th>2</th>\n",
       "      <td>48710.666947</td>\n",
       "      <td>63.77</td>\n",
       "      <td>female</td>\n",
       "      <td>white</td>\n",
       "      <td>16</td>\n",
       "      <td>33</td>\n",
       "    </tr>\n",
       "    <tr>\n",
       "      <th>3</th>\n",
       "      <td>80478.096153</td>\n",
       "      <td>63.22</td>\n",
       "      <td>female</td>\n",
       "      <td>other</td>\n",
       "      <td>16</td>\n",
       "      <td>95</td>\n",
       "    </tr>\n",
       "    <tr>\n",
       "      <th>4</th>\n",
       "      <td>82089.345498</td>\n",
       "      <td>63.08</td>\n",
       "      <td>female</td>\n",
       "      <td>white</td>\n",
       "      <td>17</td>\n",
       "      <td>43</td>\n",
       "    </tr>\n",
       "  </tbody>\n",
       "</table>\n",
       "</div>"
      ],
      "text/plain": [
       "           earn  height     sex   race  ed  age\n",
       "0  79571.299011   73.89    male  white  16   49\n",
       "1  96396.988643   66.23  female  white  16   62\n",
       "2  48710.666947   63.77  female  white  16   33\n",
       "3  80478.096153   63.22  female  other  16   95\n",
       "4  82089.345498   63.08  female  white  17   43"
      ]
     },
     "execution_count": 55,
     "metadata": {},
     "output_type": "execute_result"
    }
   ],
   "source": [
    "df.head()"
   ]
  },
  {
   "cell_type": "code",
   "execution_count": 61,
   "metadata": {},
   "outputs": [],
   "source": [
    "# example 1"
   ]
  },
  {
   "cell_type": "code",
   "execution_count": 56,
   "metadata": {},
   "outputs": [
    {
     "data": {
      "text/plain": [
       "array(['white', 'other', 'hispanic', 'black'], dtype=object)"
      ]
     },
     "execution_count": 56,
     "metadata": {},
     "output_type": "execute_result"
    }
   ],
   "source": [
    "df.race.unique()"
   ]
  },
  {
   "cell_type": "code",
   "execution_count": 71,
   "metadata": {},
   "outputs": [
    {
     "data": {
      "text/plain": [
       "array({0: 'white', 1: 'other', 2: 'hispanic', 3: 'black'}, dtype=object)"
      ]
     },
     "execution_count": 71,
     "metadata": {},
     "output_type": "execute_result"
    }
   ],
   "source": [
    "np.array(dict(sorted(enumerate(df['race'].unique()))))"
   ]
  },
  {
   "cell_type": "code",
   "execution_count": 62,
   "metadata": {},
   "outputs": [],
   "source": [
    "### example 2 ###"
   ]
  },
  {
   "cell_type": "code",
   "execution_count": 73,
   "metadata": {},
   "outputs": [
    {
     "data": {
      "text/plain": [
       "([0, 1, 2, 3], ['white', 'other', 'hispanic', 'black'])"
      ]
     },
     "execution_count": 73,
     "metadata": {},
     "output_type": "execute_result"
    }
   ],
   "source": [
    "value = list(map(int, np.array(list(enumerate(df['race'].unique())))[:, 0].tolist()))\n",
    "key = np.array(list(enumerate(df['race'].unique())), dtype=str)[:, 1].tolist()\n",
    "\n",
    "value, key"
   ]
  },
  {
   "cell_type": "code",
   "execution_count": 74,
   "metadata": {},
   "outputs": [
    {
     "data": {
      "text/html": [
       "<div>\n",
       "<style scoped>\n",
       "    .dataframe tbody tr th:only-of-type {\n",
       "        vertical-align: middle;\n",
       "    }\n",
       "\n",
       "    .dataframe tbody tr th {\n",
       "        vertical-align: top;\n",
       "    }\n",
       "\n",
       "    .dataframe thead th {\n",
       "        text-align: right;\n",
       "    }\n",
       "</style>\n",
       "<table border=\"1\" class=\"dataframe\">\n",
       "  <thead>\n",
       "    <tr style=\"text-align: right;\">\n",
       "      <th></th>\n",
       "      <th>earn</th>\n",
       "      <th>height</th>\n",
       "      <th>sex</th>\n",
       "      <th>race</th>\n",
       "      <th>ed</th>\n",
       "      <th>age</th>\n",
       "    </tr>\n",
       "  </thead>\n",
       "  <tbody>\n",
       "    <tr>\n",
       "      <th>0</th>\n",
       "      <td>79571.299011</td>\n",
       "      <td>73.89</td>\n",
       "      <td>male</td>\n",
       "      <td>0</td>\n",
       "      <td>16</td>\n",
       "      <td>49</td>\n",
       "    </tr>\n",
       "    <tr>\n",
       "      <th>1</th>\n",
       "      <td>96396.988643</td>\n",
       "      <td>66.23</td>\n",
       "      <td>female</td>\n",
       "      <td>0</td>\n",
       "      <td>16</td>\n",
       "      <td>62</td>\n",
       "    </tr>\n",
       "    <tr>\n",
       "      <th>2</th>\n",
       "      <td>48710.666947</td>\n",
       "      <td>63.77</td>\n",
       "      <td>female</td>\n",
       "      <td>0</td>\n",
       "      <td>16</td>\n",
       "      <td>33</td>\n",
       "    </tr>\n",
       "    <tr>\n",
       "      <th>3</th>\n",
       "      <td>80478.096153</td>\n",
       "      <td>63.22</td>\n",
       "      <td>female</td>\n",
       "      <td>1</td>\n",
       "      <td>16</td>\n",
       "      <td>95</td>\n",
       "    </tr>\n",
       "    <tr>\n",
       "      <th>4</th>\n",
       "      <td>82089.345498</td>\n",
       "      <td>63.08</td>\n",
       "      <td>female</td>\n",
       "      <td>0</td>\n",
       "      <td>17</td>\n",
       "      <td>43</td>\n",
       "    </tr>\n",
       "  </tbody>\n",
       "</table>\n",
       "</div>"
      ],
      "text/plain": [
       "           earn  height     sex  race  ed  age\n",
       "0  79571.299011   73.89    male     0  16   49\n",
       "1  96396.988643   66.23  female     0  16   62\n",
       "2  48710.666947   63.77  female     0  16   33\n",
       "3  80478.096153   63.22  female     1  16   95\n",
       "4  82089.345498   63.08  female     0  17   43"
      ]
     },
     "execution_count": 74,
     "metadata": {},
     "output_type": "execute_result"
    }
   ],
   "source": [
    "df['race'].replace(to_replace=key, value=value, inplace=True)\n",
    "df.head()"
   ]
  },
  {
   "cell_type": "code",
   "execution_count": 75,
   "metadata": {},
   "outputs": [
    {
     "data": {
      "text/plain": [
       "([0, 1], ['male', 'female'])"
      ]
     },
     "execution_count": 75,
     "metadata": {},
     "output_type": "execute_result"
    }
   ],
   "source": [
    "value = list(map(int, np.array(list(enumerate(df['sex'].unique())))[:, 0].tolist()))\n",
    "key = np.array(list(enumerate(df['sex'].unique())), dtype=str)[:, 1].tolist()\n",
    "\n",
    "value, key"
   ]
  },
  {
   "cell_type": "code",
   "execution_count": 76,
   "metadata": {},
   "outputs": [
    {
     "data": {
      "text/html": [
       "<div>\n",
       "<style scoped>\n",
       "    .dataframe tbody tr th:only-of-type {\n",
       "        vertical-align: middle;\n",
       "    }\n",
       "\n",
       "    .dataframe tbody tr th {\n",
       "        vertical-align: top;\n",
       "    }\n",
       "\n",
       "    .dataframe thead th {\n",
       "        text-align: right;\n",
       "    }\n",
       "</style>\n",
       "<table border=\"1\" class=\"dataframe\">\n",
       "  <thead>\n",
       "    <tr style=\"text-align: right;\">\n",
       "      <th></th>\n",
       "      <th>earn</th>\n",
       "      <th>height</th>\n",
       "      <th>sex</th>\n",
       "      <th>race</th>\n",
       "      <th>ed</th>\n",
       "      <th>age</th>\n",
       "    </tr>\n",
       "  </thead>\n",
       "  <tbody>\n",
       "    <tr>\n",
       "      <th>0</th>\n",
       "      <td>79571.299011</td>\n",
       "      <td>73.89</td>\n",
       "      <td>0</td>\n",
       "      <td>0</td>\n",
       "      <td>16</td>\n",
       "      <td>49</td>\n",
       "    </tr>\n",
       "    <tr>\n",
       "      <th>1</th>\n",
       "      <td>96396.988643</td>\n",
       "      <td>66.23</td>\n",
       "      <td>1</td>\n",
       "      <td>0</td>\n",
       "      <td>16</td>\n",
       "      <td>62</td>\n",
       "    </tr>\n",
       "    <tr>\n",
       "      <th>2</th>\n",
       "      <td>48710.666947</td>\n",
       "      <td>63.77</td>\n",
       "      <td>1</td>\n",
       "      <td>0</td>\n",
       "      <td>16</td>\n",
       "      <td>33</td>\n",
       "    </tr>\n",
       "    <tr>\n",
       "      <th>3</th>\n",
       "      <td>80478.096153</td>\n",
       "      <td>63.22</td>\n",
       "      <td>1</td>\n",
       "      <td>1</td>\n",
       "      <td>16</td>\n",
       "      <td>95</td>\n",
       "    </tr>\n",
       "    <tr>\n",
       "      <th>4</th>\n",
       "      <td>82089.345498</td>\n",
       "      <td>63.08</td>\n",
       "      <td>1</td>\n",
       "      <td>0</td>\n",
       "      <td>17</td>\n",
       "      <td>43</td>\n",
       "    </tr>\n",
       "  </tbody>\n",
       "</table>\n",
       "</div>"
      ],
      "text/plain": [
       "           earn  height  sex  race  ed  age\n",
       "0  79571.299011   73.89    0     0  16   49\n",
       "1  96396.988643   66.23    1     0  16   62\n",
       "2  48710.666947   63.77    1     0  16   33\n",
       "3  80478.096153   63.22    1     1  16   95\n",
       "4  82089.345498   63.08    1     0  17   43"
      ]
     },
     "execution_count": 76,
     "metadata": {},
     "output_type": "execute_result"
    }
   ],
   "source": [
    "df['sex'].replace(to_replace=key, value=value, inplace=True)\n",
    "df.head()"
   ]
  },
  {
   "cell_type": "code",
   "execution_count": null,
   "metadata": {},
   "outputs": [],
   "source": [
    "# 내가 혼자 해본 것"
   ]
  },
  {
   "cell_type": "code",
   "execution_count": 59,
   "metadata": {},
   "outputs": [
    {
     "data": {
      "text/plain": [
       "array([['0', 'white'],\n",
       "       ['1', 'other'],\n",
       "       ['2', 'hispanic'],\n",
       "       ['3', 'black']], dtype='<U8')"
      ]
     },
     "execution_count": 59,
     "metadata": {},
     "output_type": "execute_result"
    }
   ],
   "source": [
    "np.array(list(enumerate(df['race'].unique())), dtype=str)"
   ]
  },
  {
   "cell_type": "code",
   "execution_count": 67,
   "metadata": {},
   "outputs": [
    {
     "data": {
      "text/plain": [
       "([0, 1, 2, 3], ['white', 'other', 'hispanic', 'black'])"
      ]
     },
     "execution_count": 67,
     "metadata": {},
     "output_type": "execute_result"
    }
   ],
   "source": [
    "new_array = np.array(list(enumerate(df['race'].unique())), dtype=str)\n",
    "value = list(map(int, new_array[:, 0]))\n",
    "key = new_array[:,1].tolist()\n",
    "value, key"
   ]
  },
  {
   "cell_type": "markdown",
   "metadata": {},
   "source": [
    "## 6-3) sum\n",
    "- 기본적인 column 또는 row값의 연산을 지원  \n",
    "- sub, mean, min, max, count, median, mad, var 등"
   ]
  },
  {
   "cell_type": "code",
   "execution_count": 77,
   "metadata": {},
   "outputs": [
    {
     "data": {
      "text/plain": [
       "earn      4.474344e+07\n",
       "height    9.183125e+04\n",
       "sex       8.590000e+02\n",
       "race      5.610000e+02\n",
       "ed        1.841600e+04\n",
       "age       6.250800e+04\n",
       "dtype: float64"
      ]
     },
     "execution_count": 77,
     "metadata": {},
     "output_type": "execute_result"
    }
   ],
   "source": [
    "df.sum(axis=0) # column 별"
   ]
  },
  {
   "cell_type": "code",
   "execution_count": 79,
   "metadata": {},
   "outputs": [
    {
     "data": {
      "text/plain": [
       "0    79710.189011\n",
       "1    96542.218643\n",
       "2    48824.436947\n",
       "3    80654.316153\n",
       "4    82213.425498\n",
       "dtype: float64"
      ]
     },
     "execution_count": 79,
     "metadata": {},
     "output_type": "execute_result"
    }
   ],
   "source": [
    "df.sum(axis=1)[:5] # row 별"
   ]
  },
  {
   "cell_type": "markdown",
   "metadata": {},
   "source": [
    "## 6-4) isnull\n",
    "- column 또는 row값의 NaN (null)값의 index를 반환함"
   ]
  },
  {
   "cell_type": "code",
   "execution_count": 81,
   "metadata": {},
   "outputs": [
    {
     "data": {
      "text/html": [
       "<div>\n",
       "<style scoped>\n",
       "    .dataframe tbody tr th:only-of-type {\n",
       "        vertical-align: middle;\n",
       "    }\n",
       "\n",
       "    .dataframe tbody tr th {\n",
       "        vertical-align: top;\n",
       "    }\n",
       "\n",
       "    .dataframe thead th {\n",
       "        text-align: right;\n",
       "    }\n",
       "</style>\n",
       "<table border=\"1\" class=\"dataframe\">\n",
       "  <thead>\n",
       "    <tr style=\"text-align: right;\">\n",
       "      <th></th>\n",
       "      <th>earn</th>\n",
       "      <th>height</th>\n",
       "      <th>sex</th>\n",
       "      <th>race</th>\n",
       "      <th>ed</th>\n",
       "      <th>age</th>\n",
       "    </tr>\n",
       "  </thead>\n",
       "  <tbody>\n",
       "    <tr>\n",
       "      <th>0</th>\n",
       "      <td>False</td>\n",
       "      <td>False</td>\n",
       "      <td>False</td>\n",
       "      <td>False</td>\n",
       "      <td>False</td>\n",
       "      <td>False</td>\n",
       "    </tr>\n",
       "    <tr>\n",
       "      <th>1</th>\n",
       "      <td>False</td>\n",
       "      <td>False</td>\n",
       "      <td>False</td>\n",
       "      <td>False</td>\n",
       "      <td>False</td>\n",
       "      <td>False</td>\n",
       "    </tr>\n",
       "    <tr>\n",
       "      <th>2</th>\n",
       "      <td>False</td>\n",
       "      <td>False</td>\n",
       "      <td>False</td>\n",
       "      <td>False</td>\n",
       "      <td>False</td>\n",
       "      <td>False</td>\n",
       "    </tr>\n",
       "    <tr>\n",
       "      <th>3</th>\n",
       "      <td>False</td>\n",
       "      <td>False</td>\n",
       "      <td>False</td>\n",
       "      <td>False</td>\n",
       "      <td>False</td>\n",
       "      <td>False</td>\n",
       "    </tr>\n",
       "    <tr>\n",
       "      <th>4</th>\n",
       "      <td>False</td>\n",
       "      <td>False</td>\n",
       "      <td>False</td>\n",
       "      <td>False</td>\n",
       "      <td>False</td>\n",
       "      <td>False</td>\n",
       "    </tr>\n",
       "  </tbody>\n",
       "</table>\n",
       "</div>"
      ],
      "text/plain": [
       "    earn  height    sex   race     ed    age\n",
       "0  False   False  False  False  False  False\n",
       "1  False   False  False  False  False  False\n",
       "2  False   False  False  False  False  False\n",
       "3  False   False  False  False  False  False\n",
       "4  False   False  False  False  False  False"
      ]
     },
     "execution_count": 81,
     "metadata": {},
     "output_type": "execute_result"
    }
   ],
   "source": [
    "df.isnull().head()"
   ]
  },
  {
   "cell_type": "code",
   "execution_count": 82,
   "metadata": {},
   "outputs": [
    {
     "data": {
      "text/plain": [
       "earn      0\n",
       "height    0\n",
       "sex       0\n",
       "race      0\n",
       "ed        0\n",
       "age       0\n",
       "dtype: int64"
      ]
     },
     "execution_count": 82,
     "metadata": {},
     "output_type": "execute_result"
    }
   ],
   "source": [
    "df.isnull().sum() #isnull이 True인 경우의 수를 셀 때 사용"
   ]
  },
  {
   "cell_type": "markdown",
   "metadata": {},
   "source": [
    "## 6-5) sort_values\n",
    "- column 값을 기준으로 데이터를 sorting"
   ]
  },
  {
   "cell_type": "code",
   "execution_count": 83,
   "metadata": {},
   "outputs": [
    {
     "data": {
      "text/html": [
       "<div>\n",
       "<style scoped>\n",
       "    .dataframe tbody tr th:only-of-type {\n",
       "        vertical-align: middle;\n",
       "    }\n",
       "\n",
       "    .dataframe tbody tr th {\n",
       "        vertical-align: top;\n",
       "    }\n",
       "\n",
       "    .dataframe thead th {\n",
       "        text-align: right;\n",
       "    }\n",
       "</style>\n",
       "<table border=\"1\" class=\"dataframe\">\n",
       "  <thead>\n",
       "    <tr style=\"text-align: right;\">\n",
       "      <th></th>\n",
       "      <th>earn</th>\n",
       "      <th>height</th>\n",
       "      <th>sex</th>\n",
       "      <th>race</th>\n",
       "      <th>ed</th>\n",
       "      <th>age</th>\n",
       "    </tr>\n",
       "  </thead>\n",
       "  <tbody>\n",
       "    <tr>\n",
       "      <th>1038</th>\n",
       "      <td>-56.321979</td>\n",
       "      <td>67.81</td>\n",
       "      <td>0</td>\n",
       "      <td>2</td>\n",
       "      <td>10</td>\n",
       "      <td>22</td>\n",
       "    </tr>\n",
       "    <tr>\n",
       "      <th>800</th>\n",
       "      <td>-27.876819</td>\n",
       "      <td>72.29</td>\n",
       "      <td>0</td>\n",
       "      <td>0</td>\n",
       "      <td>12</td>\n",
       "      <td>22</td>\n",
       "    </tr>\n",
       "    <tr>\n",
       "      <th>963</th>\n",
       "      <td>-25.655260</td>\n",
       "      <td>68.90</td>\n",
       "      <td>0</td>\n",
       "      <td>0</td>\n",
       "      <td>12</td>\n",
       "      <td>22</td>\n",
       "    </tr>\n",
       "    <tr>\n",
       "      <th>1105</th>\n",
       "      <td>988.565070</td>\n",
       "      <td>64.71</td>\n",
       "      <td>1</td>\n",
       "      <td>0</td>\n",
       "      <td>12</td>\n",
       "      <td>22</td>\n",
       "    </tr>\n",
       "    <tr>\n",
       "      <th>801</th>\n",
       "      <td>1000.221504</td>\n",
       "      <td>64.09</td>\n",
       "      <td>1</td>\n",
       "      <td>0</td>\n",
       "      <td>12</td>\n",
       "      <td>22</td>\n",
       "    </tr>\n",
       "    <tr>\n",
       "      <th>862</th>\n",
       "      <td>1002.023843</td>\n",
       "      <td>66.59</td>\n",
       "      <td>1</td>\n",
       "      <td>0</td>\n",
       "      <td>12</td>\n",
       "      <td>22</td>\n",
       "    </tr>\n",
       "    <tr>\n",
       "      <th>933</th>\n",
       "      <td>1007.994941</td>\n",
       "      <td>68.26</td>\n",
       "      <td>1</td>\n",
       "      <td>0</td>\n",
       "      <td>12</td>\n",
       "      <td>22</td>\n",
       "    </tr>\n",
       "    <tr>\n",
       "      <th>988</th>\n",
       "      <td>1578.542814</td>\n",
       "      <td>64.53</td>\n",
       "      <td>0</td>\n",
       "      <td>0</td>\n",
       "      <td>12</td>\n",
       "      <td>22</td>\n",
       "    </tr>\n",
       "    <tr>\n",
       "      <th>522</th>\n",
       "      <td>1955.168187</td>\n",
       "      <td>69.87</td>\n",
       "      <td>1</td>\n",
       "      <td>3</td>\n",
       "      <td>12</td>\n",
       "      <td>22</td>\n",
       "    </tr>\n",
       "    <tr>\n",
       "      <th>765</th>\n",
       "      <td>2581.870402</td>\n",
       "      <td>64.79</td>\n",
       "      <td>1</td>\n",
       "      <td>0</td>\n",
       "      <td>12</td>\n",
       "      <td>22</td>\n",
       "    </tr>\n",
       "  </tbody>\n",
       "</table>\n",
       "</div>"
      ],
      "text/plain": [
       "             earn  height  sex  race  ed  age\n",
       "1038   -56.321979   67.81    0     2  10   22\n",
       "800    -27.876819   72.29    0     0  12   22\n",
       "963    -25.655260   68.90    0     0  12   22\n",
       "1105   988.565070   64.71    1     0  12   22\n",
       "801   1000.221504   64.09    1     0  12   22\n",
       "862   1002.023843   66.59    1     0  12   22\n",
       "933   1007.994941   68.26    1     0  12   22\n",
       "988   1578.542814   64.53    0     0  12   22\n",
       "522   1955.168187   69.87    1     3  12   22\n",
       "765   2581.870402   64.79    1     0  12   22"
      ]
     },
     "execution_count": 83,
     "metadata": {},
     "output_type": "execute_result"
    }
   ],
   "source": [
    "df.sort_values(['age', 'earn'], ascending=True).head(10) #age먼저, earn은 그 다음"
   ]
  },
  {
   "cell_type": "markdown",
   "metadata": {},
   "source": [
    "## 6-6) cumsum, cummax\n",
    "- cumulative sum: 시간에 따른 주식 거래량 등을 파악할때 유용  \n",
    "- cumulative max: 정해진 시간동안의 max 파악할때 유용"
   ]
  },
  {
   "cell_type": "code",
   "execution_count": 84,
   "metadata": {},
   "outputs": [
    {
     "data": {
      "text/html": [
       "<div>\n",
       "<style scoped>\n",
       "    .dataframe tbody tr th:only-of-type {\n",
       "        vertical-align: middle;\n",
       "    }\n",
       "\n",
       "    .dataframe tbody tr th {\n",
       "        vertical-align: top;\n",
       "    }\n",
       "\n",
       "    .dataframe thead th {\n",
       "        text-align: right;\n",
       "    }\n",
       "</style>\n",
       "<table border=\"1\" class=\"dataframe\">\n",
       "  <thead>\n",
       "    <tr style=\"text-align: right;\">\n",
       "      <th></th>\n",
       "      <th>earn</th>\n",
       "      <th>height</th>\n",
       "      <th>sex</th>\n",
       "      <th>race</th>\n",
       "      <th>ed</th>\n",
       "      <th>age</th>\n",
       "    </tr>\n",
       "  </thead>\n",
       "  <tbody>\n",
       "    <tr>\n",
       "      <th>0</th>\n",
       "      <td>79571.299011</td>\n",
       "      <td>73.89</td>\n",
       "      <td>0.0</td>\n",
       "      <td>0.0</td>\n",
       "      <td>16.0</td>\n",
       "      <td>49.0</td>\n",
       "    </tr>\n",
       "    <tr>\n",
       "      <th>1</th>\n",
       "      <td>175968.287654</td>\n",
       "      <td>140.12</td>\n",
       "      <td>1.0</td>\n",
       "      <td>0.0</td>\n",
       "      <td>32.0</td>\n",
       "      <td>111.0</td>\n",
       "    </tr>\n",
       "    <tr>\n",
       "      <th>2</th>\n",
       "      <td>224678.954602</td>\n",
       "      <td>203.89</td>\n",
       "      <td>2.0</td>\n",
       "      <td>0.0</td>\n",
       "      <td>48.0</td>\n",
       "      <td>144.0</td>\n",
       "    </tr>\n",
       "    <tr>\n",
       "      <th>3</th>\n",
       "      <td>305157.050754</td>\n",
       "      <td>267.11</td>\n",
       "      <td>3.0</td>\n",
       "      <td>1.0</td>\n",
       "      <td>64.0</td>\n",
       "      <td>239.0</td>\n",
       "    </tr>\n",
       "    <tr>\n",
       "      <th>4</th>\n",
       "      <td>387246.396253</td>\n",
       "      <td>330.19</td>\n",
       "      <td>4.0</td>\n",
       "      <td>1.0</td>\n",
       "      <td>81.0</td>\n",
       "      <td>282.0</td>\n",
       "    </tr>\n",
       "  </tbody>\n",
       "</table>\n",
       "</div>"
      ],
      "text/plain": [
       "            earn  height  sex  race    ed    age\n",
       "0   79571.299011   73.89  0.0   0.0  16.0   49.0\n",
       "1  175968.287654  140.12  1.0   0.0  32.0  111.0\n",
       "2  224678.954602  203.89  2.0   0.0  48.0  144.0\n",
       "3  305157.050754  267.11  3.0   1.0  64.0  239.0\n",
       "4  387246.396253  330.19  4.0   1.0  81.0  282.0"
      ]
     },
     "execution_count": 84,
     "metadata": {},
     "output_type": "execute_result"
    }
   ],
   "source": [
    "df.cumsum().head()"
   ]
  },
  {
   "cell_type": "code",
   "execution_count": 85,
   "metadata": {},
   "outputs": [
    {
     "data": {
      "text/html": [
       "<div>\n",
       "<style scoped>\n",
       "    .dataframe tbody tr th:only-of-type {\n",
       "        vertical-align: middle;\n",
       "    }\n",
       "\n",
       "    .dataframe tbody tr th {\n",
       "        vertical-align: top;\n",
       "    }\n",
       "\n",
       "    .dataframe thead th {\n",
       "        text-align: right;\n",
       "    }\n",
       "</style>\n",
       "<table border=\"1\" class=\"dataframe\">\n",
       "  <thead>\n",
       "    <tr style=\"text-align: right;\">\n",
       "      <th></th>\n",
       "      <th>earn</th>\n",
       "      <th>height</th>\n",
       "      <th>sex</th>\n",
       "      <th>race</th>\n",
       "      <th>ed</th>\n",
       "      <th>age</th>\n",
       "    </tr>\n",
       "  </thead>\n",
       "  <tbody>\n",
       "    <tr>\n",
       "      <th>0</th>\n",
       "      <td>79571.299011</td>\n",
       "      <td>73.89</td>\n",
       "      <td>0.0</td>\n",
       "      <td>0.0</td>\n",
       "      <td>16.0</td>\n",
       "      <td>49.0</td>\n",
       "    </tr>\n",
       "    <tr>\n",
       "      <th>1</th>\n",
       "      <td>96396.988643</td>\n",
       "      <td>73.89</td>\n",
       "      <td>1.0</td>\n",
       "      <td>0.0</td>\n",
       "      <td>16.0</td>\n",
       "      <td>62.0</td>\n",
       "    </tr>\n",
       "    <tr>\n",
       "      <th>2</th>\n",
       "      <td>96396.988643</td>\n",
       "      <td>73.89</td>\n",
       "      <td>1.0</td>\n",
       "      <td>0.0</td>\n",
       "      <td>16.0</td>\n",
       "      <td>62.0</td>\n",
       "    </tr>\n",
       "    <tr>\n",
       "      <th>3</th>\n",
       "      <td>96396.988643</td>\n",
       "      <td>73.89</td>\n",
       "      <td>1.0</td>\n",
       "      <td>1.0</td>\n",
       "      <td>16.0</td>\n",
       "      <td>95.0</td>\n",
       "    </tr>\n",
       "    <tr>\n",
       "      <th>4</th>\n",
       "      <td>96396.988643</td>\n",
       "      <td>73.89</td>\n",
       "      <td>1.0</td>\n",
       "      <td>1.0</td>\n",
       "      <td>17.0</td>\n",
       "      <td>95.0</td>\n",
       "    </tr>\n",
       "  </tbody>\n",
       "</table>\n",
       "</div>"
      ],
      "text/plain": [
       "           earn  height  sex  race    ed   age\n",
       "0  79571.299011   73.89  0.0   0.0  16.0  49.0\n",
       "1  96396.988643   73.89  1.0   0.0  16.0  62.0\n",
       "2  96396.988643   73.89  1.0   0.0  16.0  62.0\n",
       "3  96396.988643   73.89  1.0   1.0  16.0  95.0\n",
       "4  96396.988643   73.89  1.0   1.0  17.0  95.0"
      ]
     },
     "execution_count": 85,
     "metadata": {},
     "output_type": "execute_result"
    }
   ],
   "source": [
    "df.cummax().head() #각 column마다 cummax 표현"
   ]
  },
  {
   "cell_type": "markdown",
   "metadata": {},
   "source": [
    "## 6-7) Correlation & Covariance\n",
    "- 상관계수와 공분산을 구하는 함수  \n",
    "- corr, cov, corrwith"
   ]
  },
  {
   "cell_type": "markdown",
   "metadata": {},
   "source": [
    "### 6-7-1) corr == correlation coefficient\n",
    "- -1 < corr < 1  \n",
    "- The closer the coefficient is to either −1 or 1, the stronger the correlation between the variables.  \n",
    "- correlation의 강도를 알 수 있음"
   ]
  },
  {
   "cell_type": "markdown",
   "metadata": {},
   "source": [
    "<img src='./img/pd_corr.png' width=\"400\" style=\"float:left\">  "
   ]
  },
  {
   "cell_type": "markdown",
   "metadata": {},
   "source": [
    "<img src='./img/pd_corr_indep.png' width=\"400\" style=\"float:left\">"
   ]
  },
  {
   "cell_type": "code",
   "execution_count": 87,
   "metadata": {},
   "outputs": [
    {
     "data": {
      "text/plain": [
       "0.07400349177836058"
      ]
     },
     "execution_count": 87,
     "metadata": {},
     "output_type": "execute_result"
    }
   ],
   "source": [
    "df.age.corr(df.earn)"
   ]
  },
  {
   "cell_type": "markdown",
   "metadata": {},
   "source": [
    "### 6-7-2) cov = covariance\n",
    "- The sign of the covariance therefore shows the tendency in the linear relationship between the variables.  \n",
    "- The magnitude of the covariance is not easy to interpret because it is not normalized and hence depends on the magnitudes of the variables.  \n",
    "- The normalized version of the covariance, the correlation coefficient, however, shows by its magnitude the strength of the linear relation.\n",
    "- positive/negative tendency는 알수있으나 correlation의 강도는 알 수 없음"
   ]
  },
  {
   "cell_type": "markdown",
   "metadata": {},
   "source": [
    "<img src='./img/pd_cov.png' width=\"400\" style=\"float:left\">"
   ]
  },
  {
   "cell_type": "markdown",
   "metadata": {},
   "source": [
    "<img src=\"./img/pd_cov_2.png\" width=\"500\" style=\"float:left\">"
   ]
  },
  {
   "cell_type": "code",
   "execution_count": 88,
   "metadata": {},
   "outputs": [
    {
     "data": {
      "text/plain": [
       "36523.6992104089"
      ]
     },
     "execution_count": 88,
     "metadata": {},
     "output_type": "execute_result"
    }
   ],
   "source": [
    "df.age.cov(df.earn)"
   ]
  },
  {
   "cell_type": "markdown",
   "metadata": {},
   "source": [
    "### 6-7-3) corrwith : correlation coeff with other features"
   ]
  },
  {
   "cell_type": "code",
   "execution_count": 89,
   "metadata": {},
   "outputs": [
    {
     "data": {
      "text/plain": [
       "earn      1.000000\n",
       "height    0.291600\n",
       "sex      -0.337328\n",
       "race     -0.063977\n",
       "ed        0.350374\n",
       "age       0.074003\n",
       "dtype: float64"
      ]
     },
     "execution_count": 89,
     "metadata": {},
     "output_type": "execute_result"
    }
   ],
   "source": [
    "df.corrwith(df.earn)"
   ]
  },
  {
   "cell_type": "markdown",
   "metadata": {},
   "source": [
    "전체 상관관계"
   ]
  },
  {
   "cell_type": "code",
   "execution_count": 90,
   "metadata": {},
   "outputs": [
    {
     "data": {
      "text/html": [
       "<div>\n",
       "<style scoped>\n",
       "    .dataframe tbody tr th:only-of-type {\n",
       "        vertical-align: middle;\n",
       "    }\n",
       "\n",
       "    .dataframe tbody tr th {\n",
       "        vertical-align: top;\n",
       "    }\n",
       "\n",
       "    .dataframe thead th {\n",
       "        text-align: right;\n",
       "    }\n",
       "</style>\n",
       "<table border=\"1\" class=\"dataframe\">\n",
       "  <thead>\n",
       "    <tr style=\"text-align: right;\">\n",
       "      <th></th>\n",
       "      <th>earn</th>\n",
       "      <th>height</th>\n",
       "      <th>sex</th>\n",
       "      <th>race</th>\n",
       "      <th>ed</th>\n",
       "      <th>age</th>\n",
       "    </tr>\n",
       "  </thead>\n",
       "  <tbody>\n",
       "    <tr>\n",
       "      <th>earn</th>\n",
       "      <td>1.000000</td>\n",
       "      <td>0.291600</td>\n",
       "      <td>-0.337328</td>\n",
       "      <td>-0.063977</td>\n",
       "      <td>0.350374</td>\n",
       "      <td>0.074003</td>\n",
       "    </tr>\n",
       "    <tr>\n",
       "      <th>height</th>\n",
       "      <td>0.291600</td>\n",
       "      <td>1.000000</td>\n",
       "      <td>-0.703672</td>\n",
       "      <td>-0.045974</td>\n",
       "      <td>0.114047</td>\n",
       "      <td>-0.133727</td>\n",
       "    </tr>\n",
       "    <tr>\n",
       "      <th>sex</th>\n",
       "      <td>-0.337328</td>\n",
       "      <td>-0.703672</td>\n",
       "      <td>1.000000</td>\n",
       "      <td>0.000858</td>\n",
       "      <td>-0.061747</td>\n",
       "      <td>0.070036</td>\n",
       "    </tr>\n",
       "    <tr>\n",
       "      <th>race</th>\n",
       "      <td>-0.063977</td>\n",
       "      <td>-0.045974</td>\n",
       "      <td>0.000858</td>\n",
       "      <td>1.000000</td>\n",
       "      <td>-0.049487</td>\n",
       "      <td>-0.056879</td>\n",
       "    </tr>\n",
       "    <tr>\n",
       "      <th>ed</th>\n",
       "      <td>0.350374</td>\n",
       "      <td>0.114047</td>\n",
       "      <td>-0.061747</td>\n",
       "      <td>-0.049487</td>\n",
       "      <td>1.000000</td>\n",
       "      <td>-0.129802</td>\n",
       "    </tr>\n",
       "    <tr>\n",
       "      <th>age</th>\n",
       "      <td>0.074003</td>\n",
       "      <td>-0.133727</td>\n",
       "      <td>0.070036</td>\n",
       "      <td>-0.056879</td>\n",
       "      <td>-0.129802</td>\n",
       "      <td>1.000000</td>\n",
       "    </tr>\n",
       "  </tbody>\n",
       "</table>\n",
       "</div>"
      ],
      "text/plain": [
       "            earn    height       sex      race        ed       age\n",
       "earn    1.000000  0.291600 -0.337328 -0.063977  0.350374  0.074003\n",
       "height  0.291600  1.000000 -0.703672 -0.045974  0.114047 -0.133727\n",
       "sex    -0.337328 -0.703672  1.000000  0.000858 -0.061747  0.070036\n",
       "race   -0.063977 -0.045974  0.000858  1.000000 -0.049487 -0.056879\n",
       "ed      0.350374  0.114047 -0.061747 -0.049487  1.000000 -0.129802\n",
       "age     0.074003 -0.133727  0.070036 -0.056879 -0.129802  1.000000"
      ]
     },
     "execution_count": 90,
     "metadata": {},
     "output_type": "execute_result"
    }
   ],
   "source": [
    "df.corr()"
   ]
  },
  {
   "cell_type": "code",
   "execution_count": 91,
   "metadata": {},
   "outputs": [],
   "source": [
    "# example 1 : age x earn"
   ]
  },
  {
   "cell_type": "code",
   "execution_count": 92,
   "metadata": {},
   "outputs": [
    {
     "data": {
      "text/plain": [
       "0.07400349177836058"
      ]
     },
     "execution_count": 92,
     "metadata": {},
     "output_type": "execute_result"
    }
   ],
   "source": [
    "df.age.corr(df.earn)"
   ]
  },
  {
   "cell_type": "code",
   "execution_count": 93,
   "metadata": {},
   "outputs": [
    {
     "data": {
      "text/plain": [
       "0.29378871716236815"
      ]
     },
     "execution_count": 93,
     "metadata": {},
     "output_type": "execute_result"
    }
   ],
   "source": [
    "df.age[df.age<55].corr(df.earn) # age<55인 age와 earn의 corr"
   ]
  },
  {
   "cell_type": "code",
   "execution_count": 95,
   "metadata": {},
   "outputs": [
    {
     "data": {
      "text/plain": [
       "0.21238097035942677"
      ]
     },
     "execution_count": 95,
     "metadata": {},
     "output_type": "execute_result"
    }
   ],
   "source": [
    "df.age[(df.age < 45) & (df.age > 25)].corr(df.earn)"
   ]
  },
  {
   "cell_type": "code",
   "execution_count": 96,
   "metadata": {},
   "outputs": [
    {
     "data": {
      "text/plain": [
       "earn      1.000000\n",
       "height    0.291600\n",
       "sex      -0.337328\n",
       "race     -0.063977\n",
       "ed        0.350374\n",
       "age       0.074003\n",
       "dtype: float64"
      ]
     },
     "execution_count": 96,
     "metadata": {},
     "output_type": "execute_result"
    }
   ],
   "source": [
    "df.corrwith(df.earn)"
   ]
  },
  {
   "cell_type": "markdown",
   "metadata": {},
   "source": [
    "### 6-8) value_counts"
   ]
  },
  {
   "cell_type": "code",
   "execution_count": 97,
   "metadata": {},
   "outputs": [
    {
     "data": {
      "text/plain": [
       "1    859\n",
       "0    520\n",
       "Name: sex, dtype: int64"
      ]
     },
     "execution_count": 97,
     "metadata": {},
     "output_type": "execute_result"
    }
   ],
   "source": [
    "df.sex.value_counts(sort=True)"
   ]
  }
 ],
 "metadata": {
  "kernelspec": {
   "display_name": "Python 3",
   "language": "python",
   "name": "python3"
  },
  "language_info": {
   "codemirror_mode": {
    "name": "ipython",
    "version": 3
   },
   "file_extension": ".py",
   "mimetype": "text/x-python",
   "name": "python",
   "nbconvert_exporter": "python",
   "pygments_lexer": "ipython3",
   "version": "3.7.1"
  }
 },
 "nbformat": 4,
 "nbformat_minor": 2
}
