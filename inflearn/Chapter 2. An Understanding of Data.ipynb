{
 "cells": [
  {
   "cell_type": "markdown",
   "metadata": {},
   "source": [
    "# The Concepts of a Feature"
   ]
  },
  {
   "cell_type": "markdown",
   "metadata": {},
   "source": [
    "## Feature\n",
    "- An individual measurable property or characteristic of a phenomenon being observed<br/>\n",
    "- same as independent variable and input<br/>\n",
    "- Usually a column in a table<br/>\n",
    "- A data instance can be expressed as a feature vector\n",
    "- A **feature vector** is an n-dimensional vector of numerical features that represent some object."
   ]
  },
  {
   "cell_type": "markdown",
   "metadata": {},
   "source": [
    "# Data Types"
   ]
  },
  {
   "cell_type": "markdown",
   "metadata": {},
   "source": [
    "- continuous / discrete <br/>\n",
    "continuous : Usually real values ex) temperature, grade average, velocity <br/>\n",
    "discrete : Usually labled values ex) sex, zip code, rank"
   ]
  },
  {
   "cell_type": "markdown",
   "metadata": {},
   "source": [
    "- Numeric Types <br/>\n",
    "mesurable data type<br/>\n",
    "integer / real-number<br/>\n",
    "ex ) temperature, velocity, year or day<br/>\n",
    "Interval-scaled type, ratio-scaled type"
   ]
  },
  {
   "cell_type": "markdown",
   "metadata": {},
   "source": [
    "- Nomial Types<br/>\n",
    "can be categorized <br/>\n",
    "ex) color, ID, school name, major<br/>\n",
    "two categories => binary type"
   ]
  },
  {
   "cell_type": "markdown",
   "metadata": {},
   "source": [
    "- Ordinal Types<br/>\n",
    "can be categorized but categories have an order<br/>\n",
    "ex) gpa, size of a bottle<br/>\n",
    "measured scale or unit may differ<br/>\n",
    "Having an order does not implies multiplication"
   ]
  },
  {
   "cell_type": "markdown",
   "metadata": {},
   "source": [
    "# Loading Data with Pandas"
   ]
  },
  {
   "cell_type": "markdown",
   "metadata": {},
   "source": [
    "<img src=\"./img/ml_data_def.png\" width=\"600\" style=\"float : left\">"
   ]
  },
  {
   "cell_type": "code",
   "execution_count": 1,
   "metadata": {},
   "outputs": [],
   "source": [
    "# import pandas library\n",
    "import pandas as pd"
   ]
  },
  {
   "cell_type": "code",
   "execution_count": 2,
   "metadata": {},
   "outputs": [],
   "source": [
    "data_url = 'https://archive.ics.uci.edu/ml/machine-learning-databases/housing/housing.data'\n",
    "df_data = pd.read_csv(data_url, sep='\\s+', header = None) #load csv data, empty separate, no column"
   ]
  },
  {
   "cell_type": "code",
   "execution_count": 3,
   "metadata": {},
   "outputs": [
    {
     "data": {
      "text/html": [
       "<div>\n",
       "<style scoped>\n",
       "    .dataframe tbody tr th:only-of-type {\n",
       "        vertical-align: middle;\n",
       "    }\n",
       "\n",
       "    .dataframe tbody tr th {\n",
       "        vertical-align: top;\n",
       "    }\n",
       "\n",
       "    .dataframe thead th {\n",
       "        text-align: right;\n",
       "    }\n",
       "</style>\n",
       "<table border=\"1\" class=\"dataframe\">\n",
       "  <thead>\n",
       "    <tr style=\"text-align: right;\">\n",
       "      <th></th>\n",
       "      <th>0</th>\n",
       "      <th>1</th>\n",
       "      <th>2</th>\n",
       "      <th>3</th>\n",
       "      <th>4</th>\n",
       "      <th>5</th>\n",
       "      <th>6</th>\n",
       "      <th>7</th>\n",
       "      <th>8</th>\n",
       "      <th>9</th>\n",
       "      <th>10</th>\n",
       "      <th>11</th>\n",
       "      <th>12</th>\n",
       "      <th>13</th>\n",
       "    </tr>\n",
       "  </thead>\n",
       "  <tbody>\n",
       "    <tr>\n",
       "      <th>0</th>\n",
       "      <td>0.00632</td>\n",
       "      <td>18.0</td>\n",
       "      <td>2.31</td>\n",
       "      <td>0</td>\n",
       "      <td>0.538</td>\n",
       "      <td>6.575</td>\n",
       "      <td>65.2</td>\n",
       "      <td>4.0900</td>\n",
       "      <td>1</td>\n",
       "      <td>296.0</td>\n",
       "      <td>15.3</td>\n",
       "      <td>396.90</td>\n",
       "      <td>4.98</td>\n",
       "      <td>24.0</td>\n",
       "    </tr>\n",
       "    <tr>\n",
       "      <th>1</th>\n",
       "      <td>0.02731</td>\n",
       "      <td>0.0</td>\n",
       "      <td>7.07</td>\n",
       "      <td>0</td>\n",
       "      <td>0.469</td>\n",
       "      <td>6.421</td>\n",
       "      <td>78.9</td>\n",
       "      <td>4.9671</td>\n",
       "      <td>2</td>\n",
       "      <td>242.0</td>\n",
       "      <td>17.8</td>\n",
       "      <td>396.90</td>\n",
       "      <td>9.14</td>\n",
       "      <td>21.6</td>\n",
       "    </tr>\n",
       "    <tr>\n",
       "      <th>2</th>\n",
       "      <td>0.02729</td>\n",
       "      <td>0.0</td>\n",
       "      <td>7.07</td>\n",
       "      <td>0</td>\n",
       "      <td>0.469</td>\n",
       "      <td>7.185</td>\n",
       "      <td>61.1</td>\n",
       "      <td>4.9671</td>\n",
       "      <td>2</td>\n",
       "      <td>242.0</td>\n",
       "      <td>17.8</td>\n",
       "      <td>392.83</td>\n",
       "      <td>4.03</td>\n",
       "      <td>34.7</td>\n",
       "    </tr>\n",
       "    <tr>\n",
       "      <th>3</th>\n",
       "      <td>0.03237</td>\n",
       "      <td>0.0</td>\n",
       "      <td>2.18</td>\n",
       "      <td>0</td>\n",
       "      <td>0.458</td>\n",
       "      <td>6.998</td>\n",
       "      <td>45.8</td>\n",
       "      <td>6.0622</td>\n",
       "      <td>3</td>\n",
       "      <td>222.0</td>\n",
       "      <td>18.7</td>\n",
       "      <td>394.63</td>\n",
       "      <td>2.94</td>\n",
       "      <td>33.4</td>\n",
       "    </tr>\n",
       "    <tr>\n",
       "      <th>4</th>\n",
       "      <td>0.06905</td>\n",
       "      <td>0.0</td>\n",
       "      <td>2.18</td>\n",
       "      <td>0</td>\n",
       "      <td>0.458</td>\n",
       "      <td>7.147</td>\n",
       "      <td>54.2</td>\n",
       "      <td>6.0622</td>\n",
       "      <td>3</td>\n",
       "      <td>222.0</td>\n",
       "      <td>18.7</td>\n",
       "      <td>396.90</td>\n",
       "      <td>5.33</td>\n",
       "      <td>36.2</td>\n",
       "    </tr>\n",
       "    <tr>\n",
       "      <th>5</th>\n",
       "      <td>0.02985</td>\n",
       "      <td>0.0</td>\n",
       "      <td>2.18</td>\n",
       "      <td>0</td>\n",
       "      <td>0.458</td>\n",
       "      <td>6.430</td>\n",
       "      <td>58.7</td>\n",
       "      <td>6.0622</td>\n",
       "      <td>3</td>\n",
       "      <td>222.0</td>\n",
       "      <td>18.7</td>\n",
       "      <td>394.12</td>\n",
       "      <td>5.21</td>\n",
       "      <td>28.7</td>\n",
       "    </tr>\n",
       "    <tr>\n",
       "      <th>6</th>\n",
       "      <td>0.08829</td>\n",
       "      <td>12.5</td>\n",
       "      <td>7.87</td>\n",
       "      <td>0</td>\n",
       "      <td>0.524</td>\n",
       "      <td>6.012</td>\n",
       "      <td>66.6</td>\n",
       "      <td>5.5605</td>\n",
       "      <td>5</td>\n",
       "      <td>311.0</td>\n",
       "      <td>15.2</td>\n",
       "      <td>395.60</td>\n",
       "      <td>12.43</td>\n",
       "      <td>22.9</td>\n",
       "    </tr>\n",
       "    <tr>\n",
       "      <th>7</th>\n",
       "      <td>0.14455</td>\n",
       "      <td>12.5</td>\n",
       "      <td>7.87</td>\n",
       "      <td>0</td>\n",
       "      <td>0.524</td>\n",
       "      <td>6.172</td>\n",
       "      <td>96.1</td>\n",
       "      <td>5.9505</td>\n",
       "      <td>5</td>\n",
       "      <td>311.0</td>\n",
       "      <td>15.2</td>\n",
       "      <td>396.90</td>\n",
       "      <td>19.15</td>\n",
       "      <td>27.1</td>\n",
       "    </tr>\n",
       "    <tr>\n",
       "      <th>8</th>\n",
       "      <td>0.21124</td>\n",
       "      <td>12.5</td>\n",
       "      <td>7.87</td>\n",
       "      <td>0</td>\n",
       "      <td>0.524</td>\n",
       "      <td>5.631</td>\n",
       "      <td>100.0</td>\n",
       "      <td>6.0821</td>\n",
       "      <td>5</td>\n",
       "      <td>311.0</td>\n",
       "      <td>15.2</td>\n",
       "      <td>386.63</td>\n",
       "      <td>29.93</td>\n",
       "      <td>16.5</td>\n",
       "    </tr>\n",
       "    <tr>\n",
       "      <th>9</th>\n",
       "      <td>0.17004</td>\n",
       "      <td>12.5</td>\n",
       "      <td>7.87</td>\n",
       "      <td>0</td>\n",
       "      <td>0.524</td>\n",
       "      <td>6.004</td>\n",
       "      <td>85.9</td>\n",
       "      <td>6.5921</td>\n",
       "      <td>5</td>\n",
       "      <td>311.0</td>\n",
       "      <td>15.2</td>\n",
       "      <td>386.71</td>\n",
       "      <td>17.10</td>\n",
       "      <td>18.9</td>\n",
       "    </tr>\n",
       "  </tbody>\n",
       "</table>\n",
       "</div>"
      ],
      "text/plain": [
       "        0     1     2   3      4      5      6       7   8      9     10  \\\n",
       "0  0.00632  18.0  2.31   0  0.538  6.575   65.2  4.0900   1  296.0  15.3   \n",
       "1  0.02731   0.0  7.07   0  0.469  6.421   78.9  4.9671   2  242.0  17.8   \n",
       "2  0.02729   0.0  7.07   0  0.469  7.185   61.1  4.9671   2  242.0  17.8   \n",
       "3  0.03237   0.0  2.18   0  0.458  6.998   45.8  6.0622   3  222.0  18.7   \n",
       "4  0.06905   0.0  2.18   0  0.458  7.147   54.2  6.0622   3  222.0  18.7   \n",
       "5  0.02985   0.0  2.18   0  0.458  6.430   58.7  6.0622   3  222.0  18.7   \n",
       "6  0.08829  12.5  7.87   0  0.524  6.012   66.6  5.5605   5  311.0  15.2   \n",
       "7  0.14455  12.5  7.87   0  0.524  6.172   96.1  5.9505   5  311.0  15.2   \n",
       "8  0.21124  12.5  7.87   0  0.524  5.631  100.0  6.0821   5  311.0  15.2   \n",
       "9  0.17004  12.5  7.87   0  0.524  6.004   85.9  6.5921   5  311.0  15.2   \n",
       "\n",
       "       11     12    13  \n",
       "0  396.90   4.98  24.0  \n",
       "1  396.90   9.14  21.6  \n",
       "2  392.83   4.03  34.7  \n",
       "3  394.63   2.94  33.4  \n",
       "4  396.90   5.33  36.2  \n",
       "5  394.12   5.21  28.7  \n",
       "6  395.60  12.43  22.9  \n",
       "7  396.90  19.15  27.1  \n",
       "8  386.63  29.93  16.5  \n",
       "9  386.71  17.10  18.9  "
      ]
     },
     "execution_count": 3,
     "metadata": {},
     "output_type": "execute_result"
    }
   ],
   "source": [
    "df_data.head(10)"
   ]
  },
  {
   "cell_type": "code",
   "execution_count": 4,
   "metadata": {},
   "outputs": [
    {
     "data": {
      "text/html": [
       "<div>\n",
       "<style scoped>\n",
       "    .dataframe tbody tr th:only-of-type {\n",
       "        vertical-align: middle;\n",
       "    }\n",
       "\n",
       "    .dataframe tbody tr th {\n",
       "        vertical-align: top;\n",
       "    }\n",
       "\n",
       "    .dataframe thead th {\n",
       "        text-align: right;\n",
       "    }\n",
       "</style>\n",
       "<table border=\"1\" class=\"dataframe\">\n",
       "  <thead>\n",
       "    <tr style=\"text-align: right;\">\n",
       "      <th></th>\n",
       "      <th>CRIM</th>\n",
       "      <th>ZN</th>\n",
       "      <th>INDUS</th>\n",
       "      <th>CHAS</th>\n",
       "      <th>NOX</th>\n",
       "      <th>RM</th>\n",
       "      <th>AGE</th>\n",
       "      <th>DIS</th>\n",
       "      <th>RAD</th>\n",
       "      <th>TAX</th>\n",
       "      <th>PTRARIO</th>\n",
       "      <th>B</th>\n",
       "      <th>LSTAT</th>\n",
       "      <th>MEDV</th>\n",
       "    </tr>\n",
       "  </thead>\n",
       "  <tbody>\n",
       "    <tr>\n",
       "      <th>0</th>\n",
       "      <td>0.00632</td>\n",
       "      <td>18.0</td>\n",
       "      <td>2.31</td>\n",
       "      <td>0</td>\n",
       "      <td>0.538</td>\n",
       "      <td>6.575</td>\n",
       "      <td>65.2</td>\n",
       "      <td>4.0900</td>\n",
       "      <td>1</td>\n",
       "      <td>296.0</td>\n",
       "      <td>15.3</td>\n",
       "      <td>396.90</td>\n",
       "      <td>4.98</td>\n",
       "      <td>24.0</td>\n",
       "    </tr>\n",
       "    <tr>\n",
       "      <th>1</th>\n",
       "      <td>0.02731</td>\n",
       "      <td>0.0</td>\n",
       "      <td>7.07</td>\n",
       "      <td>0</td>\n",
       "      <td>0.469</td>\n",
       "      <td>6.421</td>\n",
       "      <td>78.9</td>\n",
       "      <td>4.9671</td>\n",
       "      <td>2</td>\n",
       "      <td>242.0</td>\n",
       "      <td>17.8</td>\n",
       "      <td>396.90</td>\n",
       "      <td>9.14</td>\n",
       "      <td>21.6</td>\n",
       "    </tr>\n",
       "    <tr>\n",
       "      <th>2</th>\n",
       "      <td>0.02729</td>\n",
       "      <td>0.0</td>\n",
       "      <td>7.07</td>\n",
       "      <td>0</td>\n",
       "      <td>0.469</td>\n",
       "      <td>7.185</td>\n",
       "      <td>61.1</td>\n",
       "      <td>4.9671</td>\n",
       "      <td>2</td>\n",
       "      <td>242.0</td>\n",
       "      <td>17.8</td>\n",
       "      <td>392.83</td>\n",
       "      <td>4.03</td>\n",
       "      <td>34.7</td>\n",
       "    </tr>\n",
       "    <tr>\n",
       "      <th>3</th>\n",
       "      <td>0.03237</td>\n",
       "      <td>0.0</td>\n",
       "      <td>2.18</td>\n",
       "      <td>0</td>\n",
       "      <td>0.458</td>\n",
       "      <td>6.998</td>\n",
       "      <td>45.8</td>\n",
       "      <td>6.0622</td>\n",
       "      <td>3</td>\n",
       "      <td>222.0</td>\n",
       "      <td>18.7</td>\n",
       "      <td>394.63</td>\n",
       "      <td>2.94</td>\n",
       "      <td>33.4</td>\n",
       "    </tr>\n",
       "    <tr>\n",
       "      <th>4</th>\n",
       "      <td>0.06905</td>\n",
       "      <td>0.0</td>\n",
       "      <td>2.18</td>\n",
       "      <td>0</td>\n",
       "      <td>0.458</td>\n",
       "      <td>7.147</td>\n",
       "      <td>54.2</td>\n",
       "      <td>6.0622</td>\n",
       "      <td>3</td>\n",
       "      <td>222.0</td>\n",
       "      <td>18.7</td>\n",
       "      <td>396.90</td>\n",
       "      <td>5.33</td>\n",
       "      <td>36.2</td>\n",
       "    </tr>\n",
       "  </tbody>\n",
       "</table>\n",
       "</div>"
      ],
      "text/plain": [
       "      CRIM    ZN  INDUS  CHAS    NOX     RM   AGE     DIS  RAD    TAX  \\\n",
       "0  0.00632  18.0   2.31     0  0.538  6.575  65.2  4.0900    1  296.0   \n",
       "1  0.02731   0.0   7.07     0  0.469  6.421  78.9  4.9671    2  242.0   \n",
       "2  0.02729   0.0   7.07     0  0.469  7.185  61.1  4.9671    2  242.0   \n",
       "3  0.03237   0.0   2.18     0  0.458  6.998  45.8  6.0622    3  222.0   \n",
       "4  0.06905   0.0   2.18     0  0.458  7.147  54.2  6.0622    3  222.0   \n",
       "\n",
       "   PTRARIO       B  LSTAT  MEDV  \n",
       "0     15.3  396.90   4.98  24.0  \n",
       "1     17.8  396.90   9.14  21.6  \n",
       "2     17.8  392.83   4.03  34.7  \n",
       "3     18.7  394.63   2.94  33.4  \n",
       "4     18.7  396.90   5.33  36.2  "
      ]
     },
     "execution_count": 4,
     "metadata": {},
     "output_type": "execute_result"
    }
   ],
   "source": [
    "# assign column names as a list\n",
    "df_data.columns = ['CRIM', 'ZN', 'INDUS', 'CHAS', 'NOX', 'RM', 'AGE', 'DIS', 'RAD', 'TAX', 'PTRARIO', 'B', 'LSTAT', 'MEDV']\n",
    "df_data.head()"
   ]
  },
  {
   "cell_type": "markdown",
   "metadata": {},
   "source": [
    "# Representing a Model with Numpy"
   ]
  },
  {
   "cell_type": "markdown",
   "metadata": {},
   "source": [
    "<img src=\"./img/ml_numpy_eq.png\" width=\"600\" style=\"float: left\">"
   ]
  },
  {
   "cell_type": "code",
   "execution_count": 5,
   "metadata": {},
   "outputs": [],
   "source": [
    "# import numpy lib\n",
    "import numpy as np"
   ]
  },
  {
   "cell_type": "code",
   "execution_count": 8,
   "metadata": {},
   "outputs": [],
   "source": [
    "# make two dimensional vectors\n",
    "weight_vector = np.array([[1], [1], [1]]) \n",
    "x_vector = np.array([[3], [4], [5]])"
   ]
  },
  {
   "cell_type": "code",
   "execution_count": 10,
   "metadata": {},
   "outputs": [
    {
     "data": {
      "text/plain": [
       "array([[1, 1, 1]])"
      ]
     },
     "execution_count": 10,
     "metadata": {},
     "output_type": "execute_result"
    }
   ],
   "source": [
    "# transpose of weight vector\n",
    "weight_vector.T"
   ]
  },
  {
   "cell_type": "code",
   "execution_count": 9,
   "metadata": {},
   "outputs": [
    {
     "data": {
      "text/plain": [
       "array([[12]])"
      ]
     },
     "execution_count": 9,
     "metadata": {},
     "output_type": "execute_result"
    }
   ],
   "source": [
    "# dot product of transpose of weight vector and x vector\n",
    "weight_vector.T.dot(x_vector)"
   ]
  },
  {
   "cell_type": "markdown",
   "metadata": {},
   "source": [
    "## Equation Format\n",
    "<img src=\"./img/ml_pn_eq.png\" width=\"600\" style=\"float: left\">"
   ]
  },
  {
   "cell_type": "markdown",
   "metadata": {},
   "source": [
    "## Another Example"
   ]
  },
  {
   "cell_type": "code",
   "execution_count": 11,
   "metadata": {},
   "outputs": [
    {
     "data": {
      "text/html": [
       "<div>\n",
       "<style scoped>\n",
       "    .dataframe tbody tr th:only-of-type {\n",
       "        vertical-align: middle;\n",
       "    }\n",
       "\n",
       "    .dataframe tbody tr th {\n",
       "        vertical-align: top;\n",
       "    }\n",
       "\n",
       "    .dataframe thead th {\n",
       "        text-align: right;\n",
       "    }\n",
       "</style>\n",
       "<table border=\"1\" class=\"dataframe\">\n",
       "  <thead>\n",
       "    <tr style=\"text-align: right;\">\n",
       "      <th></th>\n",
       "      <th>CRIM</th>\n",
       "      <th>ZN</th>\n",
       "      <th>INDUS</th>\n",
       "      <th>CHAS</th>\n",
       "      <th>NOX</th>\n",
       "      <th>RM</th>\n",
       "      <th>AGE</th>\n",
       "      <th>DIS</th>\n",
       "      <th>RAD</th>\n",
       "      <th>TAX</th>\n",
       "      <th>PTRARIO</th>\n",
       "      <th>B</th>\n",
       "      <th>LSTAT</th>\n",
       "      <th>MEDV</th>\n",
       "    </tr>\n",
       "  </thead>\n",
       "  <tbody>\n",
       "    <tr>\n",
       "      <th>0</th>\n",
       "      <td>0.00632</td>\n",
       "      <td>18.0</td>\n",
       "      <td>2.31</td>\n",
       "      <td>0</td>\n",
       "      <td>0.538</td>\n",
       "      <td>6.575</td>\n",
       "      <td>65.2</td>\n",
       "      <td>4.0900</td>\n",
       "      <td>1</td>\n",
       "      <td>296.0</td>\n",
       "      <td>15.3</td>\n",
       "      <td>396.90</td>\n",
       "      <td>4.98</td>\n",
       "      <td>24.0</td>\n",
       "    </tr>\n",
       "    <tr>\n",
       "      <th>1</th>\n",
       "      <td>0.02731</td>\n",
       "      <td>0.0</td>\n",
       "      <td>7.07</td>\n",
       "      <td>0</td>\n",
       "      <td>0.469</td>\n",
       "      <td>6.421</td>\n",
       "      <td>78.9</td>\n",
       "      <td>4.9671</td>\n",
       "      <td>2</td>\n",
       "      <td>242.0</td>\n",
       "      <td>17.8</td>\n",
       "      <td>396.90</td>\n",
       "      <td>9.14</td>\n",
       "      <td>21.6</td>\n",
       "    </tr>\n",
       "    <tr>\n",
       "      <th>2</th>\n",
       "      <td>0.02729</td>\n",
       "      <td>0.0</td>\n",
       "      <td>7.07</td>\n",
       "      <td>0</td>\n",
       "      <td>0.469</td>\n",
       "      <td>7.185</td>\n",
       "      <td>61.1</td>\n",
       "      <td>4.9671</td>\n",
       "      <td>2</td>\n",
       "      <td>242.0</td>\n",
       "      <td>17.8</td>\n",
       "      <td>392.83</td>\n",
       "      <td>4.03</td>\n",
       "      <td>34.7</td>\n",
       "    </tr>\n",
       "    <tr>\n",
       "      <th>3</th>\n",
       "      <td>0.03237</td>\n",
       "      <td>0.0</td>\n",
       "      <td>2.18</td>\n",
       "      <td>0</td>\n",
       "      <td>0.458</td>\n",
       "      <td>6.998</td>\n",
       "      <td>45.8</td>\n",
       "      <td>6.0622</td>\n",
       "      <td>3</td>\n",
       "      <td>222.0</td>\n",
       "      <td>18.7</td>\n",
       "      <td>394.63</td>\n",
       "      <td>2.94</td>\n",
       "      <td>33.4</td>\n",
       "    </tr>\n",
       "    <tr>\n",
       "      <th>4</th>\n",
       "      <td>0.06905</td>\n",
       "      <td>0.0</td>\n",
       "      <td>2.18</td>\n",
       "      <td>0</td>\n",
       "      <td>0.458</td>\n",
       "      <td>7.147</td>\n",
       "      <td>54.2</td>\n",
       "      <td>6.0622</td>\n",
       "      <td>3</td>\n",
       "      <td>222.0</td>\n",
       "      <td>18.7</td>\n",
       "      <td>396.90</td>\n",
       "      <td>5.33</td>\n",
       "      <td>36.2</td>\n",
       "    </tr>\n",
       "  </tbody>\n",
       "</table>\n",
       "</div>"
      ],
      "text/plain": [
       "      CRIM    ZN  INDUS  CHAS    NOX     RM   AGE     DIS  RAD    TAX  \\\n",
       "0  0.00632  18.0   2.31     0  0.538  6.575  65.2  4.0900    1  296.0   \n",
       "1  0.02731   0.0   7.07     0  0.469  6.421  78.9  4.9671    2  242.0   \n",
       "2  0.02729   0.0   7.07     0  0.469  7.185  61.1  4.9671    2  242.0   \n",
       "3  0.03237   0.0   2.18     0  0.458  6.998  45.8  6.0622    3  222.0   \n",
       "4  0.06905   0.0   2.18     0  0.458  7.147  54.2  6.0622    3  222.0   \n",
       "\n",
       "   PTRARIO       B  LSTAT  MEDV  \n",
       "0     15.3  396.90   4.98  24.0  \n",
       "1     17.8  396.90   9.14  21.6  \n",
       "2     17.8  392.83   4.03  34.7  \n",
       "3     18.7  394.63   2.94  33.4  \n",
       "4     18.7  396.90   5.33  36.2  "
      ]
     },
     "execution_count": 11,
     "metadata": {},
     "output_type": "execute_result"
    }
   ],
   "source": [
    "# import pandas as pd already done above\n",
    "df_data.head()"
   ]
  },
  {
   "cell_type": "code",
   "execution_count": 12,
   "metadata": {},
   "outputs": [
    {
     "data": {
      "text/html": [
       "<div>\n",
       "<style scoped>\n",
       "    .dataframe tbody tr th:only-of-type {\n",
       "        vertical-align: middle;\n",
       "    }\n",
       "\n",
       "    .dataframe tbody tr th {\n",
       "        vertical-align: top;\n",
       "    }\n",
       "\n",
       "    .dataframe thead th {\n",
       "        text-align: right;\n",
       "    }\n",
       "</style>\n",
       "<table border=\"1\" class=\"dataframe\">\n",
       "  <thead>\n",
       "    <tr style=\"text-align: right;\">\n",
       "      <th></th>\n",
       "      <th>CRIM</th>\n",
       "      <th>ZN</th>\n",
       "      <th>INDUS</th>\n",
       "      <th>CHAS</th>\n",
       "      <th>NOX</th>\n",
       "      <th>RM</th>\n",
       "      <th>AGE</th>\n",
       "      <th>DIS</th>\n",
       "      <th>RAD</th>\n",
       "      <th>TAX</th>\n",
       "      <th>PTRARIO</th>\n",
       "      <th>B</th>\n",
       "      <th>LSTAT</th>\n",
       "      <th>weight_0</th>\n",
       "    </tr>\n",
       "  </thead>\n",
       "  <tbody>\n",
       "    <tr>\n",
       "      <th>0</th>\n",
       "      <td>0.00632</td>\n",
       "      <td>18.0</td>\n",
       "      <td>2.31</td>\n",
       "      <td>0</td>\n",
       "      <td>0.538</td>\n",
       "      <td>6.575</td>\n",
       "      <td>65.2</td>\n",
       "      <td>4.0900</td>\n",
       "      <td>1</td>\n",
       "      <td>296.0</td>\n",
       "      <td>15.3</td>\n",
       "      <td>396.90</td>\n",
       "      <td>4.98</td>\n",
       "      <td>1</td>\n",
       "    </tr>\n",
       "    <tr>\n",
       "      <th>1</th>\n",
       "      <td>0.02731</td>\n",
       "      <td>0.0</td>\n",
       "      <td>7.07</td>\n",
       "      <td>0</td>\n",
       "      <td>0.469</td>\n",
       "      <td>6.421</td>\n",
       "      <td>78.9</td>\n",
       "      <td>4.9671</td>\n",
       "      <td>2</td>\n",
       "      <td>242.0</td>\n",
       "      <td>17.8</td>\n",
       "      <td>396.90</td>\n",
       "      <td>9.14</td>\n",
       "      <td>1</td>\n",
       "    </tr>\n",
       "    <tr>\n",
       "      <th>2</th>\n",
       "      <td>0.02729</td>\n",
       "      <td>0.0</td>\n",
       "      <td>7.07</td>\n",
       "      <td>0</td>\n",
       "      <td>0.469</td>\n",
       "      <td>7.185</td>\n",
       "      <td>61.1</td>\n",
       "      <td>4.9671</td>\n",
       "      <td>2</td>\n",
       "      <td>242.0</td>\n",
       "      <td>17.8</td>\n",
       "      <td>392.83</td>\n",
       "      <td>4.03</td>\n",
       "      <td>1</td>\n",
       "    </tr>\n",
       "    <tr>\n",
       "      <th>3</th>\n",
       "      <td>0.03237</td>\n",
       "      <td>0.0</td>\n",
       "      <td>2.18</td>\n",
       "      <td>0</td>\n",
       "      <td>0.458</td>\n",
       "      <td>6.998</td>\n",
       "      <td>45.8</td>\n",
       "      <td>6.0622</td>\n",
       "      <td>3</td>\n",
       "      <td>222.0</td>\n",
       "      <td>18.7</td>\n",
       "      <td>394.63</td>\n",
       "      <td>2.94</td>\n",
       "      <td>1</td>\n",
       "    </tr>\n",
       "    <tr>\n",
       "      <th>4</th>\n",
       "      <td>0.06905</td>\n",
       "      <td>0.0</td>\n",
       "      <td>2.18</td>\n",
       "      <td>0</td>\n",
       "      <td>0.458</td>\n",
       "      <td>7.147</td>\n",
       "      <td>54.2</td>\n",
       "      <td>6.0622</td>\n",
       "      <td>3</td>\n",
       "      <td>222.0</td>\n",
       "      <td>18.7</td>\n",
       "      <td>396.90</td>\n",
       "      <td>5.33</td>\n",
       "      <td>1</td>\n",
       "    </tr>\n",
       "  </tbody>\n",
       "</table>\n",
       "</div>"
      ],
      "text/plain": [
       "      CRIM    ZN  INDUS  CHAS    NOX     RM   AGE     DIS  RAD    TAX  \\\n",
       "0  0.00632  18.0   2.31     0  0.538  6.575  65.2  4.0900    1  296.0   \n",
       "1  0.02731   0.0   7.07     0  0.469  6.421  78.9  4.9671    2  242.0   \n",
       "2  0.02729   0.0   7.07     0  0.469  7.185  61.1  4.9671    2  242.0   \n",
       "3  0.03237   0.0   2.18     0  0.458  6.998  45.8  6.0622    3  222.0   \n",
       "4  0.06905   0.0   2.18     0  0.458  7.147  54.2  6.0622    3  222.0   \n",
       "\n",
       "   PTRARIO       B  LSTAT  weight_0  \n",
       "0     15.3  396.90   4.98         1  \n",
       "1     17.8  396.90   9.14         1  \n",
       "2     17.8  392.83   4.03         1  \n",
       "3     18.7  394.63   2.94         1  \n",
       "4     18.7  396.90   5.33         1  "
      ]
     },
     "execution_count": 12,
     "metadata": {},
     "output_type": "execute_result"
    }
   ],
   "source": [
    "# add w0's col and insert 1 to them\n",
    "df_data['weight_0'] = 1\n",
    "\n",
    "# remove MEDV col since it stands for Y, not X\n",
    "df_data = df_data.drop('MEDV', axis = 1)\n",
    "\n",
    "df_data.head()"
   ]
  },
  {
   "cell_type": "code",
   "execution_count": 13,
   "metadata": {},
   "outputs": [
    {
     "name": "stderr",
     "output_type": "stream",
     "text": [
      "c:\\python37\\lib\\site-packages\\ipykernel_launcher.py:1: FutureWarning: Method .as_matrix will be removed in a future version. Use .values instead.\n",
      "  \"\"\"Entry point for launching an IPython kernel.\n"
     ]
    },
    {
     "data": {
      "text/plain": [
       "array([[6.3200e-03, 1.8000e+01, 2.3100e+00, ..., 3.9690e+02, 4.9800e+00,\n",
       "        1.0000e+00],\n",
       "       [2.7310e-02, 0.0000e+00, 7.0700e+00, ..., 3.9690e+02, 9.1400e+00,\n",
       "        1.0000e+00],\n",
       "       [2.7290e-02, 0.0000e+00, 7.0700e+00, ..., 3.9283e+02, 4.0300e+00,\n",
       "        1.0000e+00],\n",
       "       ...,\n",
       "       [6.0760e-02, 0.0000e+00, 1.1930e+01, ..., 3.9690e+02, 5.6400e+00,\n",
       "        1.0000e+00],\n",
       "       [1.0959e-01, 0.0000e+00, 1.1930e+01, ..., 3.9345e+02, 6.4800e+00,\n",
       "        1.0000e+00],\n",
       "       [4.7410e-02, 0.0000e+00, 1.1930e+01, ..., 3.9690e+02, 7.8800e+00,\n",
       "        1.0000e+00]])"
      ]
     },
     "execution_count": 13,
     "metadata": {},
     "output_type": "execute_result"
    }
   ],
   "source": [
    "df_data.as_matrix()"
   ]
  },
  {
   "cell_type": "code",
   "execution_count": 14,
   "metadata": {},
   "outputs": [
    {
     "data": {
      "text/plain": [
       "(506, 14)"
      ]
     },
     "execution_count": 14,
     "metadata": {},
     "output_type": "execute_result"
    }
   ],
   "source": [
    "# get the dimension of data\n",
    "df_data.shape"
   ]
  },
  {
   "cell_type": "code",
   "execution_count": 15,
   "metadata": {},
   "outputs": [
    {
     "name": "stderr",
     "output_type": "stream",
     "text": [
      "c:\\python37\\lib\\site-packages\\ipykernel_launcher.py:1: FutureWarning: Method .as_matrix will be removed in a future version. Use .values instead.\n",
      "  \"\"\"Entry point for launching an IPython kernel.\n"
     ]
    }
   ],
   "source": [
    "df_matrix = df_data.as_matrix()\n",
    "weight_vector = np.random.random_sample((14, 1))"
   ]
  },
  {
   "cell_type": "code",
   "execution_count": 17,
   "metadata": {},
   "outputs": [
    {
     "data": {
      "text/plain": [
       "array([[0.35043066],\n",
       "       [0.45217015],\n",
       "       [0.65880949],\n",
       "       [0.52036076],\n",
       "       [0.73660951],\n",
       "       [0.09401056],\n",
       "       [0.17914134],\n",
       "       [0.8268971 ],\n",
       "       [0.53968704],\n",
       "       [0.52160813],\n",
       "       [0.32140644],\n",
       "       [0.07261295],\n",
       "       [0.29997375],\n",
       "       [0.17845014]])"
      ]
     },
     "execution_count": 17,
     "metadata": {},
     "output_type": "execute_result"
    }
   ],
   "source": [
    "weight_vector"
   ]
  },
  {
   "cell_type": "code",
   "execution_count": 16,
   "metadata": {},
   "outputs": [
    {
     "data": {
      "text/plain": [
       "array([[216.08517797],\n",
       "       [188.62786298],\n",
       "       [183.6825636 ],\n",
       "       [168.8022773 ],\n",
       "       [171.21569459],\n",
       "       [171.70282733],\n",
       "       [230.78459442],\n",
       "       [238.5367312 ],\n",
       "       [241.80469467],\n",
       "       [235.87829328],\n",
       "       [238.66124035],\n",
       "       [234.61179544],\n",
       "       [226.35361393],\n",
       "       [222.02080612],\n",
       "       [225.27516267],\n",
       "       [220.85702639],\n",
       "       [214.93958375],\n",
       "       [226.45773115],\n",
       "       [209.96064771],\n",
       "       [223.1335499 ],\n",
       "       [230.30528343],\n",
       "       [227.78735311],\n",
       "       [230.14007873],\n",
       "       [231.78492821],\n",
       "       [229.81752013],\n",
       "       [221.82104713],\n",
       "       [227.61835055],\n",
       "       [222.90380398],\n",
       "       [228.46456502],\n",
       "       [226.3057132 ],\n",
       "       [229.2026556 ],\n",
       "       [228.65856553],\n",
       "       [219.21614586],\n",
       "       [227.62490489],\n",
       "       [220.71745584],\n",
       "       [206.1707687 ],\n",
       "       [204.08479102],\n",
       "       [201.58706853],\n",
       "       [199.691076  ],\n",
       "       [214.32088032],\n",
       "       [212.58578666],\n",
       "       [169.3366007 ],\n",
       "       [170.09069449],\n",
       "       [171.37722229],\n",
       "       [177.61705439],\n",
       "       [176.71728874],\n",
       "       [177.82532804],\n",
       "       [188.7936312 ],\n",
       "       [194.5526085 ],\n",
       "       [184.3917353 ],\n",
       "       [195.19315067],\n",
       "       [196.96934087],\n",
       "       [188.47199664],\n",
       "       [189.42110081],\n",
       "       [338.46116675],\n",
       "       [210.30239611],\n",
       "       [254.45623601],\n",
       "       [232.15048873],\n",
       "       [216.73302088],\n",
       "       [220.34874501],\n",
       "       [225.04260962],\n",
       "       [228.75815583],\n",
       "       [223.58699738],\n",
       "       [220.61011965],\n",
       "       [179.50075638],\n",
       "       [261.46134081],\n",
       "       [265.47027305],\n",
       "       [239.298405  ],\n",
       "       [243.60466555],\n",
       "       [241.65881222],\n",
       "       [211.09280299],\n",
       "       [213.4821553 ],\n",
       "       [211.4372578 ],\n",
       "       [210.81215582],\n",
       "       [261.17957287],\n",
       "       [268.17970207],\n",
       "       [273.30753992],\n",
       "       [268.63551572],\n",
       "       [271.39265917],\n",
       "       [267.61186002],\n",
       "       [211.35648938],\n",
       "       [218.44460561],\n",
       "       [211.51102266],\n",
       "       [213.87792442],\n",
       "       [184.74457558],\n",
       "       [184.67715671],\n",
       "       [184.80496182],\n",
       "       [184.96892145],\n",
       "       [199.85758913],\n",
       "       [195.70007046],\n",
       "       [196.55784772],\n",
       "       [197.86771718],\n",
       "       [216.31630543],\n",
       "       [211.37604443],\n",
       "       [221.36821568],\n",
       "       [195.13767025],\n",
       "       [201.07047733],\n",
       "       [200.62752982],\n",
       "       [193.14935315],\n",
       "       [198.72337786],\n",
       "       [264.69954052],\n",
       "       [262.75130237],\n",
       "       [242.46971672],\n",
       "       [267.14235348],\n",
       "       [266.88062518],\n",
       "       [269.12963539],\n",
       "       [269.14252188],\n",
       "       [265.93200979],\n",
       "       [268.35433662],\n",
       "       [268.10740587],\n",
       "       [261.04883726],\n",
       "       [290.74118626],\n",
       "       [294.19832568],\n",
       "       [295.2641263 ],\n",
       "       [290.41961726],\n",
       "       [289.69678028],\n",
       "       [289.5122624 ],\n",
       "       [290.89402932],\n",
       "       [286.41110614],\n",
       "       [288.53163278],\n",
       "       [170.28245599],\n",
       "       [171.96216496],\n",
       "       [174.57907373],\n",
       "       [176.88483544],\n",
       "       [175.01483411],\n",
       "       [173.2914925 ],\n",
       "       [176.29419617],\n",
       "       [304.90588914],\n",
       "       [305.3279654 ],\n",
       "       [305.73696303],\n",
       "       [304.63458829],\n",
       "       [304.8652554 ],\n",
       "       [303.5898957 ],\n",
       "       [304.50263011],\n",
       "       [296.69778349],\n",
       "       [305.84849078],\n",
       "       [303.55796925],\n",
       "       [304.85399345],\n",
       "       [306.4469704 ],\n",
       "       [306.01920271],\n",
       "       [306.1846174 ],\n",
       "       [311.26386229],\n",
       "       [289.4151475 ],\n",
       "       [289.12755089],\n",
       "       [289.02500766],\n",
       "       [272.74315111],\n",
       "       [269.08896373],\n",
       "       [288.29704702],\n",
       "       [285.14073527],\n",
       "       [283.08037051],\n",
       "       [282.57487856],\n",
       "       [280.40156107],\n",
       "       [278.39520586],\n",
       "       [275.38574727],\n",
       "       [279.43267572],\n",
       "       [260.82489843],\n",
       "       [262.25610134],\n",
       "       [279.00357448],\n",
       "       [279.1886836 ],\n",
       "       [280.50687384],\n",
       "       [277.04437757],\n",
       "       [277.97481271],\n",
       "       [281.19702468],\n",
       "       [280.80632177],\n",
       "       [283.12062118],\n",
       "       [271.68274291],\n",
       "       [279.45562775],\n",
       "       [268.70122729],\n",
       "       [276.40921509],\n",
       "       [278.90101209],\n",
       "       [276.6356049 ],\n",
       "       [280.81151047],\n",
       "       [217.4520837 ],\n",
       "       [214.97161073],\n",
       "       [212.2190369 ],\n",
       "       [204.79812049],\n",
       "       [209.22397102],\n",
       "       [212.76949847],\n",
       "       [212.54613169],\n",
       "       [153.97859335],\n",
       "       [159.10170806],\n",
       "       [155.71640871],\n",
       "       [159.68763552],\n",
       "       [160.82513238],\n",
       "       [161.86787471],\n",
       "       [157.8594411 ],\n",
       "       [153.01716964],\n",
       "       [280.06271303],\n",
       "       [277.11479828],\n",
       "       [280.18468268],\n",
       "       [277.14739449],\n",
       "       [279.53646445],\n",
       "       [278.28842797],\n",
       "       [210.95016082],\n",
       "       [211.1180307 ],\n",
       "       [217.42850328],\n",
       "       [257.28480617],\n",
       "       [255.98432862],\n",
       "       [258.45577859],\n",
       "       [301.09351537],\n",
       "       [299.90503103],\n",
       "       [269.92588503],\n",
       "       [264.81208066],\n",
       "       [209.52430139],\n",
       "       [208.86227113],\n",
       "       [200.07751226],\n",
       "       [205.78236747],\n",
       "       [211.08958889],\n",
       "       [207.45487862],\n",
       "       [218.1780775 ],\n",
       "       [214.7200734 ],\n",
       "       [216.0932963 ],\n",
       "       [207.13420858],\n",
       "       [200.66362507],\n",
       "       [199.67119603],\n",
       "       [203.06978922],\n",
       "       [207.93798157],\n",
       "       [211.81827306],\n",
       "       [216.1746211 ],\n",
       "       [213.90143028],\n",
       "       [225.55508537],\n",
       "       [229.93587553],\n",
       "       [224.01684879],\n",
       "       [223.79795606],\n",
       "       [221.18722222],\n",
       "       [222.07200614],\n",
       "       [222.79024381],\n",
       "       [221.39399786],\n",
       "       [209.92931911],\n",
       "       [210.81875022],\n",
       "       [221.63172425],\n",
       "       [221.23644464],\n",
       "       [220.73357988],\n",
       "       [219.90452577],\n",
       "       [219.49244901],\n",
       "       [220.02572319],\n",
       "       [224.2088975 ],\n",
       "       [221.55078281],\n",
       "       [220.89127137],\n",
       "       [225.77249687],\n",
       "       [229.84094842],\n",
       "       [232.24844471],\n",
       "       [228.72283439],\n",
       "       [218.98897507],\n",
       "       [248.0291342 ],\n",
       "       [249.89262603],\n",
       "       [241.03793651],\n",
       "       [248.2122767 ],\n",
       "       [242.34612626],\n",
       "       [237.21518532],\n",
       "       [236.00071446],\n",
       "       [233.19965265],\n",
       "       [234.71161749],\n",
       "       [236.00907006],\n",
       "       [253.60378792],\n",
       "       [252.2368135 ],\n",
       "       [218.69461606],\n",
       "       [204.81750443],\n",
       "       [207.46645789],\n",
       "       [207.87429673],\n",
       "       [205.56097297],\n",
       "       [205.95244028],\n",
       "       [206.01462883],\n",
       "       [208.46309139],\n",
       "       [206.3663447 ],\n",
       "       [202.20552602],\n",
       "       [207.07401494],\n",
       "       [201.9840879 ],\n",
       "       [198.82024294],\n",
       "       [185.94101236],\n",
       "       [182.04500731],\n",
       "       [176.08745932],\n",
       "       [183.47256145],\n",
       "       [182.62489406],\n",
       "       [203.44141053],\n",
       "       [204.70932793],\n",
       "       [207.17755675],\n",
       "       [203.08779511],\n",
       "       [203.90971921],\n",
       "       [172.04496372],\n",
       "       [177.3326538 ],\n",
       "       [173.42347057],\n",
       "       [174.65334465],\n",
       "       [190.40277896],\n",
       "       [238.69521778],\n",
       "       [232.25436711],\n",
       "       [212.32660574],\n",
       "       [232.34209145],\n",
       "       [235.05428526],\n",
       "       [229.75480857],\n",
       "       [215.74495714],\n",
       "       [215.82046675],\n",
       "       [215.3284647 ],\n",
       "       [207.56216458],\n",
       "       [212.37827032],\n",
       "       [209.59094545],\n",
       "       [213.15912638],\n",
       "       [217.49857069],\n",
       "       [266.71424236],\n",
       "       [265.14070805],\n",
       "       [273.61954618],\n",
       "       [244.44149499],\n",
       "       [239.38103127],\n",
       "       [238.65630794],\n",
       "       [184.42580144],\n",
       "       [187.45036598],\n",
       "       [189.30038436],\n",
       "       [189.3380867 ],\n",
       "       [222.24374511],\n",
       "       [222.49523155],\n",
       "       [213.22764874],\n",
       "       [216.85123595],\n",
       "       [225.23081516],\n",
       "       [222.89225041],\n",
       "       [224.62336873],\n",
       "       [223.78437777],\n",
       "       [226.48977607],\n",
       "       [224.1522756 ],\n",
       "       [221.24813698],\n",
       "       [220.9169485 ],\n",
       "       [208.86941744],\n",
       "       [209.12891078],\n",
       "       [208.76700938],\n",
       "       [213.87611388],\n",
       "       [206.56910384],\n",
       "       [201.99686489],\n",
       "       [205.12338184],\n",
       "       [209.72309009],\n",
       "       [274.80330702],\n",
       "       [271.99285878],\n",
       "       [275.24230079],\n",
       "       [228.33212329],\n",
       "       [223.75680709],\n",
       "       [172.78723505],\n",
       "       [173.15207613],\n",
       "       [172.94198636],\n",
       "       [174.95149633],\n",
       "       [177.72883256],\n",
       "       [172.56812308],\n",
       "       [174.44404265],\n",
       "       [176.65649966],\n",
       "       [216.63624085],\n",
       "       [274.98516507],\n",
       "       [275.70054938],\n",
       "       [269.83635398],\n",
       "       [241.71601643],\n",
       "       [241.51142649],\n",
       "       [275.70184297],\n",
       "       [234.70292425],\n",
       "       [245.20293082],\n",
       "       [247.48474453],\n",
       "       [295.65035105],\n",
       "       [294.72022898],\n",
       "       [194.60915125],\n",
       "       [264.79637233],\n",
       "       [263.17957995],\n",
       "       [435.66909934],\n",
       "       [432.74702447],\n",
       "       [431.77404629],\n",
       "       [430.38630136],\n",
       "       [429.08054508],\n",
       "       [429.37448851],\n",
       "       [430.97892631],\n",
       "       [429.597026  ],\n",
       "       [425.78855986],\n",
       "       [426.3710904 ],\n",
       "       [426.19979413],\n",
       "       [417.21006225],\n",
       "       [428.84883927],\n",
       "       [429.3746383 ],\n",
       "       [430.69130836],\n",
       "       [431.55010805],\n",
       "       [428.31012879],\n",
       "       [441.91994938],\n",
       "       [445.3666223 ],\n",
       "       [438.47031878],\n",
       "       [436.57286506],\n",
       "       [437.52785363],\n",
       "       [442.62593948],\n",
       "       [440.4634953 ],\n",
       "       [462.88515165],\n",
       "       [439.76391178],\n",
       "       [438.314721  ],\n",
       "       [438.14347597],\n",
       "       [434.37460977],\n",
       "       [442.65718091],\n",
       "       [444.87080998],\n",
       "       [443.54816257],\n",
       "       [440.42868656],\n",
       "       [437.03835102],\n",
       "       [435.17427965],\n",
       "       [431.55265113],\n",
       "       [439.34885444],\n",
       "       [434.50119041],\n",
       "       [436.84735882],\n",
       "       [435.83676051],\n",
       "       [435.32385134],\n",
       "       [436.26543599],\n",
       "       [450.54372914],\n",
       "       [432.19738051],\n",
       "       [444.86733405],\n",
       "       [439.16569536],\n",
       "       [436.08630276],\n",
       "       [441.99959471],\n",
       "       [443.28653235],\n",
       "       [457.72507617],\n",
       "       [439.84530407],\n",
       "       [430.8690631 ],\n",
       "       [432.00824936],\n",
       "       [423.16564692],\n",
       "       [420.14341161],\n",
       "       [413.01594338],\n",
       "       [418.00527888],\n",
       "       [430.4760988 ],\n",
       "       [432.69282598],\n",
       "       [416.50541951],\n",
       "       [410.94634761],\n",
       "       [423.59108045],\n",
       "       [432.55223924],\n",
       "       [409.77588907],\n",
       "       [431.05800487],\n",
       "       [429.05981061],\n",
       "       [426.85028317],\n",
       "       [406.52164693],\n",
       "       [402.73946174],\n",
       "       [412.09435029],\n",
       "       [403.05257591],\n",
       "       [414.58095735],\n",
       "       [411.67360967],\n",
       "       [413.69723269],\n",
       "       [411.41420718],\n",
       "       [413.96935859],\n",
       "       [408.17160651],\n",
       "       [411.82696711],\n",
       "       [415.63691979],\n",
       "       [417.67865085],\n",
       "       [410.92528801],\n",
       "       [413.48885604],\n",
       "       [417.29882869],\n",
       "       [437.31115748],\n",
       "       [440.91081592],\n",
       "       [436.49513462],\n",
       "       [435.33490837],\n",
       "       [436.87232516],\n",
       "       [427.99432545],\n",
       "       [412.77732001],\n",
       "       [429.69429383],\n",
       "       [435.81526371],\n",
       "       [437.1246376 ],\n",
       "       [430.00307166],\n",
       "       [406.21723648],\n",
       "       [432.65277836],\n",
       "       [433.38625491],\n",
       "       [435.18087786],\n",
       "       [408.44917161],\n",
       "       [408.38867191],\n",
       "       [406.00582704],\n",
       "       [404.91466362],\n",
       "       [424.70301097],\n",
       "       [433.01535108],\n",
       "       [423.50945954],\n",
       "       [432.13393322],\n",
       "       [432.53648241],\n",
       "       [432.22082189],\n",
       "       [429.70414804],\n",
       "       [420.76201661],\n",
       "       [405.59418316],\n",
       "       [430.9638518 ],\n",
       "       [432.71916476],\n",
       "       [430.2249633 ],\n",
       "       [432.73259631],\n",
       "       [432.70912799],\n",
       "       [429.92385738],\n",
       "       [426.58441686],\n",
       "       [432.84486321],\n",
       "       [430.67480008],\n",
       "       [434.75511188],\n",
       "       [437.17102122],\n",
       "       [435.65591796],\n",
       "       [434.14418524],\n",
       "       [428.42212135],\n",
       "       [429.00201318],\n",
       "       [429.42223613],\n",
       "       [423.12510287],\n",
       "       [422.26055482],\n",
       "       [425.23974805],\n",
       "       [432.17243681],\n",
       "       [425.37940448],\n",
       "       [451.16869418],\n",
       "       [450.19203606],\n",
       "       [450.02463205],\n",
       "       [451.97579331],\n",
       "       [448.51399572],\n",
       "       [265.01420428],\n",
       "       [263.5037766 ],\n",
       "       [262.25780848],\n",
       "       [271.49441961],\n",
       "       [269.07893446],\n",
       "       [267.38652766],\n",
       "       [269.35598671],\n",
       "       [270.45838923],\n",
       "       [204.58263514],\n",
       "       [205.91508389],\n",
       "       [207.43156891],\n",
       "       [207.31156854],\n",
       "       [206.46173397]])"
      ]
     },
     "execution_count": 16,
     "metadata": {},
     "output_type": "execute_result"
    }
   ],
   "source": [
    "df_matrix.dot(weight_vector)"
   ]
  },
  {
   "cell_type": "markdown",
   "metadata": {},
   "source": [
    "# Linear Algebra Concepts"
   ]
  },
  {
   "cell_type": "markdown",
   "metadata": {},
   "source": [
    "## Vector"
   ]
  },
  {
   "cell_type": "markdown",
   "metadata": {},
   "source": [
    "<img src=\"./img/linear_algebra_1.png\" width=\"400\" style=\"float: left\">"
   ]
  },
  {
   "cell_type": "markdown",
   "metadata": {},
   "source": [
    "<img src=\"./img/scalar_product.png\" width=\"400\" style=\"float:left\">"
   ]
  },
  {
   "cell_type": "markdown",
   "metadata": {},
   "source": [
    "## Matrix"
   ]
  },
  {
   "cell_type": "markdown",
   "metadata": {},
   "source": [
    "<img src=\"./img/matrix_type.png\" width=\"400\" style=\"float:left\">"
   ]
  },
  {
   "cell_type": "markdown",
   "metadata": {},
   "source": [
    "### Equality of Matrices\n",
    "If aij is an element of matrix A and bij is element of matrix B, then the matrix A and B are equal only if a = b for all i and j values. Two matrices to be equal, their order must be the same. If two matrices have their corresponding elements equal, then they are called equal matrices."
   ]
  },
  {
   "cell_type": "markdown",
   "metadata": {},
   "source": [
    "<img src=\"./img/scalar_matrix.png\" width=\"400\" style=\"float:left\">"
   ]
  },
  {
   "cell_type": "markdown",
   "metadata": {},
   "source": [
    "<img src=\"./img/transpose.png\" width=\"500\" style=\"float:left\">"
   ]
  },
  {
   "cell_type": "markdown",
   "metadata": {},
   "source": [
    "<img src=\"./img/transpose_prop.png\" width=700 style=\"float:left\">"
   ]
  },
  {
   "cell_type": "markdown",
   "metadata": {},
   "source": [
    "### Matrix Multiplication"
   ]
  },
  {
   "attachments": {},
   "cell_type": "markdown",
   "metadata": {},
   "source": [
    "<img src=\"./img/matrix_mult.png\" width=\"500\" style=\"float:left\">"
   ]
  },
  {
   "cell_type": "markdown",
   "metadata": {},
   "source": [
    "# Linear Algebra with Python"
   ]
  },
  {
   "cell_type": "markdown",
   "metadata": {},
   "source": [
    "## Vector Representation of Python"
   ]
  },
  {
   "cell_type": "code",
   "execution_count": 2,
   "metadata": {},
   "outputs": [
    {
     "name": "stdout",
     "output_type": "stream",
     "text": [
      "[1, 2, 10] (1, 2, 10) {'x': 1, 'y': 2, 'z': 10}\n"
     ]
    }
   ],
   "source": [
    "vector_a = [1, 2, 10] # list \n",
    "vector_b = (1, 2, 10) # tuple\n",
    "vector_c = {'x':1, 'y':2, 'z':10} #dict\n",
    "\n",
    "print(vector_a, vector_b, vector_c) #anything is possible"
   ]
  },
  {
   "cell_type": "code",
   "execution_count": 3,
   "metadata": {},
   "outputs": [
    {
     "data": {
      "text/plain": [
       "[7, 10]"
      ]
     },
     "execution_count": 3,
     "metadata": {},
     "output_type": "execute_result"
    }
   ],
   "source": [
    "# vector addition\n",
    "u = [2, 2]\n",
    "v = [2, 3]\n",
    "z = [3, 5]\n",
    "\n",
    "result = [sum(t) for t in zip(u,v,z)]\n",
    "result"
   ]
  },
  {
   "cell_type": "code",
   "execution_count": 4,
   "metadata": {},
   "outputs": [
    {
     "data": {
      "text/plain": [
       "[10, 12, 14]"
      ]
     },
     "execution_count": 4,
     "metadata": {},
     "output_type": "execute_result"
    }
   ],
   "source": [
    "# scalar-vector product\n",
    "u = [1, 2, 3]\n",
    "v = [4, 4, 4]\n",
    "alpha = 2\n",
    "\n",
    "result = [alpha*sum(t) for t in zip(u,v)]\n",
    "result"
   ]
  },
  {
   "cell_type": "markdown",
   "metadata": {},
   "source": [
    "## Matrix Representation of Python"
   ]
  },
  {
   "cell_type": "code",
   "execution_count": 5,
   "metadata": {},
   "outputs": [],
   "source": [
    "matrix_a = [[3,6], [4,5]] # list \n",
    "matrix_b = [(3,6), (4,5)] # tuple\n",
    "matrix_c = {(0,0):3, (0,1):6, (1,0):4, (1,1):5} #dict"
   ]
  },
  {
   "cell_type": "code",
   "execution_count": 6,
   "metadata": {},
   "outputs": [
    {
     "data": {
      "text/plain": [
       "[[8, 14], [10, 12]]"
      ]
     },
     "execution_count": 6,
     "metadata": {},
     "output_type": "execute_result"
    }
   ],
   "source": [
    "# matrix addition: \n",
    "# zip rows first and then zip elements\n",
    "matrix_a = [[3,6], [4,5]]\n",
    "matrix_b = [[5,8], [6,7]]\n",
    "result = [[sum(row) for row in zip(*t)] for t in zip(matrix_a, matrix_b)]\n",
    "\n",
    "result"
   ]
  },
  {
   "cell_type": "code",
   "execution_count": 11,
   "metadata": {},
   "outputs": [
    {
     "data": {
      "text/plain": [
       "[[12, 24], [16, 20]]"
      ]
     },
     "execution_count": 11,
     "metadata": {},
     "output_type": "execute_result"
    }
   ],
   "source": [
    "# scalar-matrix product\n",
    "matrix_a = [[3,6], [4,5]]\n",
    "alpha = 4\n",
    "result = [[alpha * element for element in t] for t in matrix_a]\n",
    "\n",
    "result"
   ]
  },
  {
   "cell_type": "code",
   "execution_count": 13,
   "metadata": {},
   "outputs": [
    {
     "data": {
      "text/plain": [
       "[[1, 4], [2, 5], [3, 6]]"
      ]
     },
     "execution_count": 13,
     "metadata": {},
     "output_type": "execute_result"
    }
   ],
   "source": [
    "# matrix transpose\n",
    "matrix_a = [[1,2,3], [4,5,6]]\n",
    "result = [[element for element in t] for t in zip(*matrix_a)]\n",
    "# [t for t in zip(*matrix_a)] -> [(1,4), (2,5), (3,6)]\n",
    "result"
   ]
  },
  {
   "cell_type": "code",
   "execution_count": 17,
   "metadata": {},
   "outputs": [
    {
     "data": {
      "text/plain": [
       "[[5, 8], [5, 6]]"
      ]
     },
     "execution_count": 17,
     "metadata": {},
     "output_type": "execute_result"
    }
   ],
   "source": [
    "# matrix product\n",
    "matrix_a = [[1,1,2], [2,1,1]]\n",
    "matrix_b = [[1,1], [2,1], [1,3]]\n",
    "result = [[sum(a*b for a,b in zip(row_a, column_b)) \n",
    "           for column_b in zip(*matrix_b)] for row_a in matrix_a]\n",
    "\n",
    "result"
   ]
  },
  {
   "cell_type": "code",
   "execution_count": 19,
   "metadata": {},
   "outputs": [
    {
     "data": {
      "text/plain": [
       "[[1, 1, 2], [2, 1, 1]]"
      ]
     },
     "execution_count": 19,
     "metadata": {},
     "output_type": "execute_result"
    }
   ],
   "source": [
    "#row단위로 뺄때 zip(matrix)\n",
    "[row_a for row_a in matrix_a]"
   ]
  },
  {
   "cell_type": "code",
   "execution_count": 21,
   "metadata": {},
   "outputs": [
    {
     "data": {
      "text/plain": [
       "[(1, 2, 1), (1, 1, 3)]"
      ]
     },
     "execution_count": 21,
     "metadata": {},
     "output_type": "execute_result"
    }
   ],
   "source": [
    "#column단위로 뺄때 zip(*matrix)\n",
    "[column_b for column_b in zip(*matrix_b)]"
   ]
  },
  {
   "cell_type": "code",
   "execution_count": 26,
   "metadata": {},
   "outputs": [
    {
     "name": "stdout",
     "output_type": "stream",
     "text": [
      "[1, 1, 2] (1, 2, 1)\n",
      "[2, 1, 1] (1, 1, 3)\n"
     ]
    }
   ],
   "source": [
    "row_a = [row_a for row_a in matrix_a]\n",
    "column_b = [column_b for column_b in zip(*matrix_b)]\n",
    "for a,b in zip(row_a, column_b):\n",
    "    print(a,b)"
   ]
  },
  {
   "cell_type": "markdown",
   "metadata": {},
   "source": [
    "## for n vectors"
   ]
  },
  {
   "cell_type": "code",
   "execution_count": 36,
   "metadata": {},
   "outputs": [],
   "source": [
    "def vector_addition(*args):\n",
    "    return [sum(t) for t in zip(*args)]"
   ]
  },
  {
   "cell_type": "code",
   "execution_count": 37,
   "metadata": {},
   "outputs": [
    {
     "data": {
      "text/plain": [
       "[6, 9]"
      ]
     },
     "execution_count": 37,
     "metadata": {},
     "output_type": "execute_result"
    }
   ],
   "source": [
    "vector_addition([1,2],[2,3],[3,4])"
   ]
  }
 ],
 "metadata": {
  "kernelspec": {
   "display_name": "Python 3",
   "language": "python",
   "name": "python3"
  },
  "language_info": {
   "codemirror_mode": {
    "name": "ipython",
    "version": 3
   },
   "file_extension": ".py",
   "mimetype": "text/x-python",
   "name": "python",
   "nbconvert_exporter": "python",
   "pygments_lexer": "ipython3",
   "version": "3.7.1"
  }
 },
 "nbformat": 4,
 "nbformat_minor": 2
}
