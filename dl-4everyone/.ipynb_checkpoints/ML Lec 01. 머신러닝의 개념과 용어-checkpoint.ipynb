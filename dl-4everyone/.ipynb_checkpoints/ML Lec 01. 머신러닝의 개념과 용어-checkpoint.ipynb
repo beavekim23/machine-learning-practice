{
 "cells": [
  {
   "cell_type": "markdown",
   "metadata": {},
   "source": [
    "# 1. Basic Concepts"
   ]
  },
  {
   "cell_type": "markdown",
   "metadata": {},
   "source": [
    "- What is ML?  \n",
    "- What is learning?  \n",
    "    - supervised  \n",
    "    - unsupervised  \n",
    "- What is regression?  \n",
    "- What is classification?"
   ]
  },
  {
   "cell_type": "markdown",
   "metadata": {},
   "source": [
    "## 1.1 What is ML?"
   ]
  },
  {
   "cell_type": "markdown",
   "metadata": {},
   "source": [
    "- Limitations of explicit programming  \n",
    "    - Spam filter: many rules  \n",
    "    - Automatic driving: too many rules  \n",
    "- 따라서 ML의 필요성을 가지게 됨\n",
    "- Machine learning: \"Field of study that gives cumputers the ability to learn without being explicitly programmed\" Arthur Samuel(1959)"
   ]
  },
  {
   "cell_type": "markdown",
   "metadata": {},
   "source": [
    "## 1.2 Supervised/Unsupervised Learning"
   ]
  },
  {
   "cell_type": "markdown",
   "metadata": {},
   "source": [
    "- Supervised learning:  \n",
    "    - learning with labeled examples(training set)  \n",
    "    - ex) 고양이 사진들을 주고 학습한 뒤 고양이 인식\n",
    "- Unsupervised learning:  \n",
    "    - data에 label을 줄 수 없는 경우 data를 보고 스스로 학습할 수 있게 함\n",
    "    - Google news grouping (유사한 기사 모으기)    \n",
    "    - Word Clustering"
   ]
  },
  {
   "cell_type": "markdown",
   "metadata": {},
   "source": [
    "### 1.2.1 Supervised Learning\n",
    "- Most common problem type in ML  \n",
    "    - Image labeling: learning from tagged images  \n",
    "    - Email spam filter: learning from labeled (spam or ham) email  \n",
    "    - Predicting exam score: learning from previous exam score and time spent  \n",
    "- Types of supervised learning  \n",
    "    - Predicting final exam score based on time spent  \n",
    "        - regression  \n",
    "    - Pass/non-pass based on time spent  \n",
    "        - binary classification  \n",
    "    - Letter grade (A, B, C, D, E and F) based on time spent  \n",
    "        - multi-label classification  "
   ]
  }
 ],
 "metadata": {
  "kernelspec": {
   "display_name": "Python 3",
   "language": "python",
   "name": "python3"
  },
  "language_info": {
   "codemirror_mode": {
    "name": "ipython",
    "version": 3
   },
   "file_extension": ".py",
   "mimetype": "text/x-python",
   "name": "python",
   "nbconvert_exporter": "python",
   "pygments_lexer": "ipython3",
   "version": "3.7.1"
  }
 },
 "nbformat": 4,
 "nbformat_minor": 2
}
