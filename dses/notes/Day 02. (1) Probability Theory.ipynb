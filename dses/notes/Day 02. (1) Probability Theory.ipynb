{
 "cells": [
  {
   "cell_type": "markdown",
   "metadata": {},
   "source": [
    "# Basic Probability Theory\n",
    "---"
   ]
  },
  {
   "cell_type": "markdown",
   "metadata": {},
   "source": [
    "## Deterministic Model(결정모형) vs Probability Model(확률모형)\n",
    "\n",
    "-\tDeterministic Model (결정모형)\n",
    "    -\t어떤 현상에 대한 과학적 연구에 있어서 그 현상이 지니고 있는 성격 또는 특징에 대한 정확한 기술이나 예측을 하기 위한 수리적 모형\n",
    "\t-\t예를 들면, 어떤 높은 지점에서 물체를 자유낙하 시켰을때 시점 $t$에서의 낙하속도 $v=gt$\n",
    "\t-\t몇 번이고 물체의 자유낙하를 반복 시행하더라도 중력과 시점이 같으면 언제나 같은 속도가 구해진다.  \n",
    "\n",
    "-\tProbability Model (확률모형)\n",
    "\n",
    "\t-\t반복시행 때마다 나오는 결과가 chance에 의존하는 유형\n",
    "\t-\t예를 들면, 동전을 반복하여 10회 던졌을 떄 앞면이 나오는 횟수는 고정되어 있는 것이 아니라 chance에 의해 결정  \n",
    "\t-\tStatistical regularity를 규명하기 위하여 고려되는 모델  \n",
    "---"
   ]
  },
  {
   "cell_type": "markdown",
   "metadata": {},
   "source": [
    "## Basic Concepts for Probability Model\n",
    "-\tExperiment (실험) 어떤 현상의 관찰결과를 얻기 위한 과정 Every probabilistic model involves an underlying process, called the **experiment**, that will produce exactly one out of several possible **outcomes**.\n",
    "\n",
    "-\tSample Space, $S$ (표본공간) 모든 관찰 가능한 결과의 집합 The set of all possible outcomes is called the **sample space** of the experiment.\n",
    "\n",
    "-\tEvent (사건) 표본공간의 부분집합 A subset of the sample space, that is, a collection of possible outcomes, is called an **event**.\n",
    "---"
   ]
  },
  {
   "cell_type": "markdown",
   "metadata": {},
   "source": [
    "## Union / Intersection of Events\n",
    "Event A,B가 동일 Sample space S 상에 정의  \n",
    "- Union (합집합) $A \\cup B$  \n",
    " Event $A$ 또는 $B$ 에 속하는 사건  \n",
    "- Intersection (교집합) $A \\cap B$  \n",
    " Event $A$ 와 $B$ 에 동시에 속하는 사건  \n",
    "\n",
    "---"
   ]
  },
  {
   "cell_type": "markdown",
   "metadata": {},
   "source": [
    "## Disjoint / Complement of Events\n",
    "Event A,B가 동일 Sample space $S$ 상에 정의  \n",
    "- Disjoint $A \\cap B= \\emptyset$ Two sets are said to be disjoint if their intersection is empty.  \n",
    "- Complement $A^C$ The complement of a set $A$ refers to elements not in $A$.  \n",
    "\n",
    "---"
   ]
  },
  {
   "cell_type": "markdown",
   "metadata": {},
   "source": [
    "## 확률의 종류\n",
    "1.\t등확률  \n",
    "2.\t상대 도수(relative frequency)의 극한  \n",
    "3.\t주관적 확률 (Bayesian 통계)  \n",
    "\n",
    "---"
   ]
  },
  {
   "cell_type": "markdown",
   "metadata": {},
   "source": [
    "## 등확률\n",
    "-\t확률을 정의하는 가장 오래된 방법\n",
    "\n",
    "-\tSample space가 유한개($N$)의 결과들로 구성되고, 모든 가능한 실험결과들이 등확률로 일어나는 경우에 적용\n",
    "\n",
    "-\t사건 $A$가 $M$개의 실험결과를 포함한다면 사건 $A$가 일어날 확률, $P(A) = {M \\over N}$이 된다는 것이다.\n",
    "\n",
    "-\t등확률로 확률을 정의하는 것이 곤란한 이유\n",
    "\n",
    "\t-\tSample space에 속한 elements가 무한개가 되는 경우가 있다.  \n",
    "\t-\t모두 같은 확률을 갖는다는 가정이 맞지 않는 경우가 있다.    \n",
    "    \n",
    "---"
   ]
  },
  {
   "cell_type": "markdown",
   "metadata": {},
   "source": [
    "## 상대 도수(relative frequency)의 극한\n",
    "-\t가장 널리 받아들여지는 확률의 해석  \n",
    "-\t실험을 같은 조건에서 독립적으로 $n$회 반복하였을 때, 사건 $A$의 발생횟수를 $m$이라 하자. $m \\over n$의 값은 비 결정적이긴하지만 시행횟수 $n$이 커짐에 따라 안정될 것으로 예상할 수 있다. 따라서 **실험을 무한히 반복한다는 가정하에서 상대도수 $m \\over n$의 극한값을 사건 $A$가 일어날 확률** $P(A)$ **로 정의**    \n",
    "\n",
    "---"
   ]
  },
  {
   "cell_type": "markdown",
   "metadata": {},
   "source": [
    "## 주관적 확률 (Bayesian 통계)\n",
    "-\t확률을 불확실성의 측도로 보는 접근방법  \n",
    "-\t$P(A)$ 는 $A$ 라는 사건이 일어나는 것에 대한 개개인의 믿음의 수준을 표현\n",
    "\n",
    "\t-\t예를 들어, 미국 대통령 선거에서, 공화당이 승리할 확률은 사람마다 확률이 다를 것이다. 왜냐하면 개인적인 평가나 지식, 그리고 개인이 가지고 있는 정보 상태가 모두 다르기 때문이다.  \n",
    "  \n",
    "---"
   ]
  },
  {
   "cell_type": "markdown",
   "metadata": {},
   "source": [
    "## Axioms of Probability (확률공리)\n",
    "<img src=\"../img/prob_axiom1.png\" width=\"400\" style=\"float:left\">  "
   ]
  },
  {
   "cell_type": "markdown",
   "metadata": {},
   "source": [
    "<img src=\"../img/prob_axiom2.png\" width=\"400\" style=\"float:left\"> "
   ]
  },
  {
   "cell_type": "markdown",
   "metadata": {},
   "source": [
    "---\n",
    "\n",
    "## Properties of Probability Laws (확률의 성질)\n",
    "<img src=\"../img/prob_props2.png\" width=\"400\" style=\"float:left\">"
   ]
  },
  {
   "cell_type": "markdown",
   "metadata": {},
   "source": [
    "<img src=\"../img/prob_props1.png\" width=\"500\" style=\"float:left\">  \n",
    "\n",
    "---"
   ]
  },
  {
   "cell_type": "markdown",
   "metadata": {},
   "source": [
    "---\n",
    "\n",
    "## Conditional Probability (조건부 확률)\n",
    "<img src=\"../img/conditional_def.png\" width=\"400\" style=\"float:left\">"
   ]
  },
  {
   "cell_type": "markdown",
   "metadata": {},
   "source": [
    "<img src=\"../img/conditional_prop.png\" width=\"500\" style=\"float:left\">"
   ]
  },
  {
   "cell_type": "markdown",
   "metadata": {},
   "source": [
    "---\n",
    "\n",
    "## Multiplication Rule\n",
    "<img src=\"../img/multi_rule1.png\" width=\"400\" style=\"float:left\">"
   ]
  },
  {
   "cell_type": "markdown",
   "metadata": {},
   "source": [
    "<img src=\"../img/multi_rule2.png\" width=\"500\" style=\"float:left\">"
   ]
  },
  {
   "cell_type": "markdown",
   "metadata": {},
   "source": [
    "---\n",
    "\n",
    "## Total Probability Theorem (전확률 공식)\n",
    "전확률 공식은 조건부 확률로부터 유래하며, Bayes' Rule에 사용하는 공식이다.  \n",
    "<img src=\"../img/bayes_rule1.png\" width=\"400\" style=\"float:left\">  "
   ]
  },
  {
   "cell_type": "markdown",
   "metadata": {},
   "source": [
    "<img src=\"../img/total_prob_rule.png\" width=\"500\" style=\"float:left\">"
   ]
  },
  {
   "cell_type": "markdown",
   "metadata": {},
   "source": [
    "---\n",
    "\n",
    "## Bayes' Rule\n",
    "<img src=\"../img/bayes_rule2.png\" width=\"400\" style=\"float:left\">"
   ]
  },
  {
   "cell_type": "markdown",
   "metadata": {},
   "source": [
    "<img src=\"../img/bayes_rule3.png\" width=\"500\" style=\"float:left\">"
   ]
  },
  {
   "cell_type": "markdown",
   "metadata": {},
   "source": [
    "---\n",
    "\n",
    "## Odds (오즈)\n",
    "새로운 증거가 나타날 때 어떤 가설에 대한 확률의 변화는 이 가설의 오즈 또는 승산에 있어서의 변화로 표현될 수 있다. 오즈는 *로지스틱 회귀분석* 을 이해하는데 필요한 이론이다.  \n",
    "\n",
    "<img src=\"../img/prob_odds.png\" width=\"400\" style=\"float:left\">"
   ]
  },
  {
   "cell_type": "markdown",
   "metadata": {},
   "source": [
    "---\n",
    "\n",
    "## Independence (독립사건)\n",
    "When the equality below holds, we say that $A$ is **independent** of $B$.  \n",
    " $P(A|B) = P(A)$  \n",
    " \n",
    "---"
   ]
  },
  {
   "cell_type": "markdown",
   "metadata": {},
   "source": [
    "## Conditional Independence (조건부 독립)\n",
    "-\t사건 $Z$가 주어졌을 때, 사건 $X$가, 사건 $Y$에 대하여 조건부 독립이 되기 위한 조건:  \n",
    "\t$P(X|Y \\cap Z) = P(X|Z)$  \n",
    "-\t$P(X|Y \\cap Z) = P(X|Z) \\Leftrightarrow P(X \\cap Y|Z) = P(X|Z)P(Y|Z)$   \n",
    "\n",
    "---"
   ]
  },
  {
   "cell_type": "markdown",
   "metadata": {},
   "source": [
    "## 경우의 수 (Number of Cases)\n",
    "- 확률의 종류 중 등확률을 고려  \n",
    "    - 유한개의 원소로 이루어진 표본공간을 형성하는 실험들의 모든 가능한 원소가 발생할 확률이 동일하다고 가정  \n",
    "- 어떤 사건 $A$ 가 일어날 확률 $P(A)$ 를 정의  \n",
    "    - $n(A)$ : 사건 $A$ 가 발생할 수 있는 경우의 수  \n",
    "    - $N$ : 모든 가능한 경우의 수  \n",
    "    - $P(A)$ : $n(A) / N$  \n",
    "    \n",
    "---"
   ]
  },
  {
   "cell_type": "markdown",
   "metadata": {},
   "source": [
    "## Multiplication Rule (곱의 법칙)\n",
    "- 사건 $A$ 가 일어나는 방법이 $m$ 가지이고, 그 각각에 대하여 사건 $B$ 가 일어나는 방법이 $n$ 가지이면, 사건 $A$ 와 $B$ 가 동시에 일어나는 방법은 $m \\times n$ 이다.  \n",
    "\n",
    "---"
   ]
  },
  {
   "cell_type": "markdown",
   "metadata": {},
   "source": [
    "## Permutation (순열)\n",
    "- 서로 다른 $n$개의 원소 중에서 $r$개를 선택하여 **순서 있게(oredered)** 늘어놓은 것을 $n$개에서 $r$개 택한 순열(permutation)이라고 하고, 늘어놓는 경우의 수를 $nPr$로 표현한다.   \n",
    "    $_n\\mathrm{P}_{r}=n(n-1)(n-2)\\times\\cdots\\times(n-r+1)={{n!}\\over{(n-r)!}}$  \n",
    "    \n",
    "---"
   ]
  },
  {
   "cell_type": "markdown",
   "metadata": {},
   "source": [
    "## Combination (조합)\n",
    "- 서로 다른 $n$개의 원소 중에서 **순서에 관계없이** $r$개를 선택할 때 이 $r$개로 이루어진 각각의 집합을 $n$개에서 $r$개 택한 조합(combination)이라고 하고, 선택하는 조합의 수를 $_n\\mathrm{C}_{r}$ 또는 $n\\choose r$로 표현한다.  \n",
    "    $_n\\mathrm{C}_{r} = {n\\choose r} = {{_n\\mathrm{P}_{r}} \\over {r!}} = {{n!} \\over {r!(n-r)!}}$  \n",
    "    \n",
    "---"
   ]
  },
  {
   "cell_type": "markdown",
   "metadata": {},
   "source": [
    "## 다항계수\n",
    "- $n$개의 서로 다른 대상물을 크기가 각각 $n_1,n_2, \\cdots ,n_r$ 인 $r$ 개의 그룹으로 분할하는 가능한 방법의 개수, 다항계수 또는 multinomial coefficient라고 한다.  \n",
    "$n_1+n_2+ \\cdots +n_r = n$ 일 때, \n",
    "<br/>\n",
    "    ${{n} \\choose {n_1,n_2,\\cdots,n_r}}={{n!} \\over {n_1!n_2!\\cdots n_r!}}$   \n",
    "    \n",
    "---"
   ]
  }
 ],
 "metadata": {
  "kernelspec": {
   "display_name": "Python 3",
   "language": "python",
   "name": "python3"
  },
  "language_info": {
   "codemirror_mode": {
    "name": "ipython",
    "version": 3
   },
   "file_extension": ".py",
   "mimetype": "text/x-python",
   "name": "python",
   "nbconvert_exporter": "python",
   "pygments_lexer": "ipython3",
   "version": "3.7.1"
  }
 },
 "nbformat": 4,
 "nbformat_minor": 2
}
